{
 "cells": [
  {
   "cell_type": "code",
   "execution_count": 101,
   "id": "d321d65c-3557-4952-898b-504f50e7276e",
   "metadata": {},
   "outputs": [
    {
     "name": "stdout",
     "output_type": "stream",
     "text": [
      "The autoreload extension is already loaded. To reload it, use:\n",
      "  %reload_ext autoreload\n"
     ]
    }
   ],
   "source": [
    "%matplotlib inline\n",
    "\n",
    "from hydra import initialize, compose\n",
    "from omegaconf import OmegaConf \n",
    "\n",
    "import dr_gen.utils.run as ru\n",
    "import dr_gen.utils.display as dsp\n",
    "\n",
    "from dr_gen.analyze.run_group import RunGroup\n",
    "import dr_gen.analyze.result_plotting as rplt\n",
    "\n",
    "%load_ext autoreload\n",
    "%autoreload 2"
   ]
  },
  {
   "cell_type": "markdown",
   "id": "367faf00-0b9f-4f3f-8ee6-bc274ba8bbbd",
   "metadata": {},
   "source": [
    "### Setup Config and Generator"
   ]
  },
  {
   "cell_type": "code",
   "execution_count": 2,
   "id": "e5d1f859-9a7a-4e0f-a45a-e7923d8c3532",
   "metadata": {},
   "outputs": [],
   "source": [
    "with initialize(config_path=\"../configs/\", version_base=None):\n",
    "    cfg = compose(\n",
    "        config_name=\"config.yaml\",\n",
    "        overrides=[\n",
    "            \"paths=mac\",\n",
    "        ]\n",
    "    )"
   ]
  },
  {
   "cell_type": "code",
   "execution_count": 3,
   "id": "86607e2f-ff9c-43d2-a52f-935b50530165",
   "metadata": {},
   "outputs": [],
   "source": [
    "generator = ru.set_deterministic(cfg.seed)"
   ]
  },
  {
   "cell_type": "code",
   "execution_count": 4,
   "id": "f4a14155-6864-495f-ac9d-aaa29bfc1d89",
   "metadata": {},
   "outputs": [
    {
     "name": "stdout",
     "output_type": "stream",
     "text": [
      "root: /Users/daniellerothermel/drotherm\n",
      "proj_dir_name: dr_gen\n",
      "data: /Users/daniellerothermel/drotherm/data\n",
      "logs: /Users/daniellerothermel/drotherm/logs\n",
      "my_data: /Users/daniellerothermel/drotherm/data/dr_gen\n",
      "my_logs: /Users/daniellerothermel/drotherm/logs/dr_gen\n",
      "run_dir: /Users/daniellerothermel/drotherm/logs/dr_gen/bs500/lr0.1/wd0.0001/s0/2025-04-03/10-22-1743690172\n",
      "dataset_cache_root: /Users/daniellerothermel/drotherm/data/cifar10/\n",
      "agg_results: /Users/daniellerothermel/drotherm/data/dr_gen/cifar10/cluster_runs/lr_wd_init_v0\n",
      "\n"
     ]
    }
   ],
   "source": [
    "print(OmegaConf.to_yaml(OmegaConf.to_container(cfg.paths, resolve=True)))"
   ]
  },
  {
   "cell_type": "markdown",
   "id": "39d79f98-ee51-4a75-897a-ad5209011490",
   "metadata": {},
   "source": [
    "### Load, Disect and Filter Sweep"
   ]
  },
  {
   "cell_type": "code",
   "execution_count": 5,
   "id": "93b2dc12-0933-46f3-afe7-4aea02956208",
   "metadata": {},
   "outputs": [
    {
     "name": "stdout",
     "output_type": "stream",
     "text": [
      ">> 0 / 1288 files failed parsing\n",
      ">> Updated hpm sweep info\n"
     ]
    }
   ],
   "source": [
    "rg = RunGroup()\n",
    "rg.load_runs_from_base_dir(cfg.paths.agg_results)"
   ]
  },
  {
   "cell_type": "code",
   "execution_count": 6,
   "id": "bf880b74-65e7-45a9-a31c-41af1b133291",
   "metadata": {},
   "outputs": [
    {
     "name": "stdout",
     "output_type": "stream",
     "text": [
      ">> Ignoring rid: 1287\n",
      ">> Updated hpm sweep info\n"
     ]
    }
   ],
   "source": [
    "rg.ignore_runs_by_hpms(epochs=180)"
   ]
  },
  {
   "cell_type": "code",
   "execution_count": 7,
   "id": "38c15754-ce55-44ab-80a0-b2f7db9bff4d",
   "metadata": {},
   "outputs": [
    {
     "name": "stdout",
     "output_type": "stream",
     "text": [
      "+------+------------+\n",
      "| Key  |   Values   |\n",
      "+------+------------+\n",
      "| Init | pretrained |\n",
      "|      |   random   |\n",
      "+------+------------+\n",
      "|  WD  |  6.3e-05   |\n",
      "|      |   1e-05    |\n",
      "|      |  0.00016   |\n",
      "|      |   0.0001   |\n",
      "|      |  0.00025   |\n",
      "|      |   4e-05    |\n",
      "+------+------------+\n",
      "|  LR  |    0.16    |\n",
      "|      |    0.04    |\n",
      "|      |    0.25    |\n",
      "|      |    0.2     |\n",
      "|      |    0.06    |\n",
      "|      |    0.1     |\n",
      "|      |    0.01    |\n",
      "+------+------------+\n"
     ]
    }
   ],
   "source": [
    "print(dsp.make_table(*rg.get_swept_table_data()))"
   ]
  },
  {
   "cell_type": "code",
   "execution_count": 8,
   "id": "24823507-7ea6-4a93-a3c1-9c3a1480fbd7",
   "metadata": {},
   "outputs": [
    {
     "name": "stdout",
     "output_type": "stream",
     "text": [
      ">> Current Sweep, Ready to Analyze:\n",
      "+------------+------+---------+-------+\n",
      "|    Init    |  LR  |    WD   | Count |\n",
      "+------------+------+---------+-------+\n",
      "| pretrained | 0.04 |  0.0001 |   20  |\n",
      "| pretrained | 0.04 | 0.00016 |   20  |\n",
      "| pretrained | 0.04 | 0.00025 |   20  |\n",
      "| pretrained | 0.04 |  4e-05  |   20  |\n",
      "| pretrained | 0.04 | 6.3e-05 |   20  |\n",
      "| pretrained | 0.06 |  0.0001 |   20  |\n",
      "| pretrained | 0.06 | 0.00016 |   20  |\n",
      "| pretrained | 0.06 | 0.00025 |   20  |\n",
      "| pretrained | 0.06 |  4e-05  |   20  |\n",
      "| pretrained | 0.06 | 6.3e-05 |   20  |\n",
      "| pretrained | 0.1  |  0.0001 |  103  |\n",
      "| pretrained | 0.1  | 0.00016 |   20  |\n",
      "| pretrained | 0.1  | 0.00025 |   20  |\n",
      "| pretrained | 0.1  |  4e-05  |   20  |\n",
      "| pretrained | 0.1  | 6.3e-05 |   20  |\n",
      "| pretrained | 0.16 |  0.0001 |   20  |\n",
      "| pretrained | 0.16 | 0.00016 |   20  |\n",
      "| pretrained | 0.16 | 0.00025 |   20  |\n",
      "| pretrained | 0.16 |  4e-05  |   20  |\n",
      "| pretrained | 0.16 | 6.3e-05 |   20  |\n",
      "| pretrained | 0.25 |  0.0001 |   20  |\n",
      "| pretrained | 0.25 | 0.00016 |   20  |\n",
      "| pretrained | 0.25 | 0.00025 |   20  |\n",
      "| pretrained | 0.25 |  4e-05  |   20  |\n",
      "| pretrained | 0.25 | 6.3e-05 |   20  |\n",
      "|   random   | 0.04 |  0.0001 |   20  |\n",
      "|   random   | 0.04 | 0.00016 |   20  |\n",
      "|   random   | 0.04 | 0.00025 |   20  |\n",
      "|   random   | 0.04 |  4e-05  |   20  |\n",
      "|   random   | 0.04 | 6.3e-05 |   20  |\n",
      "|   random   | 0.06 |  0.0001 |   20  |\n",
      "|   random   | 0.06 | 0.00016 |   20  |\n",
      "|   random   | 0.06 | 0.00025 |   20  |\n",
      "|   random   | 0.06 |  4e-05  |   20  |\n",
      "|   random   | 0.06 | 6.3e-05 |   20  |\n",
      "|   random   | 0.1  |  0.0001 |   99  |\n",
      "|   random   | 0.1  | 0.00016 |   20  |\n",
      "|   random   | 0.1  | 0.00025 |   20  |\n",
      "|   random   | 0.1  |  1e-05  |   20  |\n",
      "|   random   | 0.1  |  4e-05  |   20  |\n",
      "|   random   | 0.1  | 6.3e-05 |   20  |\n",
      "|   random   | 0.16 |  0.0001 |   20  |\n",
      "|   random   | 0.16 | 0.00016 |   20  |\n",
      "|   random   | 0.16 | 0.00025 |   20  |\n",
      "|   random   | 0.16 |  4e-05  |   20  |\n",
      "|   random   | 0.16 | 6.3e-05 |   20  |\n",
      "|   random   | 0.25 |  0.0001 |   20  |\n",
      "|   random   | 0.25 | 0.00016 |   20  |\n",
      "|   random   | 0.25 | 0.00025 |   20  |\n",
      "|   random   | 0.25 |  4e-05  |   20  |\n",
      "|   random   | 0.25 | 6.3e-05 |   20  |\n",
      "+------------+------+---------+-------+\n"
     ]
    }
   ],
   "source": [
    "table = dsp.make_table(*rg.get_hpms_sweep_table())\n",
    "print(\">> Current Sweep, Ready to Analyze:\")\n",
    "dsp.print_table(\n",
    "    table,\n",
    "    drop_cols=[],\n",
    "    sort_cols=['Init', 'LR', 'WD'],\n",
    "    lr=[0.04, 0.06, 0.1, 0.16, 0.25],\n",
    ")"
   ]
  },
  {
   "cell_type": "code",
   "execution_count": 9,
   "id": "4c67a9f8-c843-4fe4-a0a4-527c2f871479",
   "metadata": {},
   "outputs": [
    {
     "name": "stdout",
     "output_type": "stream",
     "text": [
      " - model.weights=DEFAULT optim.lr=0.1 optim.weight_decay=0.0001           | 103 RIDS\n"
     ]
    }
   ],
   "source": [
    "runs_pre = rg.select_run_data_by_hpms(lr=0.1, wd=1e-4, init=\"pretrained\")\n",
    "for hpm, rlist in runs_pre.items():\n",
    "    print(f\" - {str(hpm):70} | {len(rlist):,} RIDS\")"
   ]
  },
  {
   "cell_type": "code",
   "execution_count": 10,
   "id": "6828890b-3faa-42a1-b710-fd87e249b22d",
   "metadata": {},
   "outputs": [
    {
     "name": "stdout",
     "output_type": "stream",
     "text": [
      " - model.weights=None optim.lr=0.1 optim.weight_decay=0.0001              | 99 RIDS\n"
     ]
    }
   ],
   "source": [
    "runs_rand = rg.select_run_data_by_hpms(**{\"optim.lr\": 0.1, \"optim.weight_decay\": 1e-4, \"init\": \"random\"})\n",
    "for hpm, rlist in runs_rand.items():\n",
    "    print(f\" - {str(hpm):70} | {len(rlist):,} RIDS\")"
   ]
  },
  {
   "cell_type": "code",
   "execution_count": null,
   "id": "cd885f4d-a9dc-4a70-8f99-856bf538b7bf",
   "metadata": {},
   "outputs": [],
   "source": []
  },
  {
   "cell_type": "markdown",
   "id": "19beb8e2-2bac-4be6-9666-889f537cc478",
   "metadata": {},
   "source": [
    "## Test Result Plotting"
   ]
  },
  {
   "cell_type": "code",
   "execution_count": 112,
   "id": "053ecf8a-66e8-4507-b3d1-b05f44e3c205",
   "metadata": {},
   "outputs": [],
   "source": [
    "hpm_specs_one_each = rplt.make_hpm_specs()"
   ]
  },
  {
   "cell_type": "code",
   "execution_count": 167,
   "id": "3abcf20d-4741-4647-9d38-e3a054d26207",
   "metadata": {},
   "outputs": [],
   "source": [
    "compare_stats_one_each = rplt.one_tn_no_hpm_select_compare_weight_init(\n",
    "    rg, hpm_specs_one_each, 260, 80, num_bootstraps=1000, split=\"val\",\n",
    ")"
   ]
  },
  {
   "cell_type": "code",
   "execution_count": 168,
   "id": "d92c1950-51b5-4875-9eeb-46ed2db92695",
   "metadata": {},
   "outputs": [
    {
     "name": "stdout",
     "output_type": "stream",
     "text": [
      ">> :: Per Dist Summary Stats ::\n",
      "\n",
      "Compare using 1000 bootstraps:\n",
      "  - [(80, 260) | best: 259] model.weights=DEFAULT optim.lr=0.1 optim.weight_decay=0.0001\n",
      "  - [(80, 260) | best: 259] model.weights=None optim.lr=0.1 optim.weight_decay=0.0001\n",
      "\n",
      "point\n",
      "   n          | 80.00000000 | 80.00000000\n",
      "   mean       | 85.10723321 | 84.42837757\n",
      "   median     | 85.21596822 | 84.40068401\n",
      "   min        | 82.01716959 | 82.93535754\n",
      "   max        | 87.71292905 | 85.43927757\n",
      "   variance   | 2.08886392 | 0.21661167\n",
      "   std        | 1.44241337 | 0.46271884\n",
      "   sem        | 0.16126672 | 0.05173354\n",
      "   2.5th      | 82.30920454 | 83.58641876\n",
      "   25th       | 84.08636828 | 84.15328420\n",
      "   75th       | 86.23650380 | 84.74547013\n",
      "   97.5th     | 87.32889941 | 85.30421270\n",
      "   IQR        | 2.15013552 | 0.59218593\n",
      "std\n",
      "   n          | 0.00000000 | 0.00000000\n",
      "   mean       | 0.16116744 | 0.05119270\n",
      "   median     | 0.25359058 | 0.06178873\n",
      "   min        | 0.17520245 | 0.50788965\n",
      "   max        | 0.22186191 | 0.07101572\n",
      "   variance   | 0.26341132 | 0.04718783\n",
      "   std        | 0.09114596 | 0.05002940\n",
      "   sem        | 0.01019043 | 0.00559346\n",
      "   2.5th      | 0.26152732 | 0.30864770\n",
      "   25th       | 0.28776538 | 0.06419189\n",
      "   75th       | 0.23254038 | 0.05706395\n",
      "   97.5th     | 0.26013028 | 0.13328910\n",
      "   IQR        | 0.30769169 | 0.06921255\n",
      "sem\n",
      "   n          | 0.00000000 | 0.00000000\n",
      "   mean       | 0.00016117 | 0.00005119\n",
      "   median     | 0.00025359 | 0.00006179\n",
      "   min        | 0.00017520 | 0.00050789\n",
      "   max        | 0.00022186 | 0.00007102\n",
      "   variance   | 0.00026341 | 0.00004719\n",
      "   std        | 0.00009115 | 0.00005003\n",
      "   sem        | 0.00001019 | 0.00000559\n",
      "   2.5th      | 0.00026153 | 0.00030865\n",
      "   25th       | 0.00028777 | 0.00006419\n",
      "   75th       | 0.00023254 | 0.00005706\n",
      "   97.5th     | 0.00026013 | 0.00013329\n",
      "   IQR        | 0.00030769 | 0.00006921\n",
      "ci_95\n",
      "   n          | (80.00000000, 80.00000000) | (80.00000000, 80.00000000)\n",
      "   mean       | (84.78454180, 85.42313879) | (84.33260435, 84.53266089)\n",
      "   median     | (84.79987049, 85.73999786) | (84.31499863, 84.52999878)\n",
      "   min        | (81.88999939, 82.33999634) | (82.55999756, 83.72000122)\n",
      "   max        | (87.15000153, 87.84999847) | (85.25000000, 85.47999573)\n",
      "   variance   | (1.58089054, 2.63585322) | (0.14066215, 0.32492469)\n",
      "   std        | (1.25733470, 1.62353100) | (0.37504949, 0.57002165)\n",
      "   sem        | (0.14057429, 0.18151628) | (0.04193181, 0.06373036)\n",
      "   2.5th      | (81.88999939, 83.10699520) | (82.55999756, 83.79926420)\n",
      "   25th       | (83.50000000, 84.68499756) | (84.00000000, 84.27999878)\n",
      "   75th       | (85.90918355, 86.65750122) | (84.62980971, 84.85749817)\n",
      "   97.5th     | (86.98249588, 87.84999847) | (84.99074783, 85.47999573)\n",
      "   IQR        | (1.55993509, 2.79012580) | (0.46249962, 0.72756343)\n",
      "original_data_stats\n",
      "   n          | 80.00000000 | 80.00000000\n",
      "   mean       | 85.10787296 | 84.42687330\n",
      "   median     | 85.22499847 | 84.38000107\n",
      "   min        | 81.88999939 | 82.55999756\n",
      "   max        | 87.84999847 | 85.47999573\n",
      "   variance   | 2.11688460 | 0.21798375\n",
      "   std        | 1.45495175 | 0.46688730\n",
      "   sem        | 0.16266855 | 0.05219959\n",
      "   2.5th      | 82.18000031 | 83.63874931\n",
      "   25th       | 84.10249710 | 84.13999939\n",
      "   75th       | 86.23749542 | 84.73999786\n",
      "   97.5th     | 87.23050117 | 85.36100063\n",
      "   IQR        | 2.13499832 | 0.59999847\n",
      "\n",
      ">> :: Comparative Summary Stats ::\n",
      "\n",
      " A Minus B: Negative means B is bigger\n",
      "  - A: model.weights=DEFAULT optim.lr=0.1 optim.weight_decay=0.0001\n",
      "  - B: model.weights=None optim.lr=0.1 optim.weight_decay=0.0001\n",
      "point <class 'dict'>\n",
      "  ks_stats             0.49685000\n",
      "  ks_p_values          0.00000366\n",
      "  mean_a_minus_b       0.67885564\n",
      "  median_a_minus_b     0.81528422\n",
      "  min_a_minus_b        -0.91818796\n",
      "  max_a_minus_b        2.27365149\n",
      "  variance_a_minus_b   1.87225225\n",
      "  std_a_minus_b        0.97969453\n",
      "  sem_a_minus_b        0.10953318\n",
      "  2.5th_a_minus_b      -1.27721422\n",
      "  25th_a_minus_b       -0.06691592\n",
      "  75th_a_minus_b       1.49103367\n",
      "  97.5th_a_minus_b     2.02468671\n",
      "  IQR_a_minus_b        1.55794959\n",
      "std <class 'dict'>\n",
      "  ks_stats             0.05841460\n",
      "  ks_p_values          0.00005194\n",
      "  mean_a_minus_b       0.16743414\n",
      "  median_a_minus_b     0.25703524\n",
      "  min_a_minus_b        0.54119186\n",
      "  max_a_minus_b        0.23618607\n",
      "  variance_a_minus_b   0.26767501\n",
      "  std_a_minus_b        0.10402966\n",
      "  sem_a_minus_b        0.01163087\n",
      "  2.5th_a_minus_b      0.40552192\n",
      "  25th_a_minus_b       0.29611317\n",
      "  75th_a_minus_b       0.23917932\n",
      "  97.5th_a_minus_b     0.29889042\n",
      "  IQR_a_minus_b        0.31564523\n",
      "sem <class 'dict'>\n",
      "  ks_stats             0.00005841\n",
      "  ks_p_values          0.00000005\n",
      "  mean_a_minus_b       0.00016743\n",
      "  median_a_minus_b     0.00025704\n",
      "  min_a_minus_b        0.00054119\n",
      "  max_a_minus_b        0.00023619\n",
      "  variance_a_minus_b   0.00026768\n",
      "  std_a_minus_b        0.00010403\n",
      "  sem_a_minus_b        0.00001163\n",
      "  2.5th_a_minus_b      0.00040552\n",
      "  25th_a_minus_b       0.00029611\n",
      "  75th_a_minus_b       0.00023918\n",
      "  97.5th_a_minus_b     0.00029889\n",
      "  IQR_a_minus_b        0.00031565\n",
      "ci_95 <class 'dict'>\n",
      "  ks_stats             (0.38750000, 0.61250000)\n",
      "  ks_p_values          (0.00000000, 0.00000955)\n",
      "  mean_a_minus_b       (0.35504635, 1.01062743)\n",
      "  median_a_minus_b     (0.38500204, 1.34512243)\n",
      "  min_a_minus_b        (-1.83000183, -0.22000122)\n",
      "  max_a_minus_b        (1.67000580, 2.59999847)\n",
      "  variance_a_minus_b   (1.34675635, 2.42061149)\n",
      "  std_a_minus_b        (0.77781980, 1.17936653)\n",
      "  sem_a_minus_b        (0.08696290, 0.13185719)\n",
      "  2.5th_a_minus_b      (-1.82678296, -0.22400112)\n",
      "  25th_a_minus_b       (-0.66293592, 0.54499817)\n",
      "  75th_a_minus_b       (1.11499977, 1.94500351)\n",
      "  97.5th_a_minus_b     (1.58424435, 2.65060144)\n",
      "  IQR_a_minus_b        (0.94743958, 2.20512304)\n"
     ]
    }
   ],
   "source": [
    "rplt.print_comparative_summary_stats(compare_stats_one_each)"
   ]
  },
  {
   "cell_type": "code",
   "execution_count": null,
   "id": "abb2de20-c1c7-44ed-8a71-b86fcfefa8ef",
   "metadata": {},
   "outputs": [],
   "source": []
  },
  {
   "cell_type": "code",
   "execution_count": null,
   "id": "9d3fb274-5e05-4664-b7a5-7bf9cb42c9af",
   "metadata": {},
   "outputs": [],
   "source": []
  },
  {
   "cell_type": "code",
   "execution_count": null,
   "id": "6ae0926f-0ba1-4073-a900-3abba43fcf4a",
   "metadata": {},
   "outputs": [],
   "source": []
  },
  {
   "cell_type": "code",
   "execution_count": null,
   "id": "51f3eb48-6613-4f5c-bda8-286e8a842df6",
   "metadata": {},
   "outputs": [],
   "source": []
  }
 ],
 "metadata": {
  "kernelspec": {
   "display_name": "Python 3 (ipykernel)",
   "language": "python",
   "name": "python3"
  },
  "language_info": {
   "codemirror_mode": {
    "name": "ipython",
    "version": 3
   },
   "file_extension": ".py",
   "mimetype": "text/x-python",
   "name": "python",
   "nbconvert_exporter": "python",
   "pygments_lexer": "ipython3",
   "version": "3.12.5"
  }
 },
 "nbformat": 4,
 "nbformat_minor": 5
}
