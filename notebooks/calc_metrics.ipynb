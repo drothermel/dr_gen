{
 "cells": [
  {
   "cell_type": "code",
   "execution_count": 195,
   "id": "d321d65c-3557-4952-898b-504f50e7276e",
   "metadata": {},
   "outputs": [
    {
     "name": "stdout",
     "output_type": "stream",
     "text": [
      "The autoreload extension is already loaded. To reload it, use:\n",
      "  %reload_ext autoreload\n"
     ]
    }
   ],
   "source": [
    "%matplotlib inline\n",
    "\n",
    "from hydra import initialize, compose\n",
    "from omegaconf import OmegaConf \n",
    "\n",
    "import dr_gen.utils.run as ru\n",
    "import dr_gen.utils.display as dsp\n",
    "\n",
    "from dr_gen.analyze.run_group import RunGroup\n",
    "import dr_gen.analyze.result_plotting as rplt\n",
    "\n",
    "%load_ext autoreload\n",
    "%autoreload 2"
   ]
  },
  {
   "cell_type": "markdown",
   "id": "367faf00-0b9f-4f3f-8ee6-bc274ba8bbbd",
   "metadata": {},
   "source": [
    "### Setup Config and Generator"
   ]
  },
  {
   "cell_type": "code",
   "execution_count": 2,
   "id": "e5d1f859-9a7a-4e0f-a45a-e7923d8c3532",
   "metadata": {},
   "outputs": [],
   "source": [
    "with initialize(config_path=\"../configs/\", version_base=None):\n",
    "    cfg = compose(\n",
    "        config_name=\"config.yaml\",\n",
    "        overrides=[\n",
    "            \"paths=mac\",\n",
    "        ]\n",
    "    )"
   ]
  },
  {
   "cell_type": "code",
   "execution_count": 3,
   "id": "86607e2f-ff9c-43d2-a52f-935b50530165",
   "metadata": {},
   "outputs": [],
   "source": [
    "generator = ru.set_deterministic(cfg.seed)"
   ]
  },
  {
   "cell_type": "code",
   "execution_count": 4,
   "id": "f4a14155-6864-495f-ac9d-aaa29bfc1d89",
   "metadata": {},
   "outputs": [
    {
     "name": "stdout",
     "output_type": "stream",
     "text": [
      "root: /Users/daniellerothermel/drotherm\n",
      "proj_dir_name: dr_gen\n",
      "data: /Users/daniellerothermel/drotherm/data\n",
      "logs: /Users/daniellerothermel/drotherm/logs\n",
      "my_data: /Users/daniellerothermel/drotherm/data/dr_gen\n",
      "my_logs: /Users/daniellerothermel/drotherm/logs/dr_gen\n",
      "run_dir: /Users/daniellerothermel/drotherm/logs/dr_gen/bs500/lr0.1/wd0.0001/s0/2025-04-03/10-22-1743690172\n",
      "dataset_cache_root: /Users/daniellerothermel/drotherm/data/cifar10/\n",
      "agg_results: /Users/daniellerothermel/drotherm/data/dr_gen/cifar10/cluster_runs/lr_wd_init_v0\n",
      "\n"
     ]
    }
   ],
   "source": [
    "print(OmegaConf.to_yaml(OmegaConf.to_container(cfg.paths, resolve=True)))"
   ]
  },
  {
   "cell_type": "markdown",
   "id": "39d79f98-ee51-4a75-897a-ad5209011490",
   "metadata": {},
   "source": [
    "### Load, Disect and Filter Sweep"
   ]
  },
  {
   "cell_type": "code",
   "execution_count": 5,
   "id": "93b2dc12-0933-46f3-afe7-4aea02956208",
   "metadata": {},
   "outputs": [
    {
     "name": "stdout",
     "output_type": "stream",
     "text": [
      ">> 0 / 1288 files failed parsing\n",
      ">> Updated hpm sweep info\n"
     ]
    }
   ],
   "source": [
    "rg = RunGroup()\n",
    "rg.load_runs_from_base_dir(cfg.paths.agg_results)"
   ]
  },
  {
   "cell_type": "code",
   "execution_count": 6,
   "id": "bf880b74-65e7-45a9-a31c-41af1b133291",
   "metadata": {},
   "outputs": [
    {
     "name": "stdout",
     "output_type": "stream",
     "text": [
      ">> Ignoring rid: 1287\n",
      ">> Updated hpm sweep info\n"
     ]
    }
   ],
   "source": [
    "rg.ignore_runs_by_hpms(epochs=180)"
   ]
  },
  {
   "cell_type": "code",
   "execution_count": 7,
   "id": "38c15754-ce55-44ab-80a0-b2f7db9bff4d",
   "metadata": {},
   "outputs": [
    {
     "name": "stdout",
     "output_type": "stream",
     "text": [
      "+------+------------+\n",
      "| Key  |   Values   |\n",
      "+------+------------+\n",
      "| Init | pretrained |\n",
      "|      |   random   |\n",
      "+------+------------+\n",
      "|  WD  |  6.3e-05   |\n",
      "|      |   1e-05    |\n",
      "|      |  0.00016   |\n",
      "|      |   0.0001   |\n",
      "|      |  0.00025   |\n",
      "|      |   4e-05    |\n",
      "+------+------------+\n",
      "|  LR  |    0.16    |\n",
      "|      |    0.04    |\n",
      "|      |    0.25    |\n",
      "|      |    0.2     |\n",
      "|      |    0.06    |\n",
      "|      |    0.1     |\n",
      "|      |    0.01    |\n",
      "+------+------------+\n"
     ]
    }
   ],
   "source": [
    "print(dsp.make_table(*rg.get_swept_table_data()))"
   ]
  },
  {
   "cell_type": "code",
   "execution_count": 8,
   "id": "24823507-7ea6-4a93-a3c1-9c3a1480fbd7",
   "metadata": {},
   "outputs": [
    {
     "name": "stdout",
     "output_type": "stream",
     "text": [
      ">> Current Sweep, Ready to Analyze:\n",
      "+------------+------+---------+-------+\n",
      "|    Init    |  LR  |    WD   | Count |\n",
      "+------------+------+---------+-------+\n",
      "| pretrained | 0.04 |  0.0001 |   20  |\n",
      "| pretrained | 0.04 | 0.00016 |   20  |\n",
      "| pretrained | 0.04 | 0.00025 |   20  |\n",
      "| pretrained | 0.04 |  4e-05  |   20  |\n",
      "| pretrained | 0.04 | 6.3e-05 |   20  |\n",
      "| pretrained | 0.06 |  0.0001 |   20  |\n",
      "| pretrained | 0.06 | 0.00016 |   20  |\n",
      "| pretrained | 0.06 | 0.00025 |   20  |\n",
      "| pretrained | 0.06 |  4e-05  |   20  |\n",
      "| pretrained | 0.06 | 6.3e-05 |   20  |\n",
      "| pretrained | 0.1  |  0.0001 |  103  |\n",
      "| pretrained | 0.1  | 0.00016 |   20  |\n",
      "| pretrained | 0.1  | 0.00025 |   20  |\n",
      "| pretrained | 0.1  |  4e-05  |   20  |\n",
      "| pretrained | 0.1  | 6.3e-05 |   20  |\n",
      "| pretrained | 0.16 |  0.0001 |   20  |\n",
      "| pretrained | 0.16 | 0.00016 |   20  |\n",
      "| pretrained | 0.16 | 0.00025 |   20  |\n",
      "| pretrained | 0.16 |  4e-05  |   20  |\n",
      "| pretrained | 0.16 | 6.3e-05 |   20  |\n",
      "| pretrained | 0.25 |  0.0001 |   20  |\n",
      "| pretrained | 0.25 | 0.00016 |   20  |\n",
      "| pretrained | 0.25 | 0.00025 |   20  |\n",
      "| pretrained | 0.25 |  4e-05  |   20  |\n",
      "| pretrained | 0.25 | 6.3e-05 |   20  |\n",
      "|   random   | 0.04 |  0.0001 |   20  |\n",
      "|   random   | 0.04 | 0.00016 |   20  |\n",
      "|   random   | 0.04 | 0.00025 |   20  |\n",
      "|   random   | 0.04 |  4e-05  |   20  |\n",
      "|   random   | 0.04 | 6.3e-05 |   20  |\n",
      "|   random   | 0.06 |  0.0001 |   20  |\n",
      "|   random   | 0.06 | 0.00016 |   20  |\n",
      "|   random   | 0.06 | 0.00025 |   20  |\n",
      "|   random   | 0.06 |  4e-05  |   20  |\n",
      "|   random   | 0.06 | 6.3e-05 |   20  |\n",
      "|   random   | 0.1  |  0.0001 |   99  |\n",
      "|   random   | 0.1  | 0.00016 |   20  |\n",
      "|   random   | 0.1  | 0.00025 |   20  |\n",
      "|   random   | 0.1  |  1e-05  |   20  |\n",
      "|   random   | 0.1  |  4e-05  |   20  |\n",
      "|   random   | 0.1  | 6.3e-05 |   20  |\n",
      "|   random   | 0.16 |  0.0001 |   20  |\n",
      "|   random   | 0.16 | 0.00016 |   20  |\n",
      "|   random   | 0.16 | 0.00025 |   20  |\n",
      "|   random   | 0.16 |  4e-05  |   20  |\n",
      "|   random   | 0.16 | 6.3e-05 |   20  |\n",
      "|   random   | 0.25 |  0.0001 |   20  |\n",
      "|   random   | 0.25 | 0.00016 |   20  |\n",
      "|   random   | 0.25 | 0.00025 |   20  |\n",
      "|   random   | 0.25 |  4e-05  |   20  |\n",
      "|   random   | 0.25 | 6.3e-05 |   20  |\n",
      "+------------+------+---------+-------+\n"
     ]
    }
   ],
   "source": [
    "table = dsp.make_table(*rg.get_hpms_sweep_table())\n",
    "print(\">> Current Sweep, Ready to Analyze:\")\n",
    "dsp.print_table(\n",
    "    table,\n",
    "    drop_cols=[],\n",
    "    sort_cols=['Init', 'LR', 'WD'],\n",
    "    lr=[0.04, 0.06, 0.1, 0.16, 0.25],\n",
    ")"
   ]
  },
  {
   "cell_type": "code",
   "execution_count": 9,
   "id": "4c67a9f8-c843-4fe4-a0a4-527c2f871479",
   "metadata": {},
   "outputs": [
    {
     "name": "stdout",
     "output_type": "stream",
     "text": [
      " - model.weights=DEFAULT optim.lr=0.1 optim.weight_decay=0.0001           | 103 RIDS\n"
     ]
    }
   ],
   "source": [
    "runs_pre = rg.select_run_data_by_hpms(lr=0.1, wd=1e-4, init=\"pretrained\")\n",
    "for hpm, rlist in runs_pre.items():\n",
    "    print(f\" - {str(hpm):70} | {len(rlist):,} RIDS\")"
   ]
  },
  {
   "cell_type": "code",
   "execution_count": 10,
   "id": "6828890b-3faa-42a1-b710-fd87e249b22d",
   "metadata": {},
   "outputs": [
    {
     "name": "stdout",
     "output_type": "stream",
     "text": [
      " - model.weights=None optim.lr=0.1 optim.weight_decay=0.0001              | 99 RIDS\n"
     ]
    }
   ],
   "source": [
    "runs_rand = rg.select_run_data_by_hpms(**{\"optim.lr\": 0.1, \"optim.weight_decay\": 1e-4, \"init\": \"random\"})\n",
    "for hpm, rlist in runs_rand.items():\n",
    "    print(f\" - {str(hpm):70} | {len(rlist):,} RIDS\")"
   ]
  },
  {
   "cell_type": "code",
   "execution_count": 184,
   "id": "fcbd8769-cd8f-42db-9568-8a39966ad6af",
   "metadata": {},
   "outputs": [
    {
     "name": "stdout",
     "output_type": "stream",
     "text": [
      " - model.weights=DEFAULT optim.lr=0.04 optim.weight_decay=0.0001          | 20 RIDS\n",
      " - model.weights=DEFAULT optim.lr=0.04 optim.weight_decay=0.00016         | 20 RIDS\n",
      " - model.weights=DEFAULT optim.lr=0.04 optim.weight_decay=0.00025         | 20 RIDS\n",
      " - model.weights=DEFAULT optim.lr=0.04 optim.weight_decay=4e-05           | 20 RIDS\n",
      " - model.weights=DEFAULT optim.lr=0.04 optim.weight_decay=6.3e-05         | 20 RIDS\n"
     ]
    }
   ],
   "source": [
    "runs_pre = rg.select_run_data_by_hpms(\n",
    "    lr=0.04, init=\"pretrained\",\n",
    ")\n",
    "for hpm, rlist in sorted([(str(hpm), rlist) for hpm, rlist in runs_pre.items()]):\n",
    "    print(f\" - {str(hpm):70} | {len(rlist):,} RIDS\")"
   ]
  },
  {
   "cell_type": "code",
   "execution_count": 185,
   "id": "7b2b830a-36c8-4911-8f03-ce3d07589587",
   "metadata": {},
   "outputs": [
    {
     "name": "stdout",
     "output_type": "stream",
     "text": [
      " - model.weights=None optim.lr=0.04 optim.weight_decay=0.0001             | 20 RIDS\n",
      " - model.weights=None optim.lr=0.04 optim.weight_decay=0.00016            | 20 RIDS\n",
      " - model.weights=None optim.lr=0.04 optim.weight_decay=0.00025            | 20 RIDS\n",
      " - model.weights=None optim.lr=0.04 optim.weight_decay=4e-05              | 20 RIDS\n",
      " - model.weights=None optim.lr=0.04 optim.weight_decay=6.3e-05            | 20 RIDS\n"
     ]
    }
   ],
   "source": [
    "runs_pre = rg.select_run_data_by_hpms(\n",
    "    lr=0.04, init=\"random\",\n",
    ")\n",
    "for hpm, rlist in sorted([(str(hpm), rlist) for hpm, rlist in runs_pre.items()]):\n",
    "    print(f\" - {str(hpm):70} | {len(rlist):,} RIDS\")"
   ]
  },
  {
   "cell_type": "code",
   "execution_count": 182,
   "id": "feb809ab-e603-4809-bb52-197c054dc9af",
   "metadata": {},
   "outputs": [
    {
     "name": "stdout",
     "output_type": "stream",
     "text": [
      " - model.weights=DEFAULT optim.lr=0.1 optim.weight_decay=0.0001           | 103 RIDS\n",
      " - model.weights=DEFAULT optim.lr=0.1 optim.weight_decay=0.00016          | 20 RIDS\n",
      " - model.weights=DEFAULT optim.lr=0.1 optim.weight_decay=0.00025          | 20 RIDS\n",
      " - model.weights=DEFAULT optim.lr=0.1 optim.weight_decay=4e-05            | 20 RIDS\n",
      " - model.weights=DEFAULT optim.lr=0.1 optim.weight_decay=6.3e-05          | 20 RIDS\n"
     ]
    }
   ],
   "source": [
    "runs_pre = rg.select_run_data_by_hpms(\n",
    "    lr=0.1, init=\"pretrained\",\n",
    ")\n",
    "for hpm, rlist in sorted([(str(hpm), rlist) for hpm, rlist in runs_pre.items()]):\n",
    "    print(f\" - {str(hpm):70} | {len(rlist):,} RIDS\")"
   ]
  },
  {
   "cell_type": "code",
   "execution_count": 183,
   "id": "1d540ead-4d8b-4177-99ea-01b0982dab1d",
   "metadata": {},
   "outputs": [
    {
     "name": "stdout",
     "output_type": "stream",
     "text": [
      " - model.weights=None optim.lr=0.1 optim.weight_decay=0.0001              | 99 RIDS\n",
      " - model.weights=None optim.lr=0.1 optim.weight_decay=0.00016             | 20 RIDS\n",
      " - model.weights=None optim.lr=0.1 optim.weight_decay=0.00025             | 20 RIDS\n",
      " - model.weights=None optim.lr=0.1 optim.weight_decay=1e-05               | 20 RIDS\n",
      " - model.weights=None optim.lr=0.1 optim.weight_decay=4e-05               | 20 RIDS\n",
      " - model.weights=None optim.lr=0.1 optim.weight_decay=6.3e-05             | 20 RIDS\n"
     ]
    }
   ],
   "source": [
    "runs_pre = rg.select_run_data_by_hpms(\n",
    "    lr=0.1, init=\"random\",\n",
    ")\n",
    "for hpm, rlist in sorted([(str(hpm), rlist) for hpm, rlist in runs_pre.items()]):\n",
    "    print(f\" - {str(hpm):70} | {len(rlist):,} RIDS\")"
   ]
  },
  {
   "cell_type": "code",
   "execution_count": null,
   "id": "cd885f4d-a9dc-4a70-8f99-856bf538b7bf",
   "metadata": {},
   "outputs": [],
   "source": []
  },
  {
   "cell_type": "markdown",
   "id": "19beb8e2-2bac-4be6-9666-889f537cc478",
   "metadata": {},
   "source": [
    "## Test Result Plotting"
   ]
  },
  {
   "cell_type": "code",
   "execution_count": 196,
   "id": "053ecf8a-66e8-4507-b3d1-b05f44e3c205",
   "metadata": {},
   "outputs": [],
   "source": [
    "hpm_specs_one_each = rplt.make_hpm_specs()"
   ]
  },
  {
   "cell_type": "code",
   "execution_count": 197,
   "id": "23040959-fd51-4e4f-a504-8a267ec03aec",
   "metadata": {},
   "outputs": [],
   "source": [
    "compare_stats_one_each = rplt.one_tn_no_hpm_select_compare_weight_init(\n",
    "    rg, hpm_specs_one_each, 260, 80, num_bootstraps=1000, split=\"val\",\n",
    ")\n",
    "#rplt.print_comparative_summary_stats(compare_stats_one_each)"
   ]
  },
  {
   "cell_type": "code",
   "execution_count": 199,
   "id": "1b0c83a4-8195-471e-82bb-822320d20dd8",
   "metadata": {},
   "outputs": [
    {
     "name": "stdout",
     "output_type": "stream",
     "text": [
      ">> :: Per Dist Summary Stats ::\n",
      "\n",
      "Compare using 1000 bootstraps:\n",
      "  - [(80, 260) | best: 259] model.weights=DEFAULT optim.lr=0.1 optim.weight_decay=0.0001\n",
      "  - [(80, 260) | best: 259] model.weights=None optim.lr=0.1 optim.weight_decay=0.0001\n",
      "\n",
      "point\n",
      "   n          | 80.00000000 | 80.00000000\n",
      "   mean       | 85.11064845 | 84.42620394\n",
      "   median     | 85.22565323 | 84.40210895\n",
      "   min        | 82.01337959 | 82.93967748\n",
      "   max        | 87.70918906 | 85.43803764\n",
      "   variance   | 2.08370823 | 0.21561246\n",
      "   std        | 1.44062701 | 0.46147093\n",
      "   sem        | 0.16106700 | 0.05159402\n",
      "   2.5th      | 82.30567447 | 83.58419981\n",
      "   25th       | 84.08577075 | 84.15236169\n",
      "   75th       | 86.24519642 | 84.74314260\n",
      "   97.5th     | 87.33109846 | 85.29649194\n",
      "   IQR        | 2.15942568 | 0.59078091\n",
      "std\n",
      "   n          | 0.00000000 | 0.00000000\n",
      "   mean       | 0.16173210 | 0.05063997\n",
      "   median     | 0.25405055 | 0.05847733\n",
      "   min        | 0.17324780 | 0.50819271\n",
      "   max        | 0.22364984 | 0.06906447\n",
      "   variance   | 0.26272655 | 0.04824398\n",
      "   std        | 0.09111556 | 0.05154642\n",
      "   sem        | 0.01018703 | 0.00576307\n",
      "   2.5th      | 0.25731281 | 0.30811139\n",
      "   25th       | 0.29655599 | 0.06689532\n",
      "   75th       | 0.23660408 | 0.05684084\n",
      "   97.5th     | 0.26466568 | 0.13461215\n",
      "   IQR        | 0.31839733 | 0.07242889\n",
      "sem\n",
      "   n          | 0.00000000 | 0.00000000\n",
      "   mean       | 0.00016173 | 0.00005064\n",
      "   median     | 0.00025405 | 0.00005848\n",
      "   min        | 0.00017325 | 0.00050819\n",
      "   max        | 0.00022365 | 0.00006906\n",
      "   variance   | 0.00026273 | 0.00004824\n",
      "   std        | 0.00009112 | 0.00005155\n",
      "   sem        | 0.00001019 | 0.00000576\n",
      "   2.5th      | 0.00025731 | 0.00030811\n",
      "   25th       | 0.00029656 | 0.00006690\n",
      "   75th       | 0.00023660 | 0.00005684\n",
      "   97.5th     | 0.00026467 | 0.00013461\n",
      "   IQR        | 0.00031840 | 0.00007243\n",
      "ci_95\n",
      "   n          | (80.00000000, 80.00000000) | (80.00000000, 80.00000000)\n",
      "   mean       | (84.78694836, 85.42988889) | (84.32986684, 84.52577307)\n",
      "   median     | (84.80500031, 85.73999786) | (84.31987467, 84.52999878)\n",
      "   min        | (81.88999939, 82.33999634) | (82.55999756, 83.72000122)\n",
      "   max        | (87.15000153, 87.84999847) | (85.25000000, 85.47999573)\n",
      "   variance   | (1.59002447, 2.62116343) | (0.13589755, 0.32032542)\n",
      "   std        | (1.26096173, 1.61900073) | (0.36864284, 0.56597296)\n",
      "   sem        | (0.14097981, 0.18100978) | (0.04121552, 0.06327770)\n",
      "   2.5th      | (81.88999939, 83.10063890) | (82.55999756, 83.80233307)\n",
      "   25th       | (83.47999954, 84.68499756) | (83.99749947, 84.27999878)\n",
      "   75th       | (85.91249657, 86.68000031) | (84.62249565, 84.84999847)\n",
      "   97.5th     | (86.98249588, 87.84999847) | (84.98999786, 85.47999573)\n",
      "   IQR        | (1.54750061, 2.81505923) | (0.45500169, 0.73025322)\n",
      "original_data_stats\n",
      "   n          | 80.00000000 | 80.00000000\n",
      "   mean       | 85.10787296 | 84.42687330\n",
      "   median     | 85.22499847 | 84.38000107\n",
      "   min        | 81.88999939 | 82.55999756\n",
      "   max        | 87.84999847 | 85.47999573\n",
      "   variance   | 2.11688460 | 0.21798375\n",
      "   std        | 1.45495175 | 0.46688730\n",
      "   sem        | 0.16266855 | 0.05219959\n",
      "   2.5th      | 82.18000031 | 83.63874931\n",
      "   25th       | 84.10249710 | 84.13999939\n",
      "   75th       | 86.23749542 | 84.73999786\n",
      "   97.5th     | 87.23050117 | 85.36100063\n",
      "   IQR        | 2.13499832 | 0.59999847\n",
      "\n",
      ">> :: Comparative Summary Stats ::\n",
      "\n",
      " A Minus B: Negative means B is bigger\n",
      "  - A: model.weights=DEFAULT optim.lr=0.1 optim.weight_decay=0.0001\n",
      "  - B: model.weights=None optim.lr=0.1 optim.weight_decay=0.0001\n",
      "point\n",
      "  ks_stats             0.49850000\n",
      "  ks_p_values          0.00000184\n",
      "  mean_a_minus_b       0.68444452\n",
      "  median_a_minus_b     0.82354428\n",
      "  min_a_minus_b        -0.92629790\n",
      "  max_a_minus_b        2.27115142\n",
      "  variance_a_minus_b   1.86809577\n",
      "  std_a_minus_b        0.97915608\n",
      "  sem_a_minus_b        0.10947298\n",
      "  2.5th_a_minus_b      -1.27852534\n",
      "  25th_a_minus_b       -0.06659094\n",
      "  75th_a_minus_b       1.50205383\n",
      "  97.5th_a_minus_b     2.03460652\n",
      "  IQR_a_minus_b        1.56864477\n",
      "std\n",
      "  ks_stats             0.05719976\n",
      "  ks_p_values          0.00001526\n",
      "  mean_a_minus_b       0.17109315\n",
      "  median_a_minus_b     0.26093242\n",
      "  min_a_minus_b        0.54152270\n",
      "  max_a_minus_b        0.23567672\n",
      "  variance_a_minus_b   0.26798743\n",
      "  std_a_minus_b        0.10558441\n",
      "  sem_a_minus_b        0.01180470\n",
      "  2.5th_a_minus_b      0.41016642\n",
      "  25th_a_minus_b       0.30544004\n",
      "  75th_a_minus_b       0.24379061\n",
      "  97.5th_a_minus_b     0.30509480\n",
      "  IQR_a_minus_b        0.32642982\n",
      "sem\n",
      "  ks_stats             0.00005720\n",
      "  ks_p_values          0.00000002\n",
      "  mean_a_minus_b       0.00017109\n",
      "  median_a_minus_b     0.00026093\n",
      "  min_a_minus_b        0.00054152\n",
      "  max_a_minus_b        0.00023568\n",
      "  variance_a_minus_b   0.00026799\n",
      "  std_a_minus_b        0.00010558\n",
      "  sem_a_minus_b        0.00001180\n",
      "  2.5th_a_minus_b      0.00041017\n",
      "  25th_a_minus_b       0.00030544\n",
      "  75th_a_minus_b       0.00024379\n",
      "  97.5th_a_minus_b     0.00030509\n",
      "  IQR_a_minus_b        0.00032643\n",
      "ci_95\n",
      "  ks_stats             (0.38750000, 0.61250000)\n",
      "  ks_p_values          (0.00000000, 0.00000955)\n",
      "  mean_a_minus_b       (0.34375953, 1.01651874)\n",
      "  median_a_minus_b     (0.38499832, 1.36012182)\n",
      "  min_a_minus_b        (-1.83000183, -0.22000122)\n",
      "  max_a_minus_b        (1.67000580, 2.59999847)\n",
      "  variance_a_minus_b   (1.36347298, 2.41403901)\n",
      "  std_a_minus_b        (0.76370123, 1.18335982)\n",
      "  sem_a_minus_b        (0.08538439, 0.13230365)\n",
      "  2.5th_a_minus_b      (-1.82800179, -0.22400112)\n",
      "  25th_a_minus_b       (-0.69262414, 0.52262216)\n",
      "  75th_a_minus_b       (1.11000056, 1.95000076)\n",
      "  97.5th_a_minus_b     (1.60150604, 2.66824818)\n",
      "  IQR_a_minus_b        (0.96206203, 2.26262951)\n"
     ]
    }
   ],
   "source": [
    "rplt.print_comparative_summary_stats(compare_stats_one_each)"
   ]
  },
  {
   "cell_type": "code",
   "execution_count": 232,
   "id": "81cf999e-eb1f-4744-9545-6a58c2c9fc84",
   "metadata": {},
   "outputs": [
    {
     "name": "stdout",
     "output_type": "stream",
     "text": [
      "{'optim.lr': [0.04, 0.06, 0.1, 0.16, 0.25], 'optim.weight_decay': [1e-05, 4e-05, 6.3e-05, 0.0001, 0.00016, 0.00025], 'epochs': 270}\n"
     ]
    }
   ],
   "source": [
    "hpm_specs_hpm_select = rplt.make_hpm_specs(\n",
    "    lr=[0.04, 0.06, 0.1, 0.16, 0.25],\n",
    "    wd=[1e-05, 4e-05, 6.3e-05, 0.0001, 0.00016, 0.00025],\n",
    "    epochs=270,\n",
    ")\n",
    "print(hpm_specs_hpm_select)"
   ]
  },
  {
   "cell_type": "code",
   "execution_count": 235,
   "id": "e170149d-6511-4f51-bfef-245c5cac104d",
   "metadata": {},
   "outputs": [],
   "source": [
    "cshs_with_md = rplt.one_tn_hpm_compare_weight_init(\n",
    "    rg, hpm_specs_hpm_select, 270, 100, num_bootstraps=1000,\n",
    ")"
   ]
  },
  {
   "cell_type": "code",
   "execution_count": 238,
   "id": "a3eccfa8-3432-4647-840c-f8a9337bfda9",
   "metadata": {},
   "outputs": [],
   "source": []
  },
  {
   "cell_type": "code",
   "execution_count": 246,
   "id": "e3a390dd-25e9-425e-8266-332da5de4552",
   "metadata": {},
   "outputs": [
    {
     "name": "stdout",
     "output_type": "stream",
     "text": [
      "model.weights=DEFAULT optim.lr=0.04 optim.weight_decay=0.0001                    261 87.11818474388123\n",
      "model.weights=DEFAULT optim.lr=0.04 optim.weight_decay=0.00016                   265 87.14277879066468\n",
      "model.weights=DEFAULT optim.lr=0.04 optim.weight_decay=0.00025                   225 87.04773044395446\n",
      "model.weights=DEFAULT optim.lr=0.04 optim.weight_decay=4e-05                     236 87.07726950912476\n",
      "model.weights=DEFAULT optim.lr=0.04 optim.weight_decay=6.3e-05                   259 87.09922091560364\n",
      "model.weights=DEFAULT optim.lr=0.06 optim.weight_decay=0.0001                    249 86.95927630729675\n",
      "model.weights=DEFAULT optim.lr=0.06 optim.weight_decay=0.00016                   237 87.24666325149535\n",
      "model.weights=DEFAULT optim.lr=0.06 optim.weight_decay=0.00025                   232 87.26931646118165\n",
      "model.weights=DEFAULT optim.lr=0.06 optim.weight_decay=4e-05                     238 87.00296643486023\n",
      "model.weights=DEFAULT optim.lr=0.06 optim.weight_decay=6.3e-05                   264 87.12701647453306\n",
      "model.weights=DEFAULT optim.lr=0.1 optim.weight_decay=0.0001                     252 85.0291641583252\n",
      "model.weights=DEFAULT optim.lr=0.1 optim.weight_decay=0.00016                    265 85.14056253166198\n",
      "model.weights=DEFAULT optim.lr=0.1 optim.weight_decay=0.00025                    237 85.959930859375\n",
      "model.weights=DEFAULT optim.lr=0.1 optim.weight_decay=4e-05                      199 84.52735104064942\n",
      "model.weights=DEFAULT optim.lr=0.1 optim.weight_decay=6.3e-05                    251 84.29198052520752\n",
      "model.weights=DEFAULT optim.lr=0.16 optim.weight_decay=0.0001                    99 82.93391282730103\n",
      "model.weights=DEFAULT optim.lr=0.16 optim.weight_decay=0.00016                   201 83.69479719848634\n",
      "model.weights=DEFAULT optim.lr=0.16 optim.weight_decay=0.00025                   214 84.75337422485353\n",
      "model.weights=DEFAULT optim.lr=0.16 optim.weight_decay=4e-05                     190 81.63550144309997\n",
      "model.weights=DEFAULT optim.lr=0.16 optim.weight_decay=6.3e-05                   101 81.91793790779114\n",
      "model.weights=DEFAULT optim.lr=0.25 optim.weight_decay=0.0001                    197 82.84550906486513\n",
      "model.weights=DEFAULT optim.lr=0.25 optim.weight_decay=0.00016                   214 84.34928099594117\n",
      "model.weights=DEFAULT optim.lr=0.25 optim.weight_decay=0.00025                   225 85.46575914115905\n",
      "model.weights=DEFAULT optim.lr=0.25 optim.weight_decay=4e-05                     194 80.9274425655365\n",
      "model.weights=DEFAULT optim.lr=0.25 optim.weight_decay=6.3e-05                   185 81.71144939155579\n"
     ]
    }
   ],
   "source": [
    "md_a_ex = list(cshs_with_md['metadata_a'].items())\n",
    "for hpm, hpm_md in sorted(md_a_ex, key=lambda x: str(x[0])):\n",
    "    print(f'{str(hpm):80}', hpm_md['best_t'], hpm_md['best_t_mean'])"
   ]
  },
  {
   "cell_type": "code",
   "execution_count": 247,
   "id": "804cdfa1-fb3e-4dfe-bdca-35fbd53fbfa9",
   "metadata": {},
   "outputs": [
    {
     "name": "stdout",
     "output_type": "stream",
     "text": [
      "model.weights=None optim.lr=0.04 optim.weight_decay=0.0001                       241 83.59258256645204\n",
      "model.weights=None optim.lr=0.04 optim.weight_decay=0.00016                      218 83.82859030761718\n",
      "model.weights=None optim.lr=0.04 optim.weight_decay=0.00025                      269 84.25509852447509\n",
      "model.weights=None optim.lr=0.04 optim.weight_decay=4e-05                        193 83.25679780921936\n",
      "model.weights=None optim.lr=0.04 optim.weight_decay=6.3e-05                      261 83.5028566291809\n",
      "model.weights=None optim.lr=0.06 optim.weight_decay=0.0001                       235 84.195234998703\n",
      "model.weights=None optim.lr=0.06 optim.weight_decay=0.00016                      262 84.70538255538939\n",
      "model.weights=None optim.lr=0.06 optim.weight_decay=0.00025                      243 85.24975409851075\n",
      "model.weights=None optim.lr=0.06 optim.weight_decay=4e-05                        231 83.77362948074341\n",
      "model.weights=None optim.lr=0.06 optim.weight_decay=6.3e-05                      266 83.98842919387816\n",
      "model.weights=None optim.lr=0.1 optim.weight_decay=0.0001                        268 84.42875198857472\n",
      "model.weights=None optim.lr=0.1 optim.weight_decay=0.00016                       242 84.99418760795592\n",
      "model.weights=None optim.lr=0.1 optim.weight_decay=0.00025                       253 85.75135368804932\n",
      "model.weights=None optim.lr=0.1 optim.weight_decay=4e-05                         237 83.7210587348938\n",
      "model.weights=None optim.lr=0.1 optim.weight_decay=6.3e-05                       256 84.14363043479919\n",
      "model.weights=None optim.lr=0.16 optim.weight_decay=0.0001                       246 84.71876603317261\n",
      "model.weights=None optim.lr=0.16 optim.weight_decay=0.00016                      237 85.30910889396667\n",
      "model.weights=None optim.lr=0.16 optim.weight_decay=0.00025                      231 86.14582494735718\n",
      "model.weights=None optim.lr=0.16 optim.weight_decay=4e-05                        194 83.72525979118348\n",
      "model.weights=None optim.lr=0.16 optim.weight_decay=6.3e-05                      237 84.19007407150269\n",
      "model.weights=None optim.lr=0.25 optim.weight_decay=0.0001                       257 84.93916240844727\n",
      "model.weights=None optim.lr=0.25 optim.weight_decay=0.00016                      225 85.76437007064818\n",
      "model.weights=None optim.lr=0.25 optim.weight_decay=0.00025                      267 86.41145551071168\n",
      "model.weights=None optim.lr=0.25 optim.weight_decay=4e-05                        217 83.6320059539795\n",
      "model.weights=None optim.lr=0.25 optim.weight_decay=6.3e-05                      193 84.28501662025452\n"
     ]
    }
   ],
   "source": [
    "md_b_ex = list(cshs_with_md['metadata_b'].items())\n",
    "for hpm, hpm_md in sorted(md_b_ex, key=lambda x: str(x[0])):\n",
    "    print(f'{str(hpm):80}', hpm_md['best_t'], hpm_md['best_t_mean'])"
   ]
  },
  {
   "cell_type": "code",
   "execution_count": 237,
   "id": "d0fe4f5b-f8cd-466d-9b0e-1f62fd885c8a",
   "metadata": {},
   "outputs": [
    {
     "name": "stdout",
     "output_type": "stream",
     "text": [
      ">> :: Per Dist Summary Stats ::\n",
      "\n",
      "Compare using 1000 bootstraps:\n",
      "  - [(20, 270) | best: 232] model.weights=DEFAULT optim.lr=0.06 optim.weight_decay=0.00025\n",
      "  - [(20, 270) | best: 267] model.weights=None optim.lr=0.25 optim.weight_decay=0.00025\n",
      "\n",
      "point\n",
      "   n          | 20.00000000 | 20.00000000\n",
      "   mean       | 86.95366239 | 86.03953382\n",
      "   median     | 86.98667767 | 86.09746790\n",
      "   min        | 85.95737939 | 84.83451966\n",
      "   max        | 87.55320786 | 86.63916749\n",
      "   variance   | 0.18676231 | 0.23600458\n",
      "   std        | 0.42208216 | 0.46784241\n",
      "   sem        | 0.09438044 | 0.10461274\n",
      "   2.5th      | 86.10642935 | 85.06022499\n",
      "   25th       | 86.75814248 | 85.84644373\n",
      "   75th       | 87.24192805 | 86.33542058\n",
      "   97.5th     | 87.51851841 | 86.61347021\n",
      "   IQR        | 0.48378557 | 0.48897685\n",
      "std\n",
      "   n          | 0.00000000 | 0.00000000\n",
      "   mean       | 0.09536752 | 0.10873322\n",
      "   median     | 0.09213817 | 0.12777595\n",
      "   min        | 0.37305079 | 0.55682605\n",
      "   max        | 0.07559148 | 0.05406492\n",
      "   variance   | 0.07961825 | 0.12685264\n",
      "   std        | 0.09278445 | 0.13087423\n",
      "   sem        | 0.02074723 | 0.02926437\n",
      "   2.5th      | 0.33405506 | 0.47845263\n",
      "   25th       | 0.13553266 | 0.11651390\n",
      "   75th       | 0.11640755 | 0.11443404\n",
      "   97.5th     | 0.08020691 | 0.06666679\n",
      "   IQR        | 0.14197523 | 0.13718569\n",
      "sem\n",
      "   n          | 0.00000000 | 0.00000000\n",
      "   mean       | 0.00009537 | 0.00010873\n",
      "   median     | 0.00009214 | 0.00012778\n",
      "   min        | 0.00037305 | 0.00055683\n",
      "   max        | 0.00007559 | 0.00005406\n",
      "   variance   | 0.00007962 | 0.00012685\n",
      "   std        | 0.00009278 | 0.00013087\n",
      "   sem        | 0.00002075 | 0.00002926\n",
      "   2.5th      | 0.00033406 | 0.00047845\n",
      "   25th       | 0.00013553 | 0.00011651\n",
      "   75th       | 0.00011641 | 0.00011443\n",
      "   97.5th     | 0.00008021 | 0.00006667\n",
      "   IQR        | 0.00014198 | 0.00013719\n",
      "ci_95\n",
      "   n          | (20.00000000, 20.00000000) | (20.00000000, 20.00000000)\n",
      "   mean       | (86.76086028, 87.12351027) | (85.81649856, 86.23108500)\n",
      "   median     | (86.82462196, 87.22999573) | (85.88499832, 86.27499771)\n",
      "   min        | (85.68000031, 86.63999939) | (84.40000153, 85.75000000)\n",
      "   max        | (87.31999969, 87.59999847) | (86.48999786, 86.65999603)\n",
      "   variance   | (0.06789707, 0.35487222) | (0.06613485, 0.52207557)\n",
      "   std        | (0.26057067, 0.59571145) | (0.25716694, 0.72254797)\n",
      "   sem        | (0.05826537, 0.13320513) | (0.05750428, 0.16156664)\n",
      "   2.5th      | (85.68000031, 86.64949780) | (84.40000153, 85.76424942)\n",
      "   25th       | (86.52249908, 86.97505913) | (85.64999962, 86.01999664)\n",
      "   75th       | (86.99243588, 87.41068354) | (86.18999481, 86.57499695)\n",
      "   97.5th     | (87.31999969, 87.59999847) | (86.42349815, 86.65999603)\n",
      "   IQR        | (0.21000290, 0.75006256) | (0.26743746, 0.77005916)\n",
      "original_data_stats\n",
      "   n          | 20.00000000 | 20.00000000\n",
      "   mean       | 86.95799789 | 86.03499832\n",
      "   median     | 86.98499680 | 86.10499573\n",
      "   min        | 85.68000031 | 84.40000153\n",
      "   max        | 87.59999847 | 86.65999603\n",
      "   variance   | 0.19633223 | 0.25730988\n",
      "   std        | 0.44309392 | 0.50725722\n",
      "   sem        | 0.09907881 | 0.11342616\n",
      "   2.5th      | 86.01249886 | 84.89399834\n",
      "   25th       | 86.74999809 | 85.85499763\n",
      "   75th       | 87.28749847 | 86.29749870\n",
      "   97.5th     | 87.56199760 | 86.65524864\n",
      "   IQR        | 0.53750038 | 0.44250107\n",
      "\n",
      ">> :: Comparative Summary Stats ::\n",
      "\n",
      " A Minus B: Negative means B is bigger\n",
      "  - A: model.weights=DEFAULT optim.lr=0.06 optim.weight_decay=0.00025\n",
      "  - B: model.weights=None optim.lr=0.25 optim.weight_decay=0.00025\n",
      "point\n",
      "  ks_stats             0.83250000\n",
      "  ks_p_values          0.00002507\n",
      "  mean_a_minus_b       0.91412857\n",
      "  median_a_minus_b     0.88920976\n",
      "  min_a_minus_b        1.12285973\n",
      "  max_a_minus_b        0.91404037\n",
      "  variance_a_minus_b   -0.04924228\n",
      "  std_a_minus_b        -0.04576025\n",
      "  sem_a_minus_b        -0.01023230\n",
      "  2.5th_a_minus_b      1.04620436\n",
      "  25th_a_minus_b       0.91169876\n",
      "  75th_a_minus_b       0.90650747\n",
      "  97.5th_a_minus_b     0.90504821\n",
      "  IQR_a_minus_b        -0.00519128\n",
      "std\n",
      "  ks_stats             0.08033524\n",
      "  ks_p_values          0.00016775\n",
      "  mean_a_minus_b       0.14753662\n",
      "  median_a_minus_b     0.15552732\n",
      "  min_a_minus_b        0.66088705\n",
      "  max_a_minus_b        0.09577034\n",
      "  variance_a_minus_b   0.14995402\n",
      "  std_a_minus_b        0.15989653\n",
      "  sem_a_minus_b        0.03575395\n",
      "  2.5th_a_minus_b      0.58336857\n",
      "  25th_a_minus_b       0.18309467\n",
      "  75th_a_minus_b       0.16102459\n",
      "  97.5th_a_minus_b     0.10727852\n",
      "  IQR_a_minus_b        0.19641337\n",
      "sem\n",
      "  ks_stats             0.00008034\n",
      "  ks_p_values          0.00000017\n",
      "  mean_a_minus_b       0.00014754\n",
      "  median_a_minus_b     0.00015553\n",
      "  min_a_minus_b        0.00066089\n",
      "  max_a_minus_b        0.00009577\n",
      "  variance_a_minus_b   0.00014995\n",
      "  std_a_minus_b        0.00015990\n",
      "  sem_a_minus_b        0.00003575\n",
      "  2.5th_a_minus_b      0.00058337\n",
      "  25th_a_minus_b       0.00018309\n",
      "  75th_a_minus_b       0.00016102\n",
      "  97.5th_a_minus_b     0.00010728\n",
      "  IQR_a_minus_b        0.00019641\n",
      "ci_95\n",
      "  ks_stats             (0.65000000, 0.95000000)\n",
      "  ks_p_values          (0.00000000, 0.00027050)\n",
      "  mean_a_minus_b       (0.62950019, 1.19705010)\n",
      "  median_a_minus_b     (0.62487488, 1.20999908)\n",
      "  min_a_minus_b        (-0.04000092, 2.16999817)\n",
      "  max_a_minus_b        (0.66000366, 1.11000061)\n",
      "  variance_a_minus_b   (-0.36019640, 0.21224569)\n",
      "  std_a_minus_b        (-0.35812133, 0.25268326)\n",
      "  sem_a_minus_b        (-0.08007836, 0.05650169)\n",
      "  2.5th_a_minus_b      (-0.04000092, 2.16999817)\n",
      "  25th_a_minus_b       (0.56999969, 1.20999908)\n",
      "  75th_a_minus_b       (0.56743860, 1.20256004)\n",
      "  97.5th_a_minus_b     (0.66475105, 1.14500160)\n",
      "  IQR_a_minus_b        (-0.36506042, 0.35755882)\n"
     ]
    }
   ],
   "source": [
    "rplt.print_comparative_summary_stats(cshs_with_md)"
   ]
  },
  {
   "cell_type": "code",
   "execution_count": null,
   "id": "90b4965a-b19c-4829-9a47-e8b40a1122e0",
   "metadata": {},
   "outputs": [],
   "source": []
  },
  {
   "cell_type": "code",
   "execution_count": null,
   "id": "4f75e1bf-aed7-4a48-825e-7f281d6ae002",
   "metadata": {},
   "outputs": [],
   "source": []
  },
  {
   "cell_type": "code",
   "execution_count": 233,
   "id": "3abcf20d-4741-4647-9d38-e3a054d26207",
   "metadata": {},
   "outputs": [],
   "source": [
    "compare_stats_hpm_select = rplt.one_tn_hpm_compare_weight_init(\n",
    "    rg, hpm_specs_hpm_select, 270, 100, num_bootstraps=1000,\n",
    ")"
   ]
  },
  {
   "cell_type": "code",
   "execution_count": 234,
   "id": "3869ef03-0796-4bc6-b1bc-98a4752079b9",
   "metadata": {},
   "outputs": [
    {
     "name": "stdout",
     "output_type": "stream",
     "text": [
      ">> :: Per Dist Summary Stats ::\n",
      "\n",
      "Compare using 1000 bootstraps:\n",
      "  - [(20, 270) | best: 232] model.weights=DEFAULT optim.lr=0.06 optim.weight_decay=0.00025\n",
      "  - [(20, 270) | best: 264] model.weights=None optim.lr=0.25 optim.weight_decay=0.00025\n",
      "\n",
      "point\n",
      "   n          | 20.00000000 | 20.00000000\n",
      "   mean       | 86.95341741 | 86.00767885\n",
      "   median     | 86.98694271 | 86.05517912\n",
      "   min        | 85.96465945 | 84.80876588\n",
      "   max        | 87.55188786 | 86.60768640\n",
      "   variance   | 0.18639283 | 0.26309991\n",
      "   std        | 0.42105925 | 0.50213843\n",
      "   sem        | 0.09415171 | 0.11228157\n",
      "   2.5th      | 86.11560463 | 84.98695334\n",
      "   25th       | 86.75398495 | 85.76950394\n",
      "   75th       | 87.24069806 | 86.39156330\n",
      "   97.5th     | 87.51628165 | 86.59580253\n",
      "   IQR        | 0.48671311 | 0.62205936\n",
      "std\n",
      "   n          | 0.00000000 | 0.00000000\n",
      "   mean       | 0.09434803 | 0.11430604\n",
      "   median     | 0.09243138 | 0.14226848\n",
      "   min        | 0.37862054 | 0.42244576\n",
      "   max        | 0.07644215 | 0.02316272\n",
      "   variance   | 0.08170553 | 0.10541670\n",
      "   std        | 0.09540410 | 0.10467524\n",
      "   sem        | 0.02133300 | 0.02340609\n",
      "   2.5th      | 0.33672500 | 0.38392583\n",
      "   25th       | 0.12779391 | 0.13375067\n",
      "   75th       | 0.11691686 | 0.13934505\n",
      "   97.5th     | 0.08061170 | 0.03267911\n",
      "   IQR        | 0.14516563 | 0.15103433\n",
      "sem\n",
      "   n          | 0.00000000 | 0.00000000\n",
      "   mean       | 0.00009435 | 0.00011431\n",
      "   median     | 0.00009243 | 0.00014227\n",
      "   min        | 0.00037862 | 0.00042245\n",
      "   max        | 0.00007644 | 0.00002316\n",
      "   variance   | 0.00008171 | 0.00010542\n",
      "   std        | 0.00009540 | 0.00010468\n",
      "   sem        | 0.00002133 | 0.00002341\n",
      "   2.5th      | 0.00033673 | 0.00038393\n",
      "   25th       | 0.00012779 | 0.00013375\n",
      "   75th       | 0.00011692 | 0.00013935\n",
      "   97.5th     | 0.00008061 | 0.00003268\n",
      "   IQR        | 0.00014517 | 0.00015103\n",
      "ci_95\n",
      "   n          | (20.00000000, 20.00000000) | (20.00000000, 20.00000000)\n",
      "   mean       | (86.75598572, 87.12152309) | (85.78282291, 86.21004832)\n",
      "   median     | (86.77999878, 87.25499725) | (85.77999878, 86.36499786)\n",
      "   min        | (85.68000031, 86.63999939) | (84.50999451, 85.65999603)\n",
      "   max        | (87.31999969, 87.59999847) | (86.55999756, 86.61999512)\n",
      "   variance   | (0.06270799, 0.36661531) | (0.09418972, 0.48411799)\n",
      "   std        | (0.25041563, 0.60548765) | (0.30690326, 0.69578579)\n",
      "   sem        | (0.05599464, 0.13539115) | (0.06862566, 0.15558243)\n",
      "   2.5th      | (85.68000031, 86.64949780) | (84.50999451, 85.68374748)\n",
      "   25th       | (86.52249908, 86.97499657) | (85.51749992, 85.99512396)\n",
      "   75th       | (86.98999786, 87.43749619) | (86.07243772, 86.57749939)\n",
      "   97.5th     | (87.31524868, 87.59999847) | (86.50774727, 86.61999512)\n",
      "   IQR        | (0.20487876, 0.75499916) | (0.32750130, 0.90000153)\n",
      "original_data_stats\n",
      "   n          | 20.00000000 | 20.00000000\n",
      "   mean       | 86.95799789 | 86.01199837\n",
      "   median     | 86.98499680 | 86.03499985\n",
      "   min        | 85.68000031 | 84.50999451\n",
      "   max        | 87.59999847 | 86.61999512\n",
      "   variance   | 0.19633223 | 0.27329089\n",
      "   std        | 0.44309392 | 0.52277231\n",
      "   sem        | 0.09907881 | 0.11689544\n",
      "   2.5th      | 86.01249886 | 84.85674610\n",
      "   25th       | 86.74999809 | 85.76249886\n",
      "   75th       | 87.28749847 | 86.40499878\n",
      "   97.5th     | 87.56199760 | 86.61049671\n",
      "   IQR        | 0.53750038 | 0.64249992\n",
      "\n",
      ">> :: Comparative Summary Stats ::\n",
      "\n",
      " A Minus B: Negative means B is bigger\n",
      "  - A: model.weights=DEFAULT optim.lr=0.06 optim.weight_decay=0.00025\n",
      "  - B: model.weights=None optim.lr=0.25 optim.weight_decay=0.00025\n",
      "point\n",
      "  ks_stats             0.85700000\n",
      "  ks_p_values          0.00002135\n",
      "  mean_a_minus_b       0.94573856\n",
      "  median_a_minus_b     0.93176360\n",
      "  min_a_minus_b        1.15589356\n",
      "  max_a_minus_b        0.94420145\n",
      "  variance_a_minus_b   -0.07670708\n",
      "  std_a_minus_b        -0.08107918\n",
      "  sem_a_minus_b        -0.01812986\n",
      "  2.5th_a_minus_b      1.12865129\n",
      "  25th_a_minus_b       0.98448101\n",
      "  75th_a_minus_b       0.84913476\n",
      "  97.5th_a_minus_b     0.92047913\n",
      "  IQR_a_minus_b        -0.13534625\n",
      "std\n",
      "  ks_stats             0.07600000\n",
      "  ks_p_values          0.00039418\n",
      "  mean_a_minus_b       0.14676722\n",
      "  median_a_minus_b     0.16975510\n",
      "  min_a_minus_b        0.56521649\n",
      "  max_a_minus_b        0.08027689\n",
      "  variance_a_minus_b   0.13068928\n",
      "  std_a_minus_b        0.13923582\n",
      "  sem_a_minus_b        0.03113408\n",
      "  2.5th_a_minus_b      0.50152537\n",
      "  25th_a_minus_b       0.18121458\n",
      "  75th_a_minus_b       0.17939652\n",
      "  97.5th_a_minus_b     0.08760424\n",
      "  IQR_a_minus_b        0.20738480\n",
      "sem\n",
      "  ks_stats             0.00007600\n",
      "  ks_p_values          0.00000039\n",
      "  mean_a_minus_b       0.00014677\n",
      "  median_a_minus_b     0.00016976\n",
      "  min_a_minus_b        0.00056522\n",
      "  max_a_minus_b        0.00008028\n",
      "  variance_a_minus_b   0.00013069\n",
      "  std_a_minus_b        0.00013924\n",
      "  sem_a_minus_b        0.00003113\n",
      "  2.5th_a_minus_b      0.00050153\n",
      "  25th_a_minus_b       0.00018121\n",
      "  75th_a_minus_b       0.00017940\n",
      "  97.5th_a_minus_b     0.00008760\n",
      "  IQR_a_minus_b        0.00020738\n",
      "ci_95\n",
      "  ks_stats             (0.70000000, 1.00000000)\n",
      "  ks_p_values          (0.00000000, 0.00005569)\n",
      "  mean_a_minus_b       (0.66994969, 1.23252433)\n",
      "  median_a_minus_b     (0.58499908, 1.26512432)\n",
      "  min_a_minus_b        (0.06999969, 2.13000488)\n",
      "  max_a_minus_b        (0.70000458, 1.04000092)\n",
      "  variance_a_minus_b   (-0.33859429, 0.16770952)\n",
      "  std_a_minus_b        (-0.35372688, 0.17569748)\n",
      "  sem_a_minus_b        (-0.07909573, 0.03928715)\n",
      "  2.5th_a_minus_b      (0.23235634, 2.09325504)\n",
      "  25th_a_minus_b       (0.64250364, 1.31499863)\n",
      "  75th_a_minus_b       (0.51000209, 1.23499684)\n",
      "  97.5th_a_minus_b     (0.71842000, 1.06077739)\n",
      "  IQR_a_minus_b        (-0.53512115, 0.26749430)\n"
     ]
    }
   ],
   "source": [
    "rplt.print_comparative_summary_stats(compare_stats_hpm_select)"
   ]
  },
  {
   "cell_type": "code",
   "execution_count": 233,
   "id": "e7b08931-c9e8-4224-a108-f4cceb7cb8dc",
   "metadata": {},
   "outputs": [],
   "source": [
    "compare_stats_hpm_select = rplt.one_tn_hpm_compare_weight_init(\n",
    "    rg, hpm_specs_hpm_select, 270, 100, num_bootstraps=1000,\n",
    ")"
   ]
  },
  {
   "cell_type": "code",
   "execution_count": null,
   "id": "abb2de20-c1c7-44ed-8a71-b86fcfefa8ef",
   "metadata": {},
   "outputs": [],
   "source": []
  }
 ],
 "metadata": {
  "kernelspec": {
   "display_name": "Python 3 (ipykernel)",
   "language": "python",
   "name": "python3"
  },
  "language_info": {
   "codemirror_mode": {
    "name": "ipython",
    "version": 3
   },
   "file_extension": ".py",
   "mimetype": "text/x-python",
   "name": "python",
   "nbconvert_exporter": "python",
   "pygments_lexer": "ipython3",
   "version": "3.12.5"
  }
 },
 "nbformat": 4,
 "nbformat_minor": 5
}
