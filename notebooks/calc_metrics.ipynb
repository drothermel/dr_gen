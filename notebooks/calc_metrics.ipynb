{
 "cells": [
  {
   "cell_type": "code",
   "execution_count": 101,
   "id": "d321d65c-3557-4952-898b-504f50e7276e",
   "metadata": {},
   "outputs": [
    {
     "name": "stdout",
     "output_type": "stream",
     "text": [
      "The autoreload extension is already loaded. To reload it, use:\n",
      "  %reload_ext autoreload\n"
     ]
    }
   ],
   "source": [
    "%matplotlib inline\n",
    "\n",
    "from hydra import initialize, compose\n",
    "from omegaconf import OmegaConf \n",
    "\n",
    "import dr_gen.utils.run as ru\n",
    "import dr_gen.utils.display as dsp\n",
    "\n",
    "from dr_gen.analyze.run_group import RunGroup\n",
    "import dr_gen.analyze.result_plotting as rplt\n",
    "\n",
    "%load_ext autoreload\n",
    "%autoreload 2"
   ]
  },
  {
   "cell_type": "markdown",
   "id": "367faf00-0b9f-4f3f-8ee6-bc274ba8bbbd",
   "metadata": {},
   "source": [
    "### Setup Config and Generator"
   ]
  },
  {
   "cell_type": "code",
   "execution_count": 2,
   "id": "e5d1f859-9a7a-4e0f-a45a-e7923d8c3532",
   "metadata": {},
   "outputs": [],
   "source": [
    "with initialize(config_path=\"../configs/\", version_base=None):\n",
    "    cfg = compose(\n",
    "        config_name=\"config.yaml\",\n",
    "        overrides=[\n",
    "            \"paths=mac\",\n",
    "        ]\n",
    "    )"
   ]
  },
  {
   "cell_type": "code",
   "execution_count": 3,
   "id": "86607e2f-ff9c-43d2-a52f-935b50530165",
   "metadata": {},
   "outputs": [],
   "source": [
    "generator = ru.set_deterministic(cfg.seed)"
   ]
  },
  {
   "cell_type": "code",
   "execution_count": 4,
   "id": "f4a14155-6864-495f-ac9d-aaa29bfc1d89",
   "metadata": {},
   "outputs": [
    {
     "name": "stdout",
     "output_type": "stream",
     "text": [
      "root: /Users/daniellerothermel/drotherm\n",
      "proj_dir_name: dr_gen\n",
      "data: /Users/daniellerothermel/drotherm/data\n",
      "logs: /Users/daniellerothermel/drotherm/logs\n",
      "my_data: /Users/daniellerothermel/drotherm/data/dr_gen\n",
      "my_logs: /Users/daniellerothermel/drotherm/logs/dr_gen\n",
      "run_dir: /Users/daniellerothermel/drotherm/logs/dr_gen/bs500/lr0.1/wd0.0001/s0/2025-04-03/10-22-1743690172\n",
      "dataset_cache_root: /Users/daniellerothermel/drotherm/data/cifar10/\n",
      "agg_results: /Users/daniellerothermel/drotherm/data/dr_gen/cifar10/cluster_runs/lr_wd_init_v0\n",
      "\n"
     ]
    }
   ],
   "source": [
    "print(OmegaConf.to_yaml(OmegaConf.to_container(cfg.paths, resolve=True)))"
   ]
  },
  {
   "cell_type": "markdown",
   "id": "39d79f98-ee51-4a75-897a-ad5209011490",
   "metadata": {},
   "source": [
    "### Load, Disect and Filter Sweep"
   ]
  },
  {
   "cell_type": "code",
   "execution_count": 5,
   "id": "93b2dc12-0933-46f3-afe7-4aea02956208",
   "metadata": {},
   "outputs": [
    {
     "name": "stdout",
     "output_type": "stream",
     "text": [
      ">> 0 / 1288 files failed parsing\n",
      ">> Updated hpm sweep info\n"
     ]
    }
   ],
   "source": [
    "rg = RunGroup()\n",
    "rg.load_runs_from_base_dir(cfg.paths.agg_results)"
   ]
  },
  {
   "cell_type": "code",
   "execution_count": 6,
   "id": "bf880b74-65e7-45a9-a31c-41af1b133291",
   "metadata": {},
   "outputs": [
    {
     "name": "stdout",
     "output_type": "stream",
     "text": [
      ">> Ignoring rid: 1287\n",
      ">> Updated hpm sweep info\n"
     ]
    }
   ],
   "source": [
    "rg.ignore_runs_by_hpms(epochs=180)"
   ]
  },
  {
   "cell_type": "code",
   "execution_count": 7,
   "id": "38c15754-ce55-44ab-80a0-b2f7db9bff4d",
   "metadata": {},
   "outputs": [
    {
     "name": "stdout",
     "output_type": "stream",
     "text": [
      "+------+------------+\n",
      "| Key  |   Values   |\n",
      "+------+------------+\n",
      "| Init | pretrained |\n",
      "|      |   random   |\n",
      "+------+------------+\n",
      "|  WD  |  6.3e-05   |\n",
      "|      |   1e-05    |\n",
      "|      |  0.00016   |\n",
      "|      |   0.0001   |\n",
      "|      |  0.00025   |\n",
      "|      |   4e-05    |\n",
      "+------+------------+\n",
      "|  LR  |    0.16    |\n",
      "|      |    0.04    |\n",
      "|      |    0.25    |\n",
      "|      |    0.2     |\n",
      "|      |    0.06    |\n",
      "|      |    0.1     |\n",
      "|      |    0.01    |\n",
      "+------+------------+\n"
     ]
    }
   ],
   "source": [
    "print(dsp.make_table(*rg.get_swept_table_data()))"
   ]
  },
  {
   "cell_type": "code",
   "execution_count": 8,
   "id": "24823507-7ea6-4a93-a3c1-9c3a1480fbd7",
   "metadata": {},
   "outputs": [
    {
     "name": "stdout",
     "output_type": "stream",
     "text": [
      ">> Current Sweep, Ready to Analyze:\n",
      "+------------+------+---------+-------+\n",
      "|    Init    |  LR  |    WD   | Count |\n",
      "+------------+------+---------+-------+\n",
      "| pretrained | 0.04 |  0.0001 |   20  |\n",
      "| pretrained | 0.04 | 0.00016 |   20  |\n",
      "| pretrained | 0.04 | 0.00025 |   20  |\n",
      "| pretrained | 0.04 |  4e-05  |   20  |\n",
      "| pretrained | 0.04 | 6.3e-05 |   20  |\n",
      "| pretrained | 0.06 |  0.0001 |   20  |\n",
      "| pretrained | 0.06 | 0.00016 |   20  |\n",
      "| pretrained | 0.06 | 0.00025 |   20  |\n",
      "| pretrained | 0.06 |  4e-05  |   20  |\n",
      "| pretrained | 0.06 | 6.3e-05 |   20  |\n",
      "| pretrained | 0.1  |  0.0001 |  103  |\n",
      "| pretrained | 0.1  | 0.00016 |   20  |\n",
      "| pretrained | 0.1  | 0.00025 |   20  |\n",
      "| pretrained | 0.1  |  4e-05  |   20  |\n",
      "| pretrained | 0.1  | 6.3e-05 |   20  |\n",
      "| pretrained | 0.16 |  0.0001 |   20  |\n",
      "| pretrained | 0.16 | 0.00016 |   20  |\n",
      "| pretrained | 0.16 | 0.00025 |   20  |\n",
      "| pretrained | 0.16 |  4e-05  |   20  |\n",
      "| pretrained | 0.16 | 6.3e-05 |   20  |\n",
      "| pretrained | 0.25 |  0.0001 |   20  |\n",
      "| pretrained | 0.25 | 0.00016 |   20  |\n",
      "| pretrained | 0.25 | 0.00025 |   20  |\n",
      "| pretrained | 0.25 |  4e-05  |   20  |\n",
      "| pretrained | 0.25 | 6.3e-05 |   20  |\n",
      "|   random   | 0.04 |  0.0001 |   20  |\n",
      "|   random   | 0.04 | 0.00016 |   20  |\n",
      "|   random   | 0.04 | 0.00025 |   20  |\n",
      "|   random   | 0.04 |  4e-05  |   20  |\n",
      "|   random   | 0.04 | 6.3e-05 |   20  |\n",
      "|   random   | 0.06 |  0.0001 |   20  |\n",
      "|   random   | 0.06 | 0.00016 |   20  |\n",
      "|   random   | 0.06 | 0.00025 |   20  |\n",
      "|   random   | 0.06 |  4e-05  |   20  |\n",
      "|   random   | 0.06 | 6.3e-05 |   20  |\n",
      "|   random   | 0.1  |  0.0001 |   99  |\n",
      "|   random   | 0.1  | 0.00016 |   20  |\n",
      "|   random   | 0.1  | 0.00025 |   20  |\n",
      "|   random   | 0.1  |  1e-05  |   20  |\n",
      "|   random   | 0.1  |  4e-05  |   20  |\n",
      "|   random   | 0.1  | 6.3e-05 |   20  |\n",
      "|   random   | 0.16 |  0.0001 |   20  |\n",
      "|   random   | 0.16 | 0.00016 |   20  |\n",
      "|   random   | 0.16 | 0.00025 |   20  |\n",
      "|   random   | 0.16 |  4e-05  |   20  |\n",
      "|   random   | 0.16 | 6.3e-05 |   20  |\n",
      "|   random   | 0.25 |  0.0001 |   20  |\n",
      "|   random   | 0.25 | 0.00016 |   20  |\n",
      "|   random   | 0.25 | 0.00025 |   20  |\n",
      "|   random   | 0.25 |  4e-05  |   20  |\n",
      "|   random   | 0.25 | 6.3e-05 |   20  |\n",
      "+------------+------+---------+-------+\n"
     ]
    }
   ],
   "source": [
    "table = dsp.make_table(*rg.get_hpms_sweep_table())\n",
    "print(\">> Current Sweep, Ready to Analyze:\")\n",
    "dsp.print_table(\n",
    "    table,\n",
    "    drop_cols=[],\n",
    "    sort_cols=['Init', 'LR', 'WD'],\n",
    "    lr=[0.04, 0.06, 0.1, 0.16, 0.25],\n",
    ")"
   ]
  },
  {
   "cell_type": "code",
   "execution_count": 9,
   "id": "4c67a9f8-c843-4fe4-a0a4-527c2f871479",
   "metadata": {},
   "outputs": [
    {
     "name": "stdout",
     "output_type": "stream",
     "text": [
      " - model.weights=DEFAULT optim.lr=0.1 optim.weight_decay=0.0001           | 103 RIDS\n"
     ]
    }
   ],
   "source": [
    "runs_pre = rg.select_run_data_by_hpms(lr=0.1, wd=1e-4, init=\"pretrained\")\n",
    "for hpm, rlist in runs_pre.items():\n",
    "    print(f\" - {str(hpm):70} | {len(rlist):,} RIDS\")"
   ]
  },
  {
   "cell_type": "code",
   "execution_count": 10,
   "id": "6828890b-3faa-42a1-b710-fd87e249b22d",
   "metadata": {},
   "outputs": [
    {
     "name": "stdout",
     "output_type": "stream",
     "text": [
      " - model.weights=None optim.lr=0.1 optim.weight_decay=0.0001              | 99 RIDS\n"
     ]
    }
   ],
   "source": [
    "runs_rand = rg.select_run_data_by_hpms(**{\"optim.lr\": 0.1, \"optim.weight_decay\": 1e-4, \"init\": \"random\"})\n",
    "for hpm, rlist in runs_rand.items():\n",
    "    print(f\" - {str(hpm):70} | {len(rlist):,} RIDS\")"
   ]
  },
  {
   "cell_type": "code",
   "execution_count": 184,
   "id": "fcbd8769-cd8f-42db-9568-8a39966ad6af",
   "metadata": {},
   "outputs": [
    {
     "name": "stdout",
     "output_type": "stream",
     "text": [
      " - model.weights=DEFAULT optim.lr=0.04 optim.weight_decay=0.0001          | 20 RIDS\n",
      " - model.weights=DEFAULT optim.lr=0.04 optim.weight_decay=0.00016         | 20 RIDS\n",
      " - model.weights=DEFAULT optim.lr=0.04 optim.weight_decay=0.00025         | 20 RIDS\n",
      " - model.weights=DEFAULT optim.lr=0.04 optim.weight_decay=4e-05           | 20 RIDS\n",
      " - model.weights=DEFAULT optim.lr=0.04 optim.weight_decay=6.3e-05         | 20 RIDS\n"
     ]
    }
   ],
   "source": [
    "runs_pre = rg.select_run_data_by_hpms(\n",
    "    lr=0.04, init=\"pretrained\",\n",
    ")\n",
    "for hpm, rlist in sorted([(str(hpm), rlist) for hpm, rlist in runs_pre.items()]):\n",
    "    print(f\" - {str(hpm):70} | {len(rlist):,} RIDS\")"
   ]
  },
  {
   "cell_type": "code",
   "execution_count": 185,
   "id": "7b2b830a-36c8-4911-8f03-ce3d07589587",
   "metadata": {},
   "outputs": [
    {
     "name": "stdout",
     "output_type": "stream",
     "text": [
      " - model.weights=None optim.lr=0.04 optim.weight_decay=0.0001             | 20 RIDS\n",
      " - model.weights=None optim.lr=0.04 optim.weight_decay=0.00016            | 20 RIDS\n",
      " - model.weights=None optim.lr=0.04 optim.weight_decay=0.00025            | 20 RIDS\n",
      " - model.weights=None optim.lr=0.04 optim.weight_decay=4e-05              | 20 RIDS\n",
      " - model.weights=None optim.lr=0.04 optim.weight_decay=6.3e-05            | 20 RIDS\n"
     ]
    }
   ],
   "source": [
    "runs_pre = rg.select_run_data_by_hpms(\n",
    "    lr=0.04, init=\"random\",\n",
    ")\n",
    "for hpm, rlist in sorted([(str(hpm), rlist) for hpm, rlist in runs_pre.items()]):\n",
    "    print(f\" - {str(hpm):70} | {len(rlist):,} RIDS\")"
   ]
  },
  {
   "cell_type": "code",
   "execution_count": 182,
   "id": "feb809ab-e603-4809-bb52-197c054dc9af",
   "metadata": {},
   "outputs": [
    {
     "name": "stdout",
     "output_type": "stream",
     "text": [
      " - model.weights=DEFAULT optim.lr=0.1 optim.weight_decay=0.0001           | 103 RIDS\n",
      " - model.weights=DEFAULT optim.lr=0.1 optim.weight_decay=0.00016          | 20 RIDS\n",
      " - model.weights=DEFAULT optim.lr=0.1 optim.weight_decay=0.00025          | 20 RIDS\n",
      " - model.weights=DEFAULT optim.lr=0.1 optim.weight_decay=4e-05            | 20 RIDS\n",
      " - model.weights=DEFAULT optim.lr=0.1 optim.weight_decay=6.3e-05          | 20 RIDS\n"
     ]
    }
   ],
   "source": [
    "runs_pre = rg.select_run_data_by_hpms(\n",
    "    lr=0.1, init=\"pretrained\",\n",
    ")\n",
    "for hpm, rlist in sorted([(str(hpm), rlist) for hpm, rlist in runs_pre.items()]):\n",
    "    print(f\" - {str(hpm):70} | {len(rlist):,} RIDS\")"
   ]
  },
  {
   "cell_type": "code",
   "execution_count": 183,
   "id": "1d540ead-4d8b-4177-99ea-01b0982dab1d",
   "metadata": {},
   "outputs": [
    {
     "name": "stdout",
     "output_type": "stream",
     "text": [
      " - model.weights=None optim.lr=0.1 optim.weight_decay=0.0001              | 99 RIDS\n",
      " - model.weights=None optim.lr=0.1 optim.weight_decay=0.00016             | 20 RIDS\n",
      " - model.weights=None optim.lr=0.1 optim.weight_decay=0.00025             | 20 RIDS\n",
      " - model.weights=None optim.lr=0.1 optim.weight_decay=1e-05               | 20 RIDS\n",
      " - model.weights=None optim.lr=0.1 optim.weight_decay=4e-05               | 20 RIDS\n",
      " - model.weights=None optim.lr=0.1 optim.weight_decay=6.3e-05             | 20 RIDS\n"
     ]
    }
   ],
   "source": [
    "runs_pre = rg.select_run_data_by_hpms(\n",
    "    lr=0.1, init=\"random\",\n",
    ")\n",
    "for hpm, rlist in sorted([(str(hpm), rlist) for hpm, rlist in runs_pre.items()]):\n",
    "    print(f\" - {str(hpm):70} | {len(rlist):,} RIDS\")"
   ]
  },
  {
   "cell_type": "code",
   "execution_count": null,
   "id": "cd885f4d-a9dc-4a70-8f99-856bf538b7bf",
   "metadata": {},
   "outputs": [],
   "source": []
  },
  {
   "cell_type": "markdown",
   "id": "19beb8e2-2bac-4be6-9666-889f537cc478",
   "metadata": {},
   "source": [
    "## Test Result Plotting"
   ]
  },
  {
   "cell_type": "code",
   "execution_count": 112,
   "id": "053ecf8a-66e8-4507-b3d1-b05f44e3c205",
   "metadata": {},
   "outputs": [],
   "source": [
    "hpm_specs_one_each = rplt.make_hpm_specs()"
   ]
  },
  {
   "cell_type": "code",
   "execution_count": 167,
   "id": "23040959-fd51-4e4f-a504-8a267ec03aec",
   "metadata": {},
   "outputs": [],
   "source": [
    "compare_stats_one_each = rplt.one_tn_no_hpm_select_compare_weight_init(\n",
    "    rg, hpm_specs_one_each, 260, 80, num_bootstraps=1000, split=\"val\",\n",
    ")\n",
    "#rplt.print_comparative_summary_stats(compare_stats_one_each)"
   ]
  },
  {
   "cell_type": "code",
   "execution_count": 189,
   "id": "81cf999e-eb1f-4744-9545-6a58c2c9fc84",
   "metadata": {},
   "outputs": [
    {
     "name": "stdout",
     "output_type": "stream",
     "text": [
      "{'optim.lr': [0.04, 0.1, 0.25], 'optim.weight_decay': [1e-05, 0.0001, 0.00025], 'epochs': 270}\n"
     ]
    }
   ],
   "source": [
    "hpm_specs_hpm_select = rplt.make_hpm_specs(\n",
    "    #lr=[0.04, 0.06, 0.1, 0.16, 0.25],\n",
    "    #wd=[1e-05, 4e-05, 6.3e-05, 0.0001, 0.00016, 0.00025],\n",
    "    lr=[0.04, 0.1, 0.25],\n",
    "    wd=[1e-05, 0.0001, 0.00025],\n",
    "    epochs=270,\n",
    ")\n",
    "print(hpm_specs_hpm_select)"
   ]
  },
  {
   "cell_type": "code",
   "execution_count": 190,
   "id": "3abcf20d-4741-4647-9d38-e3a054d26207",
   "metadata": {},
   "outputs": [
    {
     "name": "stdout",
     "output_type": "stream",
     "text": [
      "Pre:\n",
      "   model.weights=DEFAULT optim.lr=0.1 optim.weight_decay=0.0001\n",
      "   model.weights=DEFAULT optim.lr=0.04 optim.weight_decay=0.00025\n",
      "   model.weights=DEFAULT optim.lr=0.25 optim.weight_decay=0.0001\n",
      "   model.weights=DEFAULT optim.lr=0.04 optim.weight_decay=0.0001\n",
      "   model.weights=DEFAULT optim.lr=0.1 optim.weight_decay=0.00025\n",
      "   model.weights=DEFAULT optim.lr=0.25 optim.weight_decay=0.00025\n",
      "Rand:\n",
      "   model.weights=None optim.lr=0.04 optim.weight_decay=0.00025\n",
      "   model.weights=None optim.lr=0.1 optim.weight_decay=0.00025\n",
      "   model.weights=None optim.lr=0.25 optim.weight_decay=0.00025\n",
      "   model.weights=None optim.lr=0.1 optim.weight_decay=0.0001\n",
      "   model.weights=None optim.lr=0.25 optim.weight_decay=0.0001\n",
      "   model.weights=None optim.lr=0.04 optim.weight_decay=0.0001\n",
      "   model.weights=None optim.lr=0.1 optim.weight_decay=1e-05\n"
     ]
    }
   ],
   "source": [
    "compare_stats_hpm_select = rplt.one_tn_hpm_compare_weight_init(\n",
    "    rg, hpm_specs_hpm_select, 260, 80, num_bootstraps=1000,\n",
    ")"
   ]
  },
  {
   "cell_type": "code",
   "execution_count": null,
   "id": "3869ef03-0796-4bc6-b1bc-98a4752079b9",
   "metadata": {},
   "outputs": [],
   "source": [
    "rplt.print_comparative_summary_stats(compare_stats_one_each)"
   ]
  },
  {
   "cell_type": "code",
   "execution_count": null,
   "id": "abb2de20-c1c7-44ed-8a71-b86fcfefa8ef",
   "metadata": {},
   "outputs": [],
   "source": []
  },
  {
   "cell_type": "code",
   "execution_count": null,
   "id": "9d3fb274-5e05-4664-b7a5-7bf9cb42c9af",
   "metadata": {},
   "outputs": [],
   "source": []
  },
  {
   "cell_type": "code",
   "execution_count": null,
   "id": "6ae0926f-0ba1-4073-a900-3abba43fcf4a",
   "metadata": {},
   "outputs": [],
   "source": []
  },
  {
   "cell_type": "code",
   "execution_count": null,
   "id": "51f3eb48-6613-4f5c-bda8-286e8a842df6",
   "metadata": {},
   "outputs": [],
   "source": []
  }
 ],
 "metadata": {
  "kernelspec": {
   "display_name": "Python 3 (ipykernel)",
   "language": "python",
   "name": "python3"
  },
  "language_info": {
   "codemirror_mode": {
    "name": "ipython",
    "version": 3
   },
   "file_extension": ".py",
   "mimetype": "text/x-python",
   "name": "python",
   "nbconvert_exporter": "python",
   "pygments_lexer": "ipython3",
   "version": "3.12.5"
  }
 },
 "nbformat": 4,
 "nbformat_minor": 5
}
