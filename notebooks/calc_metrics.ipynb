{
 "cells": [
  {
   "cell_type": "code",
   "execution_count": 1,
   "id": "d321d65c-3557-4952-898b-504f50e7276e",
   "metadata": {},
   "outputs": [],
   "source": [
    "%matplotlib inline\n",
    "\n",
    "from hydra import initialize, compose\n",
    "from omegaconf import OmegaConf \n",
    "\n",
    "import dr_gen.utils.run as ru\n",
    "import dr_gen.utils.display as dsp\n",
    "\n",
    "from dr_gen.analyze.run_group import RunGroup\n",
    "import dr_gen.analyze.result_plotting as rplt\n",
    "\n",
    "%load_ext autoreload\n",
    "%autoreload 2"
   ]
  },
  {
   "cell_type": "markdown",
   "id": "367faf00-0b9f-4f3f-8ee6-bc274ba8bbbd",
   "metadata": {
    "jp-MarkdownHeadingCollapsed": true
   },
   "source": [
    "### Setup Config and Generator"
   ]
  },
  {
   "cell_type": "code",
   "execution_count": 2,
   "id": "e5d1f859-9a7a-4e0f-a45a-e7923d8c3532",
   "metadata": {},
   "outputs": [],
   "source": [
    "with initialize(config_path=\"../configs/\", version_base=None):\n",
    "    cfg = compose(\n",
    "        config_name=\"config.yaml\",\n",
    "        overrides=[\n",
    "            \"paths=mac\",\n",
    "        ]\n",
    "    )"
   ]
  },
  {
   "cell_type": "code",
   "execution_count": 3,
   "id": "86607e2f-ff9c-43d2-a52f-935b50530165",
   "metadata": {},
   "outputs": [],
   "source": [
    "generator = ru.set_deterministic(cfg.seed)"
   ]
  },
  {
   "cell_type": "code",
   "execution_count": 4,
   "id": "f4a14155-6864-495f-ac9d-aaa29bfc1d89",
   "metadata": {},
   "outputs": [
    {
     "name": "stdout",
     "output_type": "stream",
     "text": [
      "root: /Users/daniellerothermel/drotherm\n",
      "proj_dir_name: dr_gen\n",
      "data: /Users/daniellerothermel/drotherm/data\n",
      "logs: /Users/daniellerothermel/drotherm/logs\n",
      "my_data: /Users/daniellerothermel/drotherm/data/dr_gen\n",
      "my_logs: /Users/daniellerothermel/drotherm/logs/dr_gen\n",
      "run_dir: /Users/daniellerothermel/drotherm/logs/dr_gen/bs500/lr0.1/wd0.0001/s0/2025-03-05/11-36-1741196195\n",
      "dataset_cache_root: /Users/daniellerothermel/drotherm/data/cifar10/\n",
      "agg_results: /Users/daniellerothermel/drotherm/data/dr_gen/cifar10/cluster_runs/lr_wd_init_v0\n",
      "\n"
     ]
    }
   ],
   "source": [
    "print(OmegaConf.to_yaml(OmegaConf.to_container(cfg.paths, resolve=True)))"
   ]
  },
  {
   "cell_type": "markdown",
   "id": "39d79f98-ee51-4a75-897a-ad5209011490",
   "metadata": {},
   "source": [
    "### Load, Disect and Filter Sweep"
   ]
  },
  {
   "cell_type": "code",
   "execution_count": 24,
   "id": "93b2dc12-0933-46f3-afe7-4aea02956208",
   "metadata": {},
   "outputs": [
    {
     "name": "stdout",
     "output_type": "stream",
     "text": [
      ">> Found 1288 log files\n",
      ">> Loaded 1288, 0 with parse errors\n"
     ]
    }
   ],
   "source": [
    "rg = RunGroup()\n",
    "rg.load_logs_from_base_dir(cfg.paths.agg_results)\n",
    "rg.extract_sweeps()"
   ]
  },
  {
   "cell_type": "code",
   "execution_count": 25,
   "id": "38c15754-ce55-44ab-80a0-b2f7db9bff4d",
   "metadata": {},
   "outputs": [
    {
     "name": "stdout",
     "output_type": "stream",
     "text": [
      "+--------------------+---------+-------+\n",
      "|        Key         |  Values | Count |\n",
      "+--------------------+---------+-------+\n",
      "|   model.weights    |   None  |  680  |\n",
      "|                    | DEFAULT |  608  |\n",
      "+--------------------+---------+-------+\n",
      "| optim.weight_decay | 0.00025 |  200  |\n",
      "|                    | 0.00016 |  200  |\n",
      "|                    | 6.3e-05 |  200  |\n",
      "|                    |  0.0001 |  423  |\n",
      "|                    |  4e-05  |  200  |\n",
      "|                    |  1e-05  |   65  |\n",
      "+--------------------+---------+-------+\n",
      "|      optim.lr      |   0.04  |  200  |\n",
      "|                    |   0.06  |  200  |\n",
      "|                    |   0.25  |  200  |\n",
      "|                    |   0.1   |  383  |\n",
      "|                    |   0.16  |  200  |\n",
      "|                    |   0.2   |   40  |\n",
      "|                    |   0.01  |   65  |\n",
      "+--------------------+---------+-------+\n",
      "|  optim.step_size   |    90   |  1287 |\n",
      "|                    |    60   |   1   |\n",
      "+--------------------+---------+-------+\n",
      "|       epochs       |   270   |  1287 |\n",
      "|                    |   180   |   1   |\n",
      "+--------------------+---------+-------+\n"
     ]
    }
   ],
   "source": [
    "print(dsp.make_table(*rg.get_swept_table_data()))"
   ]
  },
  {
   "cell_type": "code",
   "execution_count": 93,
   "id": "24823507-7ea6-4a93-a3c1-9c3a1480fbd7",
   "metadata": {},
   "outputs": [
    {
     "name": "stdout",
     "output_type": "stream",
     "text": [
      "(('epochs', 270), ('model.weights', None), ('optim.lr', 0.04), ('optim.step_size', 90), ('optim.weight_decay', 0.00025))\n"
     ]
    },
    {
     "ename": "AssertionError",
     "evalue": "",
     "output_type": "error",
     "traceback": [
      "\u001b[0;31m---------------------------------------------------------------------------\u001b[0m",
      "\u001b[0;31mAssertionError\u001b[0m                            Traceback (most recent call last)",
      "Cell \u001b[0;32mIn[93], line 1\u001b[0m\n\u001b[0;32m----> 1\u001b[0m table \u001b[38;5;241m=\u001b[39m dsp\u001b[38;5;241m.\u001b[39mmake_table(\u001b[38;5;241m*\u001b[39m\u001b[43mrg\u001b[49m\u001b[38;5;241;43m.\u001b[39;49m\u001b[43mget_hpm_combo_table_data\u001b[49m\u001b[43m(\u001b[49m\u001b[43m)\u001b[49m)\n",
      "File \u001b[0;32m~/drotherm/repos/dr_gen/src/dr_gen/analyze/run_group.py:159\u001b[0m, in \u001b[0;36mRunGroup.get_hpm_combo_table_data\u001b[0;34m(self)\u001b[0m\n\u001b[1;32m    157\u001b[0m good_run_inds \u001b[38;5;241m=\u001b[39m \u001b[38;5;28mself\u001b[39m\u001b[38;5;241m.\u001b[39mfilter_inds(run_inds)\n\u001b[1;32m    158\u001b[0m \u001b[38;5;28mprint\u001b[39m(sweep_cfg_tuples)\n\u001b[0;32m--> 159\u001b[0m \u001b[38;5;28;01massert\u001b[39;00m \u001b[38;5;28;01mFalse\u001b[39;00m\n\u001b[1;32m    161\u001b[0m kv_str_tuples \u001b[38;5;241m=\u001b[39m \u001b[38;5;28mself\u001b[39m\u001b[38;5;241m.\u001b[39msweep_cfg_tuples_to_string_tuples(sweep_cfg_tuples)\n\u001b[1;32m    162\u001b[0m rows\u001b[38;5;241m.\u001b[39mappend([\u001b[38;5;241m*\u001b[39mkv_str_tuples\u001b[38;5;241m.\u001b[39mvalues(), \u001b[38;5;28mlen\u001b[39m(good_run_inds)])\n",
      "\u001b[0;31mAssertionError\u001b[0m: "
     ]
    }
   ],
   "source": [
    "table = dsp.make_table(*rg.get_hpm_combo_table_data())"
   ]
  },
  {
   "cell_type": "code",
   "execution_count": 78,
   "id": "965e8ac1-5213-43cb-ab97-d43ec27182f5",
   "metadata": {},
   "outputs": [
    {
     "name": "stdout",
     "output_type": "stream",
     "text": [
      "+----------+------+---------+--------+-----------+-------+\n",
      "|   Init   |  LR  |    WD   | epochs | step_size | Count |\n",
      "+----------+------+---------+--------+-----------+-------+\n",
      "|   None   | 0.1  |  0.0001 |  180   |     60    |   1   |\n",
      "|   None   | 0.01 |  0.0001 |  270   |     90    |   20  |\n",
      "|   None   | 0.01 |  1e-05  |  270   |     90    |   20  |\n",
      "|   None   | 0.04 |  0.0001 |  270   |     90    |   20  |\n",
      "|   None   | 0.04 | 0.00016 |  270   |     90    |   20  |\n",
      "|   None   | 0.04 | 0.00025 |  270   |     90    |   20  |\n",
      "|   None   | 0.04 |  4e-05  |  270   |     90    |   20  |\n",
      "|   None   | 0.04 | 6.3e-05 |  270   |     90    |   20  |\n",
      "|   None   | 0.06 |  0.0001 |  270   |     90    |   20  |\n",
      "|   None   | 0.06 | 0.00016 |  270   |     90    |   20  |\n",
      "|   None   | 0.06 | 0.00025 |  270   |     90    |   20  |\n",
      "|   None   | 0.06 |  4e-05  |  270   |     90    |   20  |\n",
      "|   None   | 0.06 | 6.3e-05 |  270   |     90    |   20  |\n",
      "|   None   | 0.1  |  0.0001 |  270   |     90    |   99  |\n",
      "|   None   | 0.1  | 0.00016 |  270   |     90    |   20  |\n",
      "|   None   | 0.1  | 0.00025 |  270   |     90    |   20  |\n",
      "|   None   | 0.1  |  1e-05  |  270   |     90    |   20  |\n",
      "|   None   | 0.1  |  4e-05  |  270   |     90    |   20  |\n",
      "|   None   | 0.1  | 6.3e-05 |  270   |     90    |   20  |\n",
      "|   None   | 0.16 |  0.0001 |  270   |     90    |   20  |\n",
      "|   None   | 0.16 | 0.00016 |  270   |     90    |   20  |\n",
      "|   None   | 0.16 | 0.00025 |  270   |     90    |   20  |\n",
      "|   None   | 0.16 |  4e-05  |  270   |     90    |   20  |\n",
      "|   None   | 0.16 | 6.3e-05 |  270   |     90    |   20  |\n",
      "|   None   | 0.2  |  0.0001 |  270   |     90    |   20  |\n",
      "|   None   | 0.2  |  1e-05  |  270   |     90    |   20  |\n",
      "|   None   | 0.25 |  0.0001 |  270   |     90    |   20  |\n",
      "|   None   | 0.25 | 0.00016 |  270   |     90    |   20  |\n",
      "|   None   | 0.25 | 0.00025 |  270   |     90    |   20  |\n",
      "|   None   | 0.25 |  4e-05  |  270   |     90    |   20  |\n",
      "|   None   | 0.25 | 6.3e-05 |  270   |     90    |   20  |\n",
      "| pretrain | 0.01 |  0.0001 |  270   |     90    |   20  |\n",
      "| pretrain | 0.01 |  1e-05  |  270   |     90    |   5   |\n",
      "| pretrain | 0.04 |  0.0001 |  270   |     90    |   20  |\n",
      "| pretrain | 0.04 | 0.00016 |  270   |     90    |   20  |\n",
      "| pretrain | 0.04 | 0.00025 |  270   |     90    |   20  |\n",
      "| pretrain | 0.04 |  4e-05  |  270   |     90    |   20  |\n",
      "| pretrain | 0.04 | 6.3e-05 |  270   |     90    |   20  |\n",
      "| pretrain | 0.06 |  0.0001 |  270   |     90    |   20  |\n",
      "| pretrain | 0.06 | 0.00016 |  270   |     90    |   20  |\n",
      "| pretrain | 0.06 | 0.00025 |  270   |     90    |   20  |\n",
      "| pretrain | 0.06 |  4e-05  |  270   |     90    |   20  |\n",
      "| pretrain | 0.06 | 6.3e-05 |  270   |     90    |   20  |\n",
      "| pretrain | 0.1  |  0.0001 |  270   |     90    |  103  |\n",
      "| pretrain | 0.1  | 0.00016 |  270   |     90    |   20  |\n",
      "| pretrain | 0.1  | 0.00025 |  270   |     90    |   20  |\n",
      "| pretrain | 0.1  |  4e-05  |  270   |     90    |   20  |\n",
      "| pretrain | 0.1  | 6.3e-05 |  270   |     90    |   20  |\n",
      "| pretrain | 0.16 |  0.0001 |  270   |     90    |   20  |\n",
      "| pretrain | 0.16 | 0.00016 |  270   |     90    |   20  |\n",
      "| pretrain | 0.16 | 0.00025 |  270   |     90    |   20  |\n",
      "| pretrain | 0.16 |  4e-05  |  270   |     90    |   20  |\n",
      "| pretrain | 0.16 | 6.3e-05 |  270   |     90    |   20  |\n",
      "| pretrain | 0.25 |  0.0001 |  270   |     90    |   20  |\n",
      "| pretrain | 0.25 | 0.00016 |  270   |     90    |   20  |\n",
      "| pretrain | 0.25 | 0.00025 |  270   |     90    |   20  |\n",
      "| pretrain | 0.25 |  4e-05  |  270   |     90    |   20  |\n",
      "| pretrain | 0.25 | 6.3e-05 |  270   |     90    |   20  |\n",
      "+----------+------+---------+--------+-----------+-------+\n"
     ]
    }
   ],
   "source": [
    "dsp.print_sorted(table, [\"epochs\", \"Init\", \"LR\", \"WD\"])"
   ]
  },
  {
   "cell_type": "code",
   "execution_count": 79,
   "id": "82348b71-af75-4f9e-8e3d-9c7e4dda620a",
   "metadata": {},
   "outputs": [
    {
     "name": "stdout",
     "output_type": "stream",
     "text": [
      "+----------+------+---------+-------+\n",
      "|   Init   |  LR  |    WD   | Count |\n",
      "+----------+------+---------+-------+\n",
      "|   None   | 0.04 | 0.00025 |   20  |\n",
      "|   None   | 0.04 | 0.00016 |   20  |\n",
      "|   None   | 0.06 | 0.00016 |   20  |\n",
      "| pretrain | 0.04 | 6.3e-05 |   20  |\n",
      "| pretrain | 0.25 | 0.00016 |   20  |\n",
      "|   None   | 0.1  | 0.00025 |   20  |\n",
      "|   None   | 0.04 | 6.3e-05 |   20  |\n",
      "|   None   | 0.25 | 0.00025 |   20  |\n",
      "| pretrain | 0.16 | 6.3e-05 |   20  |\n",
      "|   None   | 0.1  |  0.0001 |   99  |\n",
      "| pretrain | 0.06 | 0.00025 |   20  |\n",
      "| pretrain | 0.1  |  4e-05  |   20  |\n",
      "| pretrain | 0.1  |  0.0001 |  103  |\n",
      "| pretrain | 0.06 | 0.00016 |   20  |\n",
      "| pretrain | 0.06 | 6.3e-05 |   20  |\n",
      "| pretrain | 0.1  | 0.00016 |   20  |\n",
      "|   None   | 0.06 |  4e-05  |   20  |\n",
      "|   None   | 0.25 | 6.3e-05 |   20  |\n",
      "| pretrain | 0.04 | 0.00025 |   20  |\n",
      "|   None   | 0.2  |  0.0001 |   20  |\n",
      "|   None   | 0.25 | 0.00016 |   20  |\n",
      "| pretrain | 0.25 |  4e-05  |   20  |\n",
      "|   None   | 0.25 |  0.0001 |   20  |\n",
      "|   None   | 0.1  |  4e-05  |   20  |\n",
      "| pretrain | 0.25 |  0.0001 |   20  |\n",
      "|   None   | 0.01 |  0.0001 |   20  |\n",
      "|   None   | 0.06 | 0.00025 |   20  |\n",
      "| pretrain | 0.16 | 0.00016 |   20  |\n",
      "|   None   | 0.16 | 6.3e-05 |   20  |\n",
      "| pretrain | 0.06 |  4e-05  |   20  |\n",
      "| pretrain | 0.04 |  0.0001 |   20  |\n",
      "| pretrain | 0.04 |  4e-05  |   20  |\n",
      "|   None   | 0.2  |  1e-05  |   20  |\n",
      "|   None   | 0.16 | 0.00016 |   20  |\n",
      "|   None   | 0.16 |  0.0001 |   20  |\n",
      "| pretrain | 0.04 | 0.00016 |   20  |\n",
      "| pretrain | 0.16 |  4e-05  |   20  |\n",
      "|   None   | 0.1  | 6.3e-05 |   20  |\n",
      "|   None   | 0.16 |  4e-05  |   20  |\n",
      "|   None   | 0.06 | 6.3e-05 |   20  |\n",
      "| pretrain | 0.06 |  0.0001 |   20  |\n",
      "|   None   | 0.04 |  4e-05  |   20  |\n",
      "| pretrain | 0.01 |  0.0001 |   20  |\n",
      "| pretrain | 0.1  | 0.00025 |   20  |\n",
      "|   None   | 0.1  | 0.00016 |   20  |\n",
      "| pretrain | 0.16 |  0.0001 |   20  |\n",
      "|   None   | 0.04 |  0.0001 |   20  |\n",
      "|   None   | 0.16 | 0.00025 |   20  |\n",
      "| pretrain | 0.1  | 6.3e-05 |   20  |\n",
      "|   None   | 0.1  |  1e-05  |   20  |\n",
      "| pretrain | 0.25 | 6.3e-05 |   20  |\n",
      "| pretrain | 0.25 | 0.00025 |   20  |\n",
      "| pretrain | 0.16 | 0.00025 |   20  |\n",
      "|   None   | 0.06 |  0.0001 |   20  |\n",
      "|   None   | 0.25 |  4e-05  |   20  |\n",
      "| pretrain | 0.01 |  1e-05  |   5   |\n",
      "|   None   | 0.01 |  1e-05  |   20  |\n",
      "|   None   | 0.1  |  0.0001 |   1   |\n",
      "+----------+------+---------+-------+\n"
     ]
    }
   ],
   "source": [
    "dsp.print_drop_cols(table, ['epochs', 'step_size'])"
   ]
  },
  {
   "cell_type": "code",
   "execution_count": 80,
   "id": "2a9ff347-850c-4aa4-88b3-343f6d0f3d28",
   "metadata": {},
   "outputs": [
    {
     "name": "stdout",
     "output_type": "stream",
     "text": [
      "+----------+------+---------+--------+-----------+-------+\n",
      "|   Init   |  LR  |    WD   | epochs | step_size | Count |\n",
      "+----------+------+---------+--------+-----------+-------+\n",
      "| pretrain | 0.04 | 6.3e-05 |  270   |     90    |   20  |\n",
      "| pretrain | 0.25 | 0.00016 |  270   |     90    |   20  |\n",
      "| pretrain | 0.16 | 6.3e-05 |  270   |     90    |   20  |\n",
      "| pretrain | 0.06 | 0.00025 |  270   |     90    |   20  |\n",
      "| pretrain | 0.1  |  4e-05  |  270   |     90    |   20  |\n",
      "| pretrain | 0.1  |  0.0001 |  270   |     90    |  103  |\n",
      "| pretrain | 0.06 | 0.00016 |  270   |     90    |   20  |\n",
      "| pretrain | 0.06 | 6.3e-05 |  270   |     90    |   20  |\n",
      "| pretrain | 0.1  | 0.00016 |  270   |     90    |   20  |\n",
      "| pretrain | 0.04 | 0.00025 |  270   |     90    |   20  |\n",
      "| pretrain | 0.25 |  4e-05  |  270   |     90    |   20  |\n",
      "| pretrain | 0.25 |  0.0001 |  270   |     90    |   20  |\n",
      "| pretrain | 0.16 | 0.00016 |  270   |     90    |   20  |\n",
      "| pretrain | 0.06 |  4e-05  |  270   |     90    |   20  |\n",
      "| pretrain | 0.04 |  0.0001 |  270   |     90    |   20  |\n",
      "| pretrain | 0.04 |  4e-05  |  270   |     90    |   20  |\n",
      "| pretrain | 0.04 | 0.00016 |  270   |     90    |   20  |\n",
      "| pretrain | 0.16 |  4e-05  |  270   |     90    |   20  |\n",
      "| pretrain | 0.06 |  0.0001 |  270   |     90    |   20  |\n",
      "| pretrain | 0.01 |  0.0001 |  270   |     90    |   20  |\n",
      "| pretrain | 0.1  | 0.00025 |  270   |     90    |   20  |\n",
      "| pretrain | 0.16 |  0.0001 |  270   |     90    |   20  |\n",
      "| pretrain | 0.1  | 6.3e-05 |  270   |     90    |   20  |\n",
      "| pretrain | 0.25 | 6.3e-05 |  270   |     90    |   20  |\n",
      "| pretrain | 0.25 | 0.00025 |  270   |     90    |   20  |\n",
      "| pretrain | 0.16 | 0.00025 |  270   |     90    |   20  |\n",
      "| pretrain | 0.01 |  1e-05  |  270   |     90    |   5   |\n",
      "+----------+------+---------+--------+-----------+-------+\n"
     ]
    }
   ],
   "source": [
    "dsp.print_filtered(table, init='pretrain', step_size=90)"
   ]
  },
  {
   "cell_type": "code",
   "execution_count": 90,
   "id": "407c562e-5c22-4332-a42a-53738b25140b",
   "metadata": {},
   "outputs": [
    {
     "name": "stdout",
     "output_type": "stream",
     "text": [
      "+----------+------+---------+-------+\n",
      "|   Init   |  LR  |    WD   | Count |\n",
      "+----------+------+---------+-------+\n",
      "|   None   | 0.01 |  0.0001 |   20  |\n",
      "| pretrain | 0.01 |  0.0001 |   20  |\n",
      "|   None   | 0.01 |  1e-05  |   20  |\n",
      "| pretrain | 0.01 |  1e-05  |   5   |\n",
      "|   None   | 0.1  |  0.0001 |   99  |\n",
      "| pretrain | 0.1  |  0.0001 |  103  |\n",
      "|   None   | 0.1  | 0.00016 |   20  |\n",
      "| pretrain | 0.1  | 0.00016 |   20  |\n",
      "|   None   | 0.1  | 0.00025 |   20  |\n",
      "| pretrain | 0.1  | 0.00025 |   20  |\n",
      "|   None   | 0.1  |  1e-05  |   20  |\n",
      "|   None   | 0.1  |  4e-05  |   20  |\n",
      "| pretrain | 0.1  |  4e-05  |   20  |\n",
      "|   None   | 0.1  | 6.3e-05 |   20  |\n",
      "| pretrain | 0.1  | 6.3e-05 |   20  |\n",
      "+----------+------+---------+-------+\n"
     ]
    }
   ],
   "source": [
    "dsp.print_table(\n",
    "    table,\n",
    "    drop_cols=['step_size', 'epochs'],\n",
    "    sort_cols=['LR', 'WD', 'Init'],\n",
    "    lr=[0.1, 0.01],\n",
    "    epochs=270,\n",
    ")"
   ]
  },
  {
   "cell_type": "code",
   "execution_count": null,
   "id": "d52a4090-989c-4fc1-9d1d-b270a0b17a3d",
   "metadata": {},
   "outputs": [],
   "source": []
  },
  {
   "cell_type": "code",
   "execution_count": null,
   "id": "a4f41435-e429-46f6-a99a-889904a7c539",
   "metadata": {},
   "outputs": [],
   "source": []
  },
  {
   "cell_type": "markdown",
   "id": "259c7865-08b9-474b-be16-597b58c35119",
   "metadata": {},
   "source": [
    "### Update rplt"
   ]
  },
  {
   "cell_type": "code",
   "execution_count": null,
   "id": "acbe5490-ecf2-4305-8061-677fce3ac193",
   "metadata": {},
   "outputs": [],
   "source": []
  },
  {
   "cell_type": "code",
   "execution_count": null,
   "id": "63a25151-d762-4ca4-a60c-03421a0b9c9d",
   "metadata": {},
   "outputs": [],
   "source": []
  },
  {
   "cell_type": "code",
   "execution_count": null,
   "id": "871a7436-2354-45a3-9580-6b28acc28890",
   "metadata": {},
   "outputs": [],
   "source": []
  },
  {
   "cell_type": "markdown",
   "id": "b60cd757-141f-4932-9edb-f619ad9ee158",
   "metadata": {},
   "source": [
    "### Util Usage"
   ]
  },
  {
   "cell_type": "markdown",
   "id": "2495234c-65a0-48e3-9471-aeaf4827bdcd",
   "metadata": {},
   "source": [
    "#### Loading and Parsing Run Logs"
   ]
  },
  {
   "cell_type": "code",
   "execution_count": null,
   "id": "8feff510-0f3d-4675-b2f8-74a2849f5d35",
   "metadata": {},
   "outputs": [],
   "source": [
    "# Example: Parsing all runs, dropping error runs\n",
    "print(f\">> Parsing {len(run_logs):,} Runs\")\n",
    "good_runs, bad_runs = rp.parse_run_logs(run_logs)\n",
    "print(f\"   - num good: {len(good_runs):,}\")\n",
    "print(f\"   - num w/ errors: {len(bad_runs):,}\")"
   ]
  },
  {
   "cell_type": "markdown",
   "id": "d835a768-7a97-447f-b255-861d90e32b3c",
   "metadata": {},
   "source": [
    "#### Determining the Sweeps in the Data"
   ]
  },
  {
   "cell_type": "code",
   "execution_count": null,
   "id": "148cb305-5d33-434d-9f45-8c6885e53b9b",
   "metadata": {},
   "outputs": [],
   "source": [
    "# Example: Getting Sweep Info & Simple Display\n",
    "sweep_info = rp.extract_sweeps(good_runs)\n",
    "swept_table = dsp.make_table(*rp.get_swept_table(sweep_info['swept_vals']))\n",
    "print(f\"Swept Values:\\n{swept_table}\")"
   ]
  },
  {
   "cell_type": "code",
   "execution_count": null,
   "id": "0ba38bc2-2c44-4622-b657-450a8f853da4",
   "metadata": {},
   "outputs": [],
   "source": [
    "# Example: Show the Sweep Combo Run Info\n",
    "combo_table = dsp.make_table(*rp.get_combo_table_contents(\n",
    "    sweep_info['combo_key_order'],\n",
    "    sweep_info['combo_inds'],\n",
    "))\n",
    "\n",
    "print(\">> First 5 lines of combos\")\n",
    "print(combo_table.get_string(start=0, end=5))\n",
    "\n",
    "print(\"\\n>> Just Default HPMs\")\n",
    "def filter_function(vals):\n",
    "    return (\n",
    "        #vals[0] == \"None\" and   # Init\n",
    "        vals[1] == \"0.1\" and     # LR\n",
    "        vals[2] == \"0.0001\" and  # WD\n",
    "        vals[4] == \"270\"         # Epochs\n",
    "    )\n",
    "print(combo_table.get_string(row_filter=filter_function))"
   ]
  },
  {
   "cell_type": "code",
   "execution_count": null,
   "id": "fbcd6949-dcf8-4fb5-9122-e12e0e5b6aab",
   "metadata": {},
   "outputs": [],
   "source": [
    "# Example: Get inds for specific configuration\n",
    "# Here selected_inds is {(combo_keys): [inds, ...]}\n",
    "selected_inds = rp.get_inds_by_kvs(\n",
    "    sweep_info['combo_key_order'], sweep_info['combo_inds'],\n",
    "    {\n",
    "        'epochs': '270',\n",
    "        'model.weights': 'None',\n",
    "        'optim.lr': '0.1',\n",
    "    },\n",
    ")\n",
    "dsp.make_table(\n",
    "    [*sweep_info['combo_key_order'], \"Count\"],\n",
    "    [[*k, len(selected_inds[k])] for k in selected_inds.keys()],\n",
    ")"
   ]
  },
  {
   "cell_type": "markdown",
   "id": "d2cd3df0-8ec9-4bd7-b43c-eaf1e2ebe6c8",
   "metadata": {},
   "source": [
    "#### Format and Extract Metrics"
   ]
  },
  {
   "cell_type": "code",
   "execution_count": null,
   "id": "169f899e-f24d-43d1-880b-5555cf3cfd07",
   "metadata": {},
   "outputs": [],
   "source": [
    "all_runs_metrics = rp.remap_run_list_metrics(good_runs)\n",
    "print(f\">> Splits: {list(all_runs_metrics.keys())}\")\n",
    "print(f\">> Metrics: {list(all_runs_metrics['train'].keys())}\")"
   ]
  },
  {
   "cell_type": "code",
   "execution_count": null,
   "id": "76d26038-ebb3-426c-8dca-39b4ec9fe353",
   "metadata": {},
   "outputs": [],
   "source": [
    "# Example: Get specific metric for a single run\n",
    "rp.get_run_metrics(all_runs_metrics, \"train\", \"loss\", 0)[:5]"
   ]
  },
  {
   "cell_type": "code",
   "execution_count": null,
   "id": "9bea870e-64fd-4335-bf6c-0cf6d116a4af",
   "metadata": {},
   "outputs": [],
   "source": [
    "# Example: Get specific metric for list of inds\n",
    "two_mets = rp.get_runs_metrics(all_runs_metrics, \"train\", \"loss\", [0,1])\n",
    "print(\">> Loss for two runs\")\n",
    "dsp.make_table(['Run 0', 'Run 1'], [[two_mets[0][i], two_mets[1][i]] for i in range(4)])"
   ]
  },
  {
   "cell_type": "code",
   "execution_count": null,
   "id": "358c7c3f-c8d7-42fd-a571-9c4e929b2032",
   "metadata": {},
   "outputs": [],
   "source": [
    "# Example: Get inds for specific configuration\n",
    "# Here selected_inds is {(combo_keys): [inds, ...]}\n",
    "selected_inds = rp.get_inds_by_kvs(\n",
    "    sweep_info['combo_key_order'], sweep_info['combo_inds'],\n",
    "    {\n",
    "        'epochs': '270',\n",
    "        #'model.weights': 'None',\n",
    "        'optim.lr': '0.1',\n",
    "        'optim.weight_decay': '0.0001',\n",
    "    },\n",
    ")\n",
    "print(dsp.make_table(\n",
    "    [*sweep_info['combo_key_order'], \"Count\"],\n",
    "    [[*k, len(selected_inds[k])] for k in selected_inds.keys()],\n",
    "))\n",
    "selected_metrics = rp.get_selected_run_metrics(\n",
    "    all_runs_metrics,\n",
    "    \"train\",\n",
    "    \"loss\",\n",
    "    selected_inds,\n",
    ")\n",
    "for k, v in selected_metrics.items():\n",
    "    print(f\">> Selected values: {k}\")\n",
    "    print(f\"  - Num Runs: {len(v)}\")\n",
    "    print(f\"  - Epochs Per Run: {len(v[0])}\")\n",
    "    print(f\"  - First few metric vals: {v[0][:6]}\")\n",
    "    print()"
   ]
  },
  {
   "cell_type": "markdown",
   "id": "e3b8fd65-cbde-4c7d-901f-5a76c412a680",
   "metadata": {},
   "source": [
    "#### Basic Plotting Utils"
   ]
  },
  {
   "cell_type": "code",
   "execution_count": null,
   "id": "71e112e9-38b0-4bbf-ae2a-6f816a68e5db",
   "metadata": {},
   "outputs": [],
   "source": [
    "# Example: Plot multiple splits for same run\n",
    "pu.plot_lines(\n",
    "    pu.get_plt_cfg(\n",
    "        ylabel=\"acc\", title=\"Accuracy During Training\",\n",
    "        ylim=(70, 100), labels=['train', 'val']\n",
    "    ),\n",
    "    [\n",
    "        rp.get_run_metrics(all_runs_metrics, \"train\", \"acc1\", 0),\n",
    "        rp.get_run_metrics(all_runs_metrics, \"val\", \"acc1\", 0),\n",
    "    ],\n",
    ")"
   ]
  },
  {
   "cell_type": "code",
   "execution_count": null,
   "id": "65ecae65-e470-49d0-b406-d373ecfb8e87",
   "metadata": {},
   "outputs": [],
   "source": [
    "# Example: Plot one split for multiple inds (manually selected)\n",
    "pu.plot_lines(\n",
    "    pu.get_plt_cfg(\n",
    "        ylabel=\"acc\", title=\"Val Accuracy During Training\",\n",
    "        ylim=(70, 86), labels=[0,1,2],\n",
    "    ),\n",
    "    rp.get_runs_metrics(all_runs_metrics, \"val\", \"acc1\", [0,1,2]),\n",
    ")"
   ]
  },
  {
   "cell_type": "code",
   "execution_count": null,
   "id": "98d5d99f-fb2e-43fc-9bbe-2f5e88200b09",
   "metadata": {},
   "outputs": [],
   "source": [
    "# Example: Plot one split for multiple inds (selected via combo)\n",
    "selected_inds = rp.get_inds_by_kvs(\n",
    "    sweep_info['combo_key_order'], sweep_info['combo_inds'],\n",
    "    {\n",
    "        'epochs': '270',\n",
    "        'model.weights': 'None',\n",
    "        'optim.lr': '0.1',\n",
    "        'optim.weight_decay': '0.0001',\n",
    "    },\n",
    ")\n",
    "selected_metrics = list(rp.get_selected_run_metrics(\n",
    "    all_runs_metrics,\n",
    "    \"val\",\n",
    "    \"acc1\",\n",
    "    selected_inds,\n",
    ").items())\n",
    "met_keys = [sm[0] for sm in selected_metrics]\n",
    "met_values = [sm[1] for sm in selected_metrics]\n",
    "pu.plot_lines(\n",
    "    pu.get_plt_cfg(\n",
    "        ylabel=\"acc\",\n",
    "        title=rplt.kvs_to_str(\n",
    "            list(zip(sweep_info['combo_key_order'], met_keys[0]))\n",
    "        ),\n",
    "        ylim=(70, 86),\n",
    "        legend=False,\n",
    "        #labels=[str(k) for k in selected_metrics],\n",
    "    ),\n",
    "    met_values[0],\n",
    ")"
   ]
  },
  {
   "cell_type": "markdown",
   "id": "8ff9df3c-70e9-4a0f-a49a-65a77054b25e",
   "metadata": {},
   "source": [
    "#### Simple Histogram and Ind Data"
   ]
  },
  {
   "cell_type": "code",
   "execution_count": null,
   "id": "7e3fc124-473d-4467-8282-b7460902756e",
   "metadata": {},
   "outputs": [],
   "source": [
    "# Example of getting aggregate stats and vals for a single ind\n",
    "all_kvs, all_split_vals, _ = rp.get_selected_combo(\n",
    "    good_runs,\n",
    "    all_runs_metrics,\n",
    "    sweep_info,\n",
    "    kv_select={\n",
    "        'epochs': '270',\n",
    "        'model.weights': 'None',\n",
    "        'optim.lr': '0.1',\n",
    "        'optim.weight_decay': '0.0001',\n",
    "    }, \n",
    "    splits=['train', 'val'],\n",
    "    ignore_keys=[\"optim.step_size\", \"epochs\"],\n",
    "    num_seeds=5,\n",
    ")\n",
    "rd_stats_ind100 = pu.get_runs_data_stats_ind(\n",
    "    all_split_vals['val'][0],\n",
    "    ind=100,\n",
    ")\n",
    "rd_stats_ind100"
   ]
  },
  {
   "cell_type": "code",
   "execution_count": null,
   "id": "a8ce3c91-d7ba-4883-adf2-b5df15e45406",
   "metadata": {},
   "outputs": [],
   "source": [
    "all_kvs, all_split_vals, _ = rp.get_selected_combo(\n",
    "    good_runs,\n",
    "    all_runs_metrics,\n",
    "    sweep_info,\n",
    "    kv_select={\n",
    "        'epochs': '270',\n",
    "        'model.weights': 'None',\n",
    "        'optim.lr': '0.1',\n",
    "        'optim.weight_decay': '0.0001',\n",
    "    }, \n",
    "    splits=['train', 'val'],\n",
    "    ignore_keys=[\"optim.step_size\", \"epochs\"],\n",
    ")\n",
    "rd_stats_ind100 = pu.get_runs_data_stats_ind(\n",
    "    all_split_vals['val'][0],\n",
    "    ind=100,\n",
    ")\n",
    "hp.plot_histogram(\n",
    "    pu.get_plt_cfg(\n",
    "        nbins=rd_stats_ind100['n']//4,\n",
    "        hist_range=(80, 90),\n",
    "        title=f\"Accuracy Distribution, {rd_stats_ind100['n']} Seeds\",\n",
    "        ylabel=\"Num Runs\",\n",
    "    ),\n",
    "    rd_stats_ind100['vals'],    \n",
    ")"
   ]
  },
  {
   "cell_type": "code",
   "execution_count": null,
   "id": "8eb67b3a-1994-43c0-b9b2-feb52c8b3485",
   "metadata": {},
   "outputs": [],
   "source": [
    "all_kvs, all_split_vals, _ = rp.get_selected_combo(\n",
    "    good_runs,\n",
    "    all_runs_metrics,\n",
    "    sweep_info,\n",
    "    kv_select={\n",
    "        'epochs': '270',\n",
    "        #'model.weights': 'None',\n",
    "        'optim.lr': '0.1',\n",
    "        'optim.weight_decay': '0.0001',\n",
    "    }, \n",
    "    splits=['train', 'val'],\n",
    "    ignore_keys=[\"optim.step_size\", \"epochs\"],\n",
    ")\n",
    "stats1_ind100 = pu.get_runs_data_stats_ind(\n",
    "    all_split_vals['val'][0],\n",
    "    ind=100\n",
    ")\n",
    "stats2_ind100 = pu.get_runs_data_stats_ind( \n",
    "    all_split_vals['val'][1],\n",
    "    ind=100,\n",
    ")\n",
    "labels_kvstrs = [\n",
    "    rplt.kvs_to_str(\n",
    "        [(k, v) for k, v in kvs if k == \"model.weights\"]\n",
    "    ) for kvs in all_kvs\n",
    "]\n",
    "title_kvstr = rplt.kvs_to_str(\n",
    "    [(k, v) for k, v in all_kvs[0] if k != \"model.weights\"]\n",
    ")\n",
    "ns = [stats1_ind100['n'], stats2_ind100['n']]\n",
    "hp.plot_histogram_compare(\n",
    "    pu.get_plt_cfg(\n",
    "        nbins=max(ns)//4,\n",
    "        hist_range=(80, 90),\n",
    "        title=f\"Accuracy Distribution | {title_kvstr}\",\n",
    "        ylabel=\"Num Runs\",\n",
    "        labels=[\n",
    "            rplt.kvs_to_str(\n",
    "                [(k, v) for k, v in kvs if k == \"model.weights\"]\n",
    "            ) + f\" n={ns[i]} \" for i, kvs in enumerate(all_kvs)\n",
    "        ],\n",
    "    ),\n",
    "    [\n",
    "        stats1_ind100,\n",
    "        stats2_ind100,\n",
    "    ],\n",
    ")"
   ]
  },
  {
   "cell_type": "code",
   "execution_count": null,
   "id": "4dc8573c-8d3d-45ab-a24e-95189ac5be0a",
   "metadata": {},
   "outputs": [],
   "source": [
    "all_kvs, all_split_vals, _ = rp.get_selected_combo(\n",
    "    good_runs,\n",
    "    all_runs_metrics,\n",
    "    sweep_info,\n",
    "    kv_select={\n",
    "        'epochs': '270',\n",
    "        #'model.weights': 'None',\n",
    "        'optim.lr': '0.1',\n",
    "        'optim.weight_decay': '0.0001',\n",
    "    }, \n",
    "    splits=['train', 'val'],\n",
    "    ignore_keys=[\"optim.step_size\", \"epochs\"],\n",
    ")\n",
    "stats1_ind100 = pu.get_runs_data_stats_ind(\n",
    "    all_split_vals['val'][0],\n",
    "    ind=100\n",
    ")\n",
    "stats2_ind100 = pu.get_runs_data_stats_ind( \n",
    "    all_split_vals['val'][1],\n",
    "    ind=100,\n",
    ")\n",
    "results = ks.calculate_ks_for_run_sets(\n",
    "    stats1_ind100['vals'],\n",
    "    stats2_ind100['vals'],\n",
    ")\n",
    "pu.plot_cdf(\n",
    "    pu.get_plt_cfg(),\n",
    "    results['all_vals'],\n",
    "    results['cdf1'],\n",
    ")\n",
    "pu.plot_cdfs(\n",
    "    pu.get_plt_cfg(\n",
    "        labels=[\n",
    "            rplt.kvs_to_str(\n",
    "                [(k, v) for k, v in kvs if k == \"model.weights\"]\n",
    "            ) + f\" n={ns[i]} \" for i, kvs in enumerate(all_kvs)\n",
    "        ],\n",
    "    ),\n",
    "    results['all_vals'],\n",
    "    [\n",
    "        results['cdf1'],\n",
    "        results['cdf2'],\n",
    "    ]\n",
    ")"
   ]
  },
  {
   "cell_type": "code",
   "execution_count": null,
   "id": "f1683ef0-9e6b-4293-bc55-8bdf77a09c7a",
   "metadata": {},
   "outputs": [],
   "source": []
  },
  {
   "cell_type": "markdown",
   "id": "42d6d0d7-2cd5-44a1-9fda-ba304b43f2bf",
   "metadata": {},
   "source": [
    "#### Using Result Plotting Utils"
   ]
  },
  {
   "cell_type": "code",
   "execution_count": null,
   "id": "ecc1f02e-ad83-4762-bee4-4631d4ec4246",
   "metadata": {},
   "outputs": [],
   "source": [
    "rplt.plot_run_splits(\n",
    "    good_runs,\n",
    "    all_runs_metrics,\n",
    "    sweep_info,\n",
    "    run_ind=0,\n",
    "    ignore_keys=['optim.step_size', 'epochs'],\n",
    "    ylim=(75, 100),\n",
    ")"
   ]
  },
  {
   "cell_type": "code",
   "execution_count": null,
   "id": "c655a0c0-1381-4f70-a465-41ae8c9083eb",
   "metadata": {},
   "outputs": [],
   "source": [
    "rplt.plot_split_summaries(\n",
    "    good_runs,\n",
    "    all_runs_metrics,\n",
    "    sweep_info,\n",
    "    kv_select={\n",
    "        'epochs': '270',\n",
    "        'model.weights': 'None',\n",
    "        'optim.lr': '0.1',\n",
    "        'optim.weight_decay': '0.0001',\n",
    "    }, \n",
    "    splits=['train', 'val'],\n",
    "    ignore_keys=[\"optim.step_size\", \"epochs\"],\n",
    "    num_seeds=None,\n",
    "    ylim=(82, 86),\n",
    ")\n",
    "    "
   ]
  },
  {
   "cell_type": "code",
   "execution_count": null,
   "id": "13145475-42b8-42a5-8d9c-0ac9d242c33b",
   "metadata": {},
   "outputs": [],
   "source": [
    "rplt.plot_split_summaries(\n",
    "    good_runs,\n",
    "    all_runs_metrics,\n",
    "    sweep_info,\n",
    "    kv_select={\n",
    "        'epochs': '270',\n",
    "        'model.weights': 'None',\n",
    "        'optim.lr': '0.1',\n",
    "        'optim.weight_decay': '0.0001',\n",
    "    }, \n",
    "    splits=['train', 'val'],\n",
    "    ignore_keys=[\"optim.step_size\", \"epochs\"],\n",
    "    num_seeds=20,\n",
    "    ylim=(82, 86),\n",
    ")\n",
    "    "
   ]
  },
  {
   "cell_type": "code",
   "execution_count": null,
   "id": "5c4788e9-87ed-4383-8d5b-30fe73b009bf",
   "metadata": {},
   "outputs": [],
   "source": [
    "rplt.plot_combo_histogram(\n",
    "    good_runs,\n",
    "    all_runs_metrics,\n",
    "    sweep_info,\n",
    "    kv_select={\n",
    "        'epochs': '270',\n",
    "        'model.weights': 'None',\n",
    "        'optim.lr': '0.1',\n",
    "        'optim.weight_decay': '0.0001',\n",
    "    }, \n",
    "    split='val',\n",
    "    epoch=110,\n",
    "    metric='acc1',\n",
    "    ignore_keys=[\"optim.step_size\", \"epochs\"],\n",
    "    num_seeds=None,\n",
    "    #nbins=10,\n",
    "    hist_range=(82,86),\n",
    "    density=True,\n",
    ")"
   ]
  },
  {
   "cell_type": "code",
   "execution_count": null,
   "id": "5e7829e8-37b5-437f-a716-70b91bb583d8",
   "metadata": {},
   "outputs": [],
   "source": [
    "rplt.plot_combo_histogram_compare(\n",
    "    good_runs,\n",
    "    all_runs_metrics,\n",
    "    sweep_info,\n",
    "    kv_select={\n",
    "        'epochs': '270',\n",
    "        #'model.weights': 'None',\n",
    "        'optim.lr': '0.1',\n",
    "        'optim.weight_decay': '0.0001',\n",
    "    }, \n",
    "    split=\"val\",\n",
    "    epoch=100,\n",
    "    metric=\"acc1\",\n",
    "    ignore_keys=[\"optim.step_size\", \"epochs\"],\n",
    "    num_seeds=20,\n",
    "    nbins=10,\n",
    "    vary_key=\"model.weights\",\n",
    ")"
   ]
  },
  {
   "cell_type": "code",
   "execution_count": null,
   "id": "e98d87fc-74a8-4e40-8ee8-abd6224532a6",
   "metadata": {},
   "outputs": [],
   "source": [
    "rplt.ks_stats_plot_cdfs(\n",
    "    good_runs,\n",
    "    all_runs_metrics,\n",
    "    sweep_info,\n",
    "    kv_select={\n",
    "        'epochs': '270',\n",
    "        #'model.weights': 'None',\n",
    "        'optim.lr': '0.1',\n",
    "        'optim.weight_decay': '0.0001',\n",
    "    }, \n",
    "    split=\"val\",\n",
    "    epoch=100,\n",
    "    metric=\"acc1\",\n",
    "    ignore_keys=[\"optim.step_size\", \"epochs\"],\n",
    "    num_seeds=None,\n",
    "    vary_key=\"model.weights\",\n",
    ")"
   ]
  },
  {
   "cell_type": "code",
   "execution_count": null,
   "id": "6b4edaec-7873-4728-aeff-765b6b873485",
   "metadata": {},
   "outputs": [],
   "source": [
    "rplt.ks_stats_plot_cdfs(\n",
    "    good_runs,\n",
    "    all_runs_metrics,\n",
    "    sweep_info,\n",
    "    kv_select={\n",
    "        'epochs': '270',\n",
    "        'model.weights': 'None',\n",
    "        #'optim.lr': '0.1',\n",
    "        'optim.weight_decay': '0.0001',\n",
    "    }, \n",
    "    split=\"val\",\n",
    "    epoch=100,\n",
    "    metric=\"acc1\",\n",
    "    ignore_keys=[\"optim.step_size\", \"epochs\"],\n",
    "    num_seeds=None,\n",
    "    vary_key=\"optim.lr\",\n",
    "    vary_vals=[str(v) for v in [0.1, 0.01]],\n",
    ")"
   ]
  },
  {
   "cell_type": "code",
   "execution_count": null,
   "id": "01cce886-5be8-4507-b3d8-1a97d0fb916c",
   "metadata": {},
   "outputs": [],
   "source": [
    "rplt.ks_stat_plot_cdfs_histograms(\n",
    "    good_runs,\n",
    "    all_runs_metrics,\n",
    "    sweep_info,\n",
    "    kv_select={\n",
    "        'epochs': '270',\n",
    "        #'model.weights': 'None',\n",
    "        'optim.lr': '0.1',\n",
    "        'optim.weight_decay': '0.0001',\n",
    "    }, \n",
    "    split=\"val\",\n",
    "    epoch=100,\n",
    "    metric=\"acc1\",\n",
    "    ignore_keys=[\"optim.step_size\", \"epochs\"],\n",
    "    num_seeds=None,\n",
    "    vary_key=\"model.weights\",\n",
    "    nbins=40,\n",
    ")"
   ]
  },
  {
   "cell_type": "code",
   "execution_count": null,
   "id": "0b3753c3-0fc1-47c6-b201-b90f421e12eb",
   "metadata": {},
   "outputs": [],
   "source": [
    "rplt.ks_stat_plot_cdfs_histograms(\n",
    "    good_runs,\n",
    "    all_runs_metrics,\n",
    "    sweep_info,\n",
    "    kv_select={\n",
    "        'epochs': '270',\n",
    "        'model.weights': 'None',\n",
    "        #'optim.lr': '0.1',\n",
    "        'optim.weight_decay': '0.0001',\n",
    "    }, \n",
    "    split=\"val\",\n",
    "    epoch=100,\n",
    "    metric=\"acc1\",\n",
    "    ignore_keys=[\"optim.step_size\", \"epochs\"],\n",
    "    num_seeds=20,\n",
    "    vary_key=\"optim.lr\",\n",
    "    vary_vals=[str(lr) for lr in [0.1, 0.01]],\n",
    "    nbins=40,\n",
    ")"
   ]
  },
  {
   "cell_type": "code",
   "execution_count": null,
   "id": "4050919b-87ea-4922-a461-e0bb80b05d9e",
   "metadata": {},
   "outputs": [],
   "source": [
    "rplt.ks_stat_plot_cdfs_histograms(\n",
    "    good_runs,\n",
    "    all_runs_metrics,\n",
    "    sweep_info,\n",
    "    kv_select={\n",
    "        'epochs': '270',\n",
    "        'model.weights': 'None',\n",
    "        #'optim.lr': '0.1',\n",
    "        'optim.weight_decay': '0.0001',\n",
    "    }, \n",
    "    split=\"val\",\n",
    "    epoch=100,\n",
    "    metric=\"acc1\",\n",
    "    ignore_keys=[\"optim.step_size\", \"epochs\"],\n",
    "    num_seeds=20,\n",
    "    vary_key=\"optim.lr\",\n",
    "    vary_vals=[str(lr) for lr in [0.1, 0.04]],\n",
    "    nbins=40,\n",
    ")"
   ]
  },
  {
   "cell_type": "code",
   "execution_count": null,
   "id": "89bdd6b0-5a9d-43a3-9a16-6163834895bd",
   "metadata": {},
   "outputs": [],
   "source": []
  }
 ],
 "metadata": {
  "kernelspec": {
   "display_name": "Python 3 (ipykernel)",
   "language": "python",
   "name": "python3"
  },
  "language_info": {
   "codemirror_mode": {
    "name": "ipython",
    "version": 3
   },
   "file_extension": ".py",
   "mimetype": "text/x-python",
   "name": "python",
   "nbconvert_exporter": "python",
   "pygments_lexer": "ipython3",
   "version": "3.12.5"
  }
 },
 "nbformat": 4,
 "nbformat_minor": 5
}
