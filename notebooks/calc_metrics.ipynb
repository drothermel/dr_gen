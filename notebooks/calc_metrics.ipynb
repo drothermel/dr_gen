{
 "cells": [
  {
   "cell_type": "code",
   "execution_count": 2,
   "id": "d321d65c-3557-4952-898b-504f50e7276e",
   "metadata": {},
   "outputs": [],
   "source": [
    "%matplotlib inline\n",
    "\n",
    "from hydra import initialize, compose\n",
    "from omegaconf import OmegaConf \n",
    "\n",
    "import dr_gen.utils.run as ru\n",
    "import dr_gen.utils.display as dsp\n",
    "\n",
    "from dr_gen.analyze.run_group import RunGroup\n",
    "import dr_gen.analyze.result_plotting as rplt\n",
    "\n",
    "%load_ext autoreload\n",
    "%autoreload 2"
   ]
  },
  {
   "cell_type": "markdown",
   "id": "367faf00-0b9f-4f3f-8ee6-bc274ba8bbbd",
   "metadata": {},
   "source": [
    "### Setup Config and Generator"
   ]
  },
  {
   "cell_type": "code",
   "execution_count": 3,
   "id": "e5d1f859-9a7a-4e0f-a45a-e7923d8c3532",
   "metadata": {},
   "outputs": [],
   "source": [
    "with initialize(config_path=\"../configs/\", version_base=None):\n",
    "    cfg = compose(\n",
    "        config_name=\"config.yaml\",\n",
    "        overrides=[\n",
    "            \"paths=mac\",\n",
    "        ]\n",
    "    )"
   ]
  },
  {
   "cell_type": "code",
   "execution_count": 4,
   "id": "86607e2f-ff9c-43d2-a52f-935b50530165",
   "metadata": {},
   "outputs": [],
   "source": [
    "generator = ru.set_deterministic(cfg.seed)"
   ]
  },
  {
   "cell_type": "code",
   "execution_count": 5,
   "id": "f4a14155-6864-495f-ac9d-aaa29bfc1d89",
   "metadata": {},
   "outputs": [
    {
     "name": "stdout",
     "output_type": "stream",
     "text": [
      "root: /Users/daniellerothermel/drotherm\n",
      "proj_dir_name: dr_gen\n",
      "data: /Users/daniellerothermel/drotherm/data\n",
      "logs: /Users/daniellerothermel/drotherm/logs\n",
      "my_data: /Users/daniellerothermel/drotherm/data/dr_gen\n",
      "my_logs: /Users/daniellerothermel/drotherm/logs/dr_gen\n",
      "run_dir: /Users/daniellerothermel/drotherm/logs/dr_gen/bs500/lr0.1/wd0.0001/s0/2025-03-25/17-33-1742938432\n",
      "dataset_cache_root: /Users/daniellerothermel/drotherm/data/cifar10/\n",
      "agg_results: /Users/daniellerothermel/drotherm/data/dr_gen/cifar10/cluster_runs/lr_wd_init_v0\n",
      "\n"
     ]
    }
   ],
   "source": [
    "print(OmegaConf.to_yaml(OmegaConf.to_container(cfg.paths, resolve=True)))"
   ]
  },
  {
   "cell_type": "markdown",
   "id": "39d79f98-ee51-4a75-897a-ad5209011490",
   "metadata": {},
   "source": [
    "### Load, Disect and Filter Sweep"
   ]
  },
  {
   "cell_type": "code",
   "execution_count": 8,
   "id": "93b2dc12-0933-46f3-afe7-4aea02956208",
   "metadata": {},
   "outputs": [
    {
     "name": "stdout",
     "output_type": "stream",
     "text": [
      ">> 0 / 1288 files failed parsing\n",
      ">> Updated hpm sweep info\n"
     ]
    }
   ],
   "source": [
    "rg = RunGroup()\n",
    "rg.load_runs_from_base_dir(cfg.paths.agg_results)"
   ]
  },
  {
   "cell_type": "code",
   "execution_count": 10,
   "id": "bf880b74-65e7-45a9-a31c-41af1b133291",
   "metadata": {},
   "outputs": [
    {
     "name": "stdout",
     "output_type": "stream",
     "text": [
      ">> Updated hpm sweep info\n"
     ]
    }
   ],
   "source": [
    "rg.ignore_runs_by_hpms(epochs=180)"
   ]
  },
  {
   "cell_type": "code",
   "execution_count": 12,
   "id": "38c15754-ce55-44ab-80a0-b2f7db9bff4d",
   "metadata": {},
   "outputs": [
    {
     "name": "stdout",
     "output_type": "stream",
     "text": [
      "+------+------------+\n",
      "| Key  |   Values   |\n",
      "+------+------------+\n",
      "| Init |   random   |\n",
      "|      | pretrained |\n",
      "+------+------------+\n",
      "|  WD  |   4e-05    |\n",
      "|      |   0.0001   |\n",
      "|      |  0.00016   |\n",
      "|      |   1e-05    |\n",
      "|      |  6.3e-05   |\n",
      "|      |  0.00025   |\n",
      "+------+------------+\n",
      "|  LR  |    0.04    |\n",
      "|      |    0.1     |\n",
      "|      |    0.2     |\n",
      "|      |    0.06    |\n",
      "|      |    0.01    |\n",
      "|      |    0.25    |\n",
      "|      |    0.16    |\n",
      "+------+------------+\n"
     ]
    }
   ],
   "source": [
    "print(dsp.make_table(*rg.get_swept_table_data()))"
   ]
  },
  {
   "cell_type": "code",
   "execution_count": 13,
   "id": "24823507-7ea6-4a93-a3c1-9c3a1480fbd7",
   "metadata": {},
   "outputs": [
    {
     "name": "stdout",
     "output_type": "stream",
     "text": [
      ">> Current Sweep, Ready to Analyze:\n",
      "+------------+------+---------+-------+\n",
      "|    Init    |  LR  |    WD   | Count |\n",
      "+------------+------+---------+-------+\n",
      "| pretrained | 0.04 |  0.0001 |   20  |\n",
      "| pretrained | 0.04 | 0.00016 |   20  |\n",
      "| pretrained | 0.04 | 0.00025 |   20  |\n",
      "| pretrained | 0.04 |  4e-05  |   20  |\n",
      "| pretrained | 0.04 | 6.3e-05 |   20  |\n",
      "| pretrained | 0.06 |  0.0001 |   20  |\n",
      "| pretrained | 0.06 | 0.00016 |   20  |\n",
      "| pretrained | 0.06 | 0.00025 |   20  |\n",
      "| pretrained | 0.06 |  4e-05  |   20  |\n",
      "| pretrained | 0.06 | 6.3e-05 |   20  |\n",
      "| pretrained | 0.1  |  0.0001 |  103  |\n",
      "| pretrained | 0.1  | 0.00016 |   20  |\n",
      "| pretrained | 0.1  | 0.00025 |   20  |\n",
      "| pretrained | 0.1  |  4e-05  |   20  |\n",
      "| pretrained | 0.1  | 6.3e-05 |   20  |\n",
      "| pretrained | 0.16 |  0.0001 |   20  |\n",
      "| pretrained | 0.16 | 0.00016 |   20  |\n",
      "| pretrained | 0.16 | 0.00025 |   20  |\n",
      "| pretrained | 0.16 |  4e-05  |   20  |\n",
      "| pretrained | 0.16 | 6.3e-05 |   20  |\n",
      "| pretrained | 0.25 |  0.0001 |   20  |\n",
      "| pretrained | 0.25 | 0.00016 |   20  |\n",
      "| pretrained | 0.25 | 0.00025 |   20  |\n",
      "| pretrained | 0.25 |  4e-05  |   20  |\n",
      "| pretrained | 0.25 | 6.3e-05 |   20  |\n",
      "|   random   | 0.04 |  0.0001 |   20  |\n",
      "|   random   | 0.04 | 0.00016 |   20  |\n",
      "|   random   | 0.04 | 0.00025 |   20  |\n",
      "|   random   | 0.04 |  4e-05  |   20  |\n",
      "|   random   | 0.04 | 6.3e-05 |   20  |\n",
      "|   random   | 0.06 |  0.0001 |   20  |\n",
      "|   random   | 0.06 | 0.00016 |   20  |\n",
      "|   random   | 0.06 | 0.00025 |   20  |\n",
      "|   random   | 0.06 |  4e-05  |   20  |\n",
      "|   random   | 0.06 | 6.3e-05 |   20  |\n",
      "|   random   | 0.1  |  0.0001 |   99  |\n",
      "|   random   | 0.1  | 0.00016 |   20  |\n",
      "|   random   | 0.1  | 0.00025 |   20  |\n",
      "|   random   | 0.1  |  1e-05  |   20  |\n",
      "|   random   | 0.1  |  4e-05  |   20  |\n",
      "|   random   | 0.1  | 6.3e-05 |   20  |\n",
      "|   random   | 0.16 |  0.0001 |   20  |\n",
      "|   random   | 0.16 | 0.00016 |   20  |\n",
      "|   random   | 0.16 | 0.00025 |   20  |\n",
      "|   random   | 0.16 |  4e-05  |   20  |\n",
      "|   random   | 0.16 | 6.3e-05 |   20  |\n",
      "|   random   | 0.25 |  0.0001 |   20  |\n",
      "|   random   | 0.25 | 0.00016 |   20  |\n",
      "|   random   | 0.25 | 0.00025 |   20  |\n",
      "|   random   | 0.25 |  4e-05  |   20  |\n",
      "|   random   | 0.25 | 6.3e-05 |   20  |\n",
      "+------------+------+---------+-------+\n"
     ]
    }
   ],
   "source": [
    "table = dsp.make_table(*rg.get_hpms_sweep_table())\n",
    "print(\">> Current Sweep, Ready to Analyze:\")\n",
    "dsp.print_table(\n",
    "    table,\n",
    "    drop_cols=[],\n",
    "    sort_cols=['Init', 'LR', 'WD'],\n",
    "    lr=[0.04, 0.06, 0.1, 0.16, 0.25],\n",
    ")"
   ]
  },
  {
   "cell_type": "code",
   "execution_count": 16,
   "id": "4c67a9f8-c843-4fe4-a0a4-527c2f871479",
   "metadata": {},
   "outputs": [
    {
     "name": "stdout",
     "output_type": "stream",
     "text": [
      " - model.weights=DEFAULT optim.lr=0.1 optim.weight_decay=0.0001           | 103 RIDS\n"
     ]
    }
   ],
   "source": [
    "runs_pre = rg.select_run_data_by_hpms(lr=0.1, wd=1e-4, init=\"pretrained\")\n",
    "for hpm, rlist in runs_pre.items():\n",
    "    print(f\" - {str(hpm):70} | {len(rlist):,} RIDS\")"
   ]
  },
  {
   "cell_type": "code",
   "execution_count": 17,
   "id": "6828890b-3faa-42a1-b710-fd87e249b22d",
   "metadata": {},
   "outputs": [
    {
     "name": "stdout",
     "output_type": "stream",
     "text": [
      " - model.weights=None optim.lr=0.1 optim.weight_decay=0.0001              | 99 RIDS\n"
     ]
    }
   ],
   "source": [
    "runs_rand = rg.select_run_data_by_hpms(**{\"optim.lr\": 0.1, \"optim.weight_decay\": 1e-4, \"init\": \"random\"})\n",
    "for hpm, rlist in runs.items():\n",
    "    print(f\" - {str(hpm):70} | {len(rlist):,} RIDS\")"
   ]
  },
  {
   "cell_type": "code",
   "execution_count": null,
   "id": "cd885f4d-a9dc-4a70-8f99-856bf538b7bf",
   "metadata": {},
   "outputs": [],
   "source": []
  },
  {
   "cell_type": "code",
   "execution_count": null,
   "id": "cc8aed34-4f97-488a-84ec-0553f88f8668",
   "metadata": {},
   "outputs": [],
   "source": [
    "## "
   ]
  },
  {
   "cell_type": "code",
   "execution_count": null,
   "id": "758e3fec-9c05-4403-a5d9-84986dab42d3",
   "metadata": {},
   "outputs": [],
   "source": []
  },
  {
   "cell_type": "code",
   "execution_count": null,
   "id": "e8bbf05f-a810-46f0-8ef9-7267810d22a5",
   "metadata": {},
   "outputs": [],
   "source": []
  },
  {
   "cell_type": "code",
   "execution_count": null,
   "id": "3d26ac28-3803-46ad-9c33-972f3090388f",
   "metadata": {},
   "outputs": [],
   "source": []
  },
  {
   "cell_type": "code",
   "execution_count": null,
   "id": "27d520f4-7743-4482-aabf-dd8e74849698",
   "metadata": {},
   "outputs": [],
   "source": []
  },
  {
   "cell_type": "code",
   "execution_count": null,
   "id": "ac852cf9-1af1-4c2d-af8a-e560172487f5",
   "metadata": {},
   "outputs": [],
   "source": []
  },
  {
   "cell_type": "code",
   "execution_count": null,
   "id": "fa818532-a98b-410b-8263-b19d3e50f407",
   "metadata": {},
   "outputs": [],
   "source": []
  },
  {
   "cell_type": "markdown",
   "id": "42d6d0d7-2cd5-44a1-9fda-ba304b43f2bf",
   "metadata": {},
   "source": [
    "### [Out of Date] Using Result Plotting Utils"
   ]
  },
  {
   "cell_type": "code",
   "execution_count": null,
   "id": "ecc1f02e-ad83-4762-bee4-4631d4ec4246",
   "metadata": {},
   "outputs": [],
   "source": [
    "rplt.plot_run_splits(\n",
    "    good_runs,\n",
    "    all_runs_metrics,\n",
    "    sweep_info,\n",
    "    run_ind=0,\n",
    "    ignore_keys=['optim.step_size', 'epochs'],\n",
    "    ylim=(75, 100),\n",
    ")"
   ]
  },
  {
   "cell_type": "code",
   "execution_count": null,
   "id": "c655a0c0-1381-4f70-a465-41ae8c9083eb",
   "metadata": {},
   "outputs": [],
   "source": [
    "rplt.plot_split_summaries(\n",
    "    good_runs,\n",
    "    all_runs_metrics,\n",
    "    sweep_info,\n",
    "    kv_select={\n",
    "        'epochs': '270',\n",
    "        'model.weights': 'None',\n",
    "        'optim.lr': '0.1',\n",
    "        'optim.weight_decay': '0.0001',\n",
    "    }, \n",
    "    splits=['train', 'val'],\n",
    "    ignore_keys=[\"optim.step_size\", \"epochs\"],\n",
    "    num_seeds=None,\n",
    "    ylim=(82, 86),\n",
    ")\n",
    "    "
   ]
  },
  {
   "cell_type": "code",
   "execution_count": null,
   "id": "13145475-42b8-42a5-8d9c-0ac9d242c33b",
   "metadata": {},
   "outputs": [],
   "source": [
    "rplt.plot_split_summaries(\n",
    "    good_runs,\n",
    "    all_runs_metrics,\n",
    "    sweep_info,\n",
    "    kv_select={\n",
    "        'epochs': '270',\n",
    "        'model.weights': 'None',\n",
    "        'optim.lr': '0.1',\n",
    "        'optim.weight_decay': '0.0001',\n",
    "    }, \n",
    "    splits=['train', 'val'],\n",
    "    ignore_keys=[\"optim.step_size\", \"epochs\"],\n",
    "    num_seeds=20,\n",
    "    ylim=(82, 86),\n",
    ")\n",
    "    "
   ]
  },
  {
   "cell_type": "code",
   "execution_count": null,
   "id": "5c4788e9-87ed-4383-8d5b-30fe73b009bf",
   "metadata": {},
   "outputs": [],
   "source": [
    "rplt.plot_combo_histogram(\n",
    "    good_runs,\n",
    "    all_runs_metrics,\n",
    "    sweep_info,\n",
    "    kv_select={\n",
    "        'epochs': '270',\n",
    "        'model.weights': 'None',\n",
    "        'optim.lr': '0.1',\n",
    "        'optim.weight_decay': '0.0001',\n",
    "    }, \n",
    "    split='val',\n",
    "    epoch=110,\n",
    "    metric='acc1',\n",
    "    ignore_keys=[\"optim.step_size\", \"epochs\"],\n",
    "    num_seeds=None,\n",
    "    #nbins=10,\n",
    "    hist_range=(82,86),\n",
    "    density=True,\n",
    ")"
   ]
  },
  {
   "cell_type": "code",
   "execution_count": null,
   "id": "5e7829e8-37b5-437f-a716-70b91bb583d8",
   "metadata": {},
   "outputs": [],
   "source": [
    "rplt.plot_combo_histogram_compare(\n",
    "    good_runs,\n",
    "    all_runs_metrics,\n",
    "    sweep_info,\n",
    "    kv_select={\n",
    "        'epochs': '270',\n",
    "        #'model.weights': 'None',\n",
    "        'optim.lr': '0.1',\n",
    "        'optim.weight_decay': '0.0001',\n",
    "    }, \n",
    "    split=\"val\",\n",
    "    epoch=100,\n",
    "    metric=\"acc1\",\n",
    "    ignore_keys=[\"optim.step_size\", \"epochs\"],\n",
    "    num_seeds=20,\n",
    "    nbins=10,\n",
    "    vary_key=\"model.weights\",\n",
    ")"
   ]
  },
  {
   "cell_type": "code",
   "execution_count": null,
   "id": "e98d87fc-74a8-4e40-8ee8-abd6224532a6",
   "metadata": {},
   "outputs": [],
   "source": [
    "rplt.ks_stats_plot_cdfs(\n",
    "    good_runs,\n",
    "    all_runs_metrics,\n",
    "    sweep_info,\n",
    "    kv_select={\n",
    "        'epochs': '270',\n",
    "        #'model.weights': 'None',\n",
    "        'optim.lr': '0.1',\n",
    "        'optim.weight_decay': '0.0001',\n",
    "    }, \n",
    "    split=\"val\",\n",
    "    epoch=100,\n",
    "    metric=\"acc1\",\n",
    "    ignore_keys=[\"optim.step_size\", \"epochs\"],\n",
    "    num_seeds=None,\n",
    "    vary_key=\"model.weights\",\n",
    ")"
   ]
  },
  {
   "cell_type": "code",
   "execution_count": null,
   "id": "6b4edaec-7873-4728-aeff-765b6b873485",
   "metadata": {},
   "outputs": [],
   "source": [
    "rplt.ks_stats_plot_cdfs(\n",
    "    good_runs,\n",
    "    all_runs_metrics,\n",
    "    sweep_info,\n",
    "    kv_select={\n",
    "        'epochs': '270',\n",
    "        'model.weights': 'None',\n",
    "        #'optim.lr': '0.1',\n",
    "        'optim.weight_decay': '0.0001',\n",
    "    }, \n",
    "    split=\"val\",\n",
    "    epoch=100,\n",
    "    metric=\"acc1\",\n",
    "    ignore_keys=[\"optim.step_size\", \"epochs\"],\n",
    "    num_seeds=None,\n",
    "    vary_key=\"optim.lr\",\n",
    "    vary_vals=[str(v) for v in [0.1, 0.01]],\n",
    ")"
   ]
  },
  {
   "cell_type": "code",
   "execution_count": null,
   "id": "01cce886-5be8-4507-b3d8-1a97d0fb916c",
   "metadata": {},
   "outputs": [],
   "source": [
    "rplt.ks_stat_plot_cdfs_histograms(\n",
    "    good_runs,\n",
    "    all_runs_metrics,\n",
    "    sweep_info,\n",
    "    kv_select={\n",
    "        'epochs': '270',\n",
    "        #'model.weights': 'None',\n",
    "        'optim.lr': '0.1',\n",
    "        'optim.weight_decay': '0.0001',\n",
    "    }, \n",
    "    split=\"val\",\n",
    "    epoch=100,\n",
    "    metric=\"acc1\",\n",
    "    ignore_keys=[\"optim.step_size\", \"epochs\"],\n",
    "    num_seeds=None,\n",
    "    vary_key=\"model.weights\",\n",
    "    nbins=40,\n",
    ")"
   ]
  },
  {
   "cell_type": "code",
   "execution_count": null,
   "id": "0b3753c3-0fc1-47c6-b201-b90f421e12eb",
   "metadata": {},
   "outputs": [],
   "source": [
    "rplt.ks_stat_plot_cdfs_histograms(\n",
    "    good_runs,\n",
    "    all_runs_metrics,\n",
    "    sweep_info,\n",
    "    kv_select={\n",
    "        'epochs': '270',\n",
    "        'model.weights': 'None',\n",
    "        #'optim.lr': '0.1',\n",
    "        'optim.weight_decay': '0.0001',\n",
    "    }, \n",
    "    split=\"val\",\n",
    "    epoch=100,\n",
    "    metric=\"acc1\",\n",
    "    ignore_keys=[\"optim.step_size\", \"epochs\"],\n",
    "    num_seeds=20,\n",
    "    vary_key=\"optim.lr\",\n",
    "    vary_vals=[str(lr) for lr in [0.1, 0.01]],\n",
    "    nbins=40,\n",
    ")"
   ]
  },
  {
   "cell_type": "code",
   "execution_count": null,
   "id": "4050919b-87ea-4922-a461-e0bb80b05d9e",
   "metadata": {},
   "outputs": [],
   "source": [
    "rplt.ks_stat_plot_cdfs_histograms(\n",
    "    good_runs,\n",
    "    all_runs_metrics,\n",
    "    sweep_info,\n",
    "    kv_select={\n",
    "        'epochs': '270',\n",
    "        'model.weights': 'None',\n",
    "        #'optim.lr': '0.1',\n",
    "        'optim.weight_decay': '0.0001',\n",
    "    }, \n",
    "    split=\"val\",\n",
    "    epoch=100,\n",
    "    metric=\"acc1\",\n",
    "    ignore_keys=[\"optim.step_size\", \"epochs\"],\n",
    "    num_seeds=20,\n",
    "    vary_key=\"optim.lr\",\n",
    "    vary_vals=[str(lr) for lr in [0.1, 0.04]],\n",
    "    nbins=40,\n",
    ")"
   ]
  },
  {
   "cell_type": "code",
   "execution_count": null,
   "id": "89bdd6b0-5a9d-43a3-9a16-6163834895bd",
   "metadata": {},
   "outputs": [],
   "source": []
  }
 ],
 "metadata": {
  "kernelspec": {
   "display_name": "Python 3 (ipykernel)",
   "language": "python",
   "name": "python3"
  },
  "language_info": {
   "codemirror_mode": {
    "name": "ipython",
    "version": 3
   },
   "file_extension": ".py",
   "mimetype": "text/x-python",
   "name": "python",
   "nbconvert_exporter": "python",
   "pygments_lexer": "ipython3",
   "version": "3.12.5"
  }
 },
 "nbformat": 4,
 "nbformat_minor": 5
}
