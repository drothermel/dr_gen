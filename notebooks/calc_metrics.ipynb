{
 "cells": [
  {
   "cell_type": "code",
   "execution_count": 195,
   "id": "d321d65c-3557-4952-898b-504f50e7276e",
   "metadata": {},
   "outputs": [
    {
     "name": "stdout",
     "output_type": "stream",
     "text": [
      "The autoreload extension is already loaded. To reload it, use:\n",
      "  %reload_ext autoreload\n"
     ]
    }
   ],
   "source": [
    "%matplotlib inline\n",
    "\n",
    "from hydra import initialize, compose\n",
    "from omegaconf import OmegaConf \n",
    "\n",
    "import dr_gen.utils.run as ru\n",
    "import dr_gen.utils.display as dsp\n",
    "\n",
    "from dr_gen.analyze.run_group import RunGroup\n",
    "import dr_gen.analyze.result_plotting as rplt\n",
    "\n",
    "%load_ext autoreload\n",
    "%autoreload 2"
   ]
  },
  {
   "cell_type": "markdown",
   "id": "367faf00-0b9f-4f3f-8ee6-bc274ba8bbbd",
   "metadata": {},
   "source": [
    "### Setup Config and Generator"
   ]
  },
  {
   "cell_type": "code",
   "execution_count": 2,
   "id": "e5d1f859-9a7a-4e0f-a45a-e7923d8c3532",
   "metadata": {},
   "outputs": [],
   "source": [
    "with initialize(config_path=\"../configs/\", version_base=None):\n",
    "    cfg = compose(\n",
    "        config_name=\"config.yaml\",\n",
    "        overrides=[\n",
    "            \"paths=mac\",\n",
    "        ]\n",
    "    )"
   ]
  },
  {
   "cell_type": "code",
   "execution_count": 3,
   "id": "86607e2f-ff9c-43d2-a52f-935b50530165",
   "metadata": {},
   "outputs": [],
   "source": [
    "generator = ru.set_deterministic(cfg.seed)"
   ]
  },
  {
   "cell_type": "code",
   "execution_count": 4,
   "id": "f4a14155-6864-495f-ac9d-aaa29bfc1d89",
   "metadata": {},
   "outputs": [
    {
     "name": "stdout",
     "output_type": "stream",
     "text": [
      "root: /Users/daniellerothermel/drotherm\n",
      "proj_dir_name: dr_gen\n",
      "data: /Users/daniellerothermel/drotherm/data\n",
      "logs: /Users/daniellerothermel/drotherm/logs\n",
      "my_data: /Users/daniellerothermel/drotherm/data/dr_gen\n",
      "my_logs: /Users/daniellerothermel/drotherm/logs/dr_gen\n",
      "run_dir: /Users/daniellerothermel/drotherm/logs/dr_gen/bs500/lr0.1/wd0.0001/s0/2025-04-03/10-22-1743690172\n",
      "dataset_cache_root: /Users/daniellerothermel/drotherm/data/cifar10/\n",
      "agg_results: /Users/daniellerothermel/drotherm/data/dr_gen/cifar10/cluster_runs/lr_wd_init_v0\n",
      "\n"
     ]
    }
   ],
   "source": [
    "print(OmegaConf.to_yaml(OmegaConf.to_container(cfg.paths, resolve=True)))"
   ]
  },
  {
   "cell_type": "markdown",
   "id": "39d79f98-ee51-4a75-897a-ad5209011490",
   "metadata": {},
   "source": [
    "### Load, Disect and Filter Sweep"
   ]
  },
  {
   "cell_type": "code",
   "execution_count": 5,
   "id": "93b2dc12-0933-46f3-afe7-4aea02956208",
   "metadata": {},
   "outputs": [
    {
     "name": "stdout",
     "output_type": "stream",
     "text": [
      ">> 0 / 1288 files failed parsing\n",
      ">> Updated hpm sweep info\n"
     ]
    }
   ],
   "source": [
    "rg = RunGroup()\n",
    "rg.load_runs_from_base_dir(cfg.paths.agg_results)"
   ]
  },
  {
   "cell_type": "code",
   "execution_count": 6,
   "id": "bf880b74-65e7-45a9-a31c-41af1b133291",
   "metadata": {},
   "outputs": [
    {
     "name": "stdout",
     "output_type": "stream",
     "text": [
      ">> Ignoring rid: 1287\n",
      ">> Updated hpm sweep info\n"
     ]
    }
   ],
   "source": [
    "rg.ignore_runs_by_hpms(epochs=180)"
   ]
  },
  {
   "cell_type": "code",
   "execution_count": 7,
   "id": "38c15754-ce55-44ab-80a0-b2f7db9bff4d",
   "metadata": {},
   "outputs": [
    {
     "name": "stdout",
     "output_type": "stream",
     "text": [
      "+------+------------+\n",
      "| Key  |   Values   |\n",
      "+------+------------+\n",
      "| Init | pretrained |\n",
      "|      |   random   |\n",
      "+------+------------+\n",
      "|  WD  |  6.3e-05   |\n",
      "|      |   1e-05    |\n",
      "|      |  0.00016   |\n",
      "|      |   0.0001   |\n",
      "|      |  0.00025   |\n",
      "|      |   4e-05    |\n",
      "+------+------------+\n",
      "|  LR  |    0.16    |\n",
      "|      |    0.04    |\n",
      "|      |    0.25    |\n",
      "|      |    0.2     |\n",
      "|      |    0.06    |\n",
      "|      |    0.1     |\n",
      "|      |    0.01    |\n",
      "+------+------------+\n"
     ]
    }
   ],
   "source": [
    "print(dsp.make_table(*rg.get_swept_table_data()))"
   ]
  },
  {
   "cell_type": "code",
   "execution_count": 8,
   "id": "24823507-7ea6-4a93-a3c1-9c3a1480fbd7",
   "metadata": {},
   "outputs": [
    {
     "name": "stdout",
     "output_type": "stream",
     "text": [
      ">> Current Sweep, Ready to Analyze:\n",
      "+------------+------+---------+-------+\n",
      "|    Init    |  LR  |    WD   | Count |\n",
      "+------------+------+---------+-------+\n",
      "| pretrained | 0.04 |  0.0001 |   20  |\n",
      "| pretrained | 0.04 | 0.00016 |   20  |\n",
      "| pretrained | 0.04 | 0.00025 |   20  |\n",
      "| pretrained | 0.04 |  4e-05  |   20  |\n",
      "| pretrained | 0.04 | 6.3e-05 |   20  |\n",
      "| pretrained | 0.06 |  0.0001 |   20  |\n",
      "| pretrained | 0.06 | 0.00016 |   20  |\n",
      "| pretrained | 0.06 | 0.00025 |   20  |\n",
      "| pretrained | 0.06 |  4e-05  |   20  |\n",
      "| pretrained | 0.06 | 6.3e-05 |   20  |\n",
      "| pretrained | 0.1  |  0.0001 |  103  |\n",
      "| pretrained | 0.1  | 0.00016 |   20  |\n",
      "| pretrained | 0.1  | 0.00025 |   20  |\n",
      "| pretrained | 0.1  |  4e-05  |   20  |\n",
      "| pretrained | 0.1  | 6.3e-05 |   20  |\n",
      "| pretrained | 0.16 |  0.0001 |   20  |\n",
      "| pretrained | 0.16 | 0.00016 |   20  |\n",
      "| pretrained | 0.16 | 0.00025 |   20  |\n",
      "| pretrained | 0.16 |  4e-05  |   20  |\n",
      "| pretrained | 0.16 | 6.3e-05 |   20  |\n",
      "| pretrained | 0.25 |  0.0001 |   20  |\n",
      "| pretrained | 0.25 | 0.00016 |   20  |\n",
      "| pretrained | 0.25 | 0.00025 |   20  |\n",
      "| pretrained | 0.25 |  4e-05  |   20  |\n",
      "| pretrained | 0.25 | 6.3e-05 |   20  |\n",
      "|   random   | 0.04 |  0.0001 |   20  |\n",
      "|   random   | 0.04 | 0.00016 |   20  |\n",
      "|   random   | 0.04 | 0.00025 |   20  |\n",
      "|   random   | 0.04 |  4e-05  |   20  |\n",
      "|   random   | 0.04 | 6.3e-05 |   20  |\n",
      "|   random   | 0.06 |  0.0001 |   20  |\n",
      "|   random   | 0.06 | 0.00016 |   20  |\n",
      "|   random   | 0.06 | 0.00025 |   20  |\n",
      "|   random   | 0.06 |  4e-05  |   20  |\n",
      "|   random   | 0.06 | 6.3e-05 |   20  |\n",
      "|   random   | 0.1  |  0.0001 |   99  |\n",
      "|   random   | 0.1  | 0.00016 |   20  |\n",
      "|   random   | 0.1  | 0.00025 |   20  |\n",
      "|   random   | 0.1  |  1e-05  |   20  |\n",
      "|   random   | 0.1  |  4e-05  |   20  |\n",
      "|   random   | 0.1  | 6.3e-05 |   20  |\n",
      "|   random   | 0.16 |  0.0001 |   20  |\n",
      "|   random   | 0.16 | 0.00016 |   20  |\n",
      "|   random   | 0.16 | 0.00025 |   20  |\n",
      "|   random   | 0.16 |  4e-05  |   20  |\n",
      "|   random   | 0.16 | 6.3e-05 |   20  |\n",
      "|   random   | 0.25 |  0.0001 |   20  |\n",
      "|   random   | 0.25 | 0.00016 |   20  |\n",
      "|   random   | 0.25 | 0.00025 |   20  |\n",
      "|   random   | 0.25 |  4e-05  |   20  |\n",
      "|   random   | 0.25 | 6.3e-05 |   20  |\n",
      "+------------+------+---------+-------+\n"
     ]
    }
   ],
   "source": [
    "table = dsp.make_table(*rg.get_hpms_sweep_table())\n",
    "print(\">> Current Sweep, Ready to Analyze:\")\n",
    "dsp.print_table(\n",
    "    table,\n",
    "    drop_cols=[],\n",
    "    sort_cols=['Init', 'LR', 'WD'],\n",
    "    lr=[0.04, 0.06, 0.1, 0.16, 0.25],\n",
    ")"
   ]
  },
  {
   "cell_type": "code",
   "execution_count": 9,
   "id": "4c67a9f8-c843-4fe4-a0a4-527c2f871479",
   "metadata": {},
   "outputs": [
    {
     "name": "stdout",
     "output_type": "stream",
     "text": [
      " - model.weights=DEFAULT optim.lr=0.1 optim.weight_decay=0.0001           | 103 RIDS\n"
     ]
    }
   ],
   "source": [
    "runs_pre = rg.select_run_data_by_hpms(lr=0.1, wd=1e-4, init=\"pretrained\")\n",
    "for hpm, rlist in runs_pre.items():\n",
    "    print(f\" - {str(hpm):70} | {len(rlist):,} RIDS\")"
   ]
  },
  {
   "cell_type": "code",
   "execution_count": 10,
   "id": "6828890b-3faa-42a1-b710-fd87e249b22d",
   "metadata": {},
   "outputs": [
    {
     "name": "stdout",
     "output_type": "stream",
     "text": [
      " - model.weights=None optim.lr=0.1 optim.weight_decay=0.0001              | 99 RIDS\n"
     ]
    }
   ],
   "source": [
    "runs_rand = rg.select_run_data_by_hpms(**{\"optim.lr\": 0.1, \"optim.weight_decay\": 1e-4, \"init\": \"random\"})\n",
    "for hpm, rlist in runs_rand.items():\n",
    "    print(f\" - {str(hpm):70} | {len(rlist):,} RIDS\")"
   ]
  },
  {
   "cell_type": "code",
   "execution_count": 184,
   "id": "fcbd8769-cd8f-42db-9568-8a39966ad6af",
   "metadata": {},
   "outputs": [
    {
     "name": "stdout",
     "output_type": "stream",
     "text": [
      " - model.weights=DEFAULT optim.lr=0.04 optim.weight_decay=0.0001          | 20 RIDS\n",
      " - model.weights=DEFAULT optim.lr=0.04 optim.weight_decay=0.00016         | 20 RIDS\n",
      " - model.weights=DEFAULT optim.lr=0.04 optim.weight_decay=0.00025         | 20 RIDS\n",
      " - model.weights=DEFAULT optim.lr=0.04 optim.weight_decay=4e-05           | 20 RIDS\n",
      " - model.weights=DEFAULT optim.lr=0.04 optim.weight_decay=6.3e-05         | 20 RIDS\n"
     ]
    }
   ],
   "source": [
    "runs_pre = rg.select_run_data_by_hpms(\n",
    "    lr=0.04, init=\"pretrained\",\n",
    ")\n",
    "for hpm, rlist in sorted([(str(hpm), rlist) for hpm, rlist in runs_pre.items()]):\n",
    "    print(f\" - {str(hpm):70} | {len(rlist):,} RIDS\")"
   ]
  },
  {
   "cell_type": "code",
   "execution_count": 185,
   "id": "7b2b830a-36c8-4911-8f03-ce3d07589587",
   "metadata": {},
   "outputs": [
    {
     "name": "stdout",
     "output_type": "stream",
     "text": [
      " - model.weights=None optim.lr=0.04 optim.weight_decay=0.0001             | 20 RIDS\n",
      " - model.weights=None optim.lr=0.04 optim.weight_decay=0.00016            | 20 RIDS\n",
      " - model.weights=None optim.lr=0.04 optim.weight_decay=0.00025            | 20 RIDS\n",
      " - model.weights=None optim.lr=0.04 optim.weight_decay=4e-05              | 20 RIDS\n",
      " - model.weights=None optim.lr=0.04 optim.weight_decay=6.3e-05            | 20 RIDS\n"
     ]
    }
   ],
   "source": [
    "runs_pre = rg.select_run_data_by_hpms(\n",
    "    lr=0.04, init=\"random\",\n",
    ")\n",
    "for hpm, rlist in sorted([(str(hpm), rlist) for hpm, rlist in runs_pre.items()]):\n",
    "    print(f\" - {str(hpm):70} | {len(rlist):,} RIDS\")"
   ]
  },
  {
   "cell_type": "code",
   "execution_count": 182,
   "id": "feb809ab-e603-4809-bb52-197c054dc9af",
   "metadata": {},
   "outputs": [
    {
     "name": "stdout",
     "output_type": "stream",
     "text": [
      " - model.weights=DEFAULT optim.lr=0.1 optim.weight_decay=0.0001           | 103 RIDS\n",
      " - model.weights=DEFAULT optim.lr=0.1 optim.weight_decay=0.00016          | 20 RIDS\n",
      " - model.weights=DEFAULT optim.lr=0.1 optim.weight_decay=0.00025          | 20 RIDS\n",
      " - model.weights=DEFAULT optim.lr=0.1 optim.weight_decay=4e-05            | 20 RIDS\n",
      " - model.weights=DEFAULT optim.lr=0.1 optim.weight_decay=6.3e-05          | 20 RIDS\n"
     ]
    }
   ],
   "source": [
    "runs_pre = rg.select_run_data_by_hpms(\n",
    "    lr=0.1, init=\"pretrained\",\n",
    ")\n",
    "for hpm, rlist in sorted([(str(hpm), rlist) for hpm, rlist in runs_pre.items()]):\n",
    "    print(f\" - {str(hpm):70} | {len(rlist):,} RIDS\")"
   ]
  },
  {
   "cell_type": "code",
   "execution_count": 183,
   "id": "1d540ead-4d8b-4177-99ea-01b0982dab1d",
   "metadata": {},
   "outputs": [
    {
     "name": "stdout",
     "output_type": "stream",
     "text": [
      " - model.weights=None optim.lr=0.1 optim.weight_decay=0.0001              | 99 RIDS\n",
      " - model.weights=None optim.lr=0.1 optim.weight_decay=0.00016             | 20 RIDS\n",
      " - model.weights=None optim.lr=0.1 optim.weight_decay=0.00025             | 20 RIDS\n",
      " - model.weights=None optim.lr=0.1 optim.weight_decay=1e-05               | 20 RIDS\n",
      " - model.weights=None optim.lr=0.1 optim.weight_decay=4e-05               | 20 RIDS\n",
      " - model.weights=None optim.lr=0.1 optim.weight_decay=6.3e-05             | 20 RIDS\n"
     ]
    }
   ],
   "source": [
    "runs_pre = rg.select_run_data_by_hpms(\n",
    "    lr=0.1, init=\"random\",\n",
    ")\n",
    "for hpm, rlist in sorted([(str(hpm), rlist) for hpm, rlist in runs_pre.items()]):\n",
    "    print(f\" - {str(hpm):70} | {len(rlist):,} RIDS\")"
   ]
  },
  {
   "cell_type": "code",
   "execution_count": null,
   "id": "cd885f4d-a9dc-4a70-8f99-856bf538b7bf",
   "metadata": {},
   "outputs": [],
   "source": []
  },
  {
   "cell_type": "markdown",
   "id": "19beb8e2-2bac-4be6-9666-889f537cc478",
   "metadata": {},
   "source": [
    "## Test Result Plotting"
   ]
  },
  {
   "cell_type": "code",
   "execution_count": 196,
   "id": "053ecf8a-66e8-4507-b3d1-b05f44e3c205",
   "metadata": {},
   "outputs": [],
   "source": [
    "hpm_specs_one_each = rplt.make_hpm_specs()"
   ]
  },
  {
   "cell_type": "code",
   "execution_count": 197,
   "id": "23040959-fd51-4e4f-a504-8a267ec03aec",
   "metadata": {},
   "outputs": [],
   "source": [
    "compare_stats_one_each = rplt.one_tn_no_hpm_select_compare_weight_init(\n",
    "    rg, hpm_specs_one_each, 260, 80, num_bootstraps=1000, split=\"val\",\n",
    ")\n",
    "#rplt.print_comparative_summary_stats(compare_stats_one_each)"
   ]
  },
  {
   "cell_type": "code",
   "execution_count": 199,
   "id": "1b0c83a4-8195-471e-82bb-822320d20dd8",
   "metadata": {},
   "outputs": [
    {
     "name": "stdout",
     "output_type": "stream",
     "text": [
      ">> :: Per Dist Summary Stats ::\n",
      "\n",
      "Compare using 1000 bootstraps:\n",
      "  - [(80, 260) | best: 259] model.weights=DEFAULT optim.lr=0.1 optim.weight_decay=0.0001\n",
      "  - [(80, 260) | best: 259] model.weights=None optim.lr=0.1 optim.weight_decay=0.0001\n",
      "\n",
      "point\n",
      "   n          | 80.00000000 | 80.00000000\n",
      "   mean       | 85.11064845 | 84.42620394\n",
      "   median     | 85.22565323 | 84.40210895\n",
      "   min        | 82.01337959 | 82.93967748\n",
      "   max        | 87.70918906 | 85.43803764\n",
      "   variance   | 2.08370823 | 0.21561246\n",
      "   std        | 1.44062701 | 0.46147093\n",
      "   sem        | 0.16106700 | 0.05159402\n",
      "   2.5th      | 82.30567447 | 83.58419981\n",
      "   25th       | 84.08577075 | 84.15236169\n",
      "   75th       | 86.24519642 | 84.74314260\n",
      "   97.5th     | 87.33109846 | 85.29649194\n",
      "   IQR        | 2.15942568 | 0.59078091\n",
      "std\n",
      "   n          | 0.00000000 | 0.00000000\n",
      "   mean       | 0.16173210 | 0.05063997\n",
      "   median     | 0.25405055 | 0.05847733\n",
      "   min        | 0.17324780 | 0.50819271\n",
      "   max        | 0.22364984 | 0.06906447\n",
      "   variance   | 0.26272655 | 0.04824398\n",
      "   std        | 0.09111556 | 0.05154642\n",
      "   sem        | 0.01018703 | 0.00576307\n",
      "   2.5th      | 0.25731281 | 0.30811139\n",
      "   25th       | 0.29655599 | 0.06689532\n",
      "   75th       | 0.23660408 | 0.05684084\n",
      "   97.5th     | 0.26466568 | 0.13461215\n",
      "   IQR        | 0.31839733 | 0.07242889\n",
      "sem\n",
      "   n          | 0.00000000 | 0.00000000\n",
      "   mean       | 0.00016173 | 0.00005064\n",
      "   median     | 0.00025405 | 0.00005848\n",
      "   min        | 0.00017325 | 0.00050819\n",
      "   max        | 0.00022365 | 0.00006906\n",
      "   variance   | 0.00026273 | 0.00004824\n",
      "   std        | 0.00009112 | 0.00005155\n",
      "   sem        | 0.00001019 | 0.00000576\n",
      "   2.5th      | 0.00025731 | 0.00030811\n",
      "   25th       | 0.00029656 | 0.00006690\n",
      "   75th       | 0.00023660 | 0.00005684\n",
      "   97.5th     | 0.00026467 | 0.00013461\n",
      "   IQR        | 0.00031840 | 0.00007243\n",
      "ci_95\n",
      "   n          | (80.00000000, 80.00000000) | (80.00000000, 80.00000000)\n",
      "   mean       | (84.78694836, 85.42988889) | (84.32986684, 84.52577307)\n",
      "   median     | (84.80500031, 85.73999786) | (84.31987467, 84.52999878)\n",
      "   min        | (81.88999939, 82.33999634) | (82.55999756, 83.72000122)\n",
      "   max        | (87.15000153, 87.84999847) | (85.25000000, 85.47999573)\n",
      "   variance   | (1.59002447, 2.62116343) | (0.13589755, 0.32032542)\n",
      "   std        | (1.26096173, 1.61900073) | (0.36864284, 0.56597296)\n",
      "   sem        | (0.14097981, 0.18100978) | (0.04121552, 0.06327770)\n",
      "   2.5th      | (81.88999939, 83.10063890) | (82.55999756, 83.80233307)\n",
      "   25th       | (83.47999954, 84.68499756) | (83.99749947, 84.27999878)\n",
      "   75th       | (85.91249657, 86.68000031) | (84.62249565, 84.84999847)\n",
      "   97.5th     | (86.98249588, 87.84999847) | (84.98999786, 85.47999573)\n",
      "   IQR        | (1.54750061, 2.81505923) | (0.45500169, 0.73025322)\n",
      "original_data_stats\n",
      "   n          | 80.00000000 | 80.00000000\n",
      "   mean       | 85.10787296 | 84.42687330\n",
      "   median     | 85.22499847 | 84.38000107\n",
      "   min        | 81.88999939 | 82.55999756\n",
      "   max        | 87.84999847 | 85.47999573\n",
      "   variance   | 2.11688460 | 0.21798375\n",
      "   std        | 1.45495175 | 0.46688730\n",
      "   sem        | 0.16266855 | 0.05219959\n",
      "   2.5th      | 82.18000031 | 83.63874931\n",
      "   25th       | 84.10249710 | 84.13999939\n",
      "   75th       | 86.23749542 | 84.73999786\n",
      "   97.5th     | 87.23050117 | 85.36100063\n",
      "   IQR        | 2.13499832 | 0.59999847\n",
      "\n",
      ">> :: Comparative Summary Stats ::\n",
      "\n",
      " A Minus B: Negative means B is bigger\n",
      "  - A: model.weights=DEFAULT optim.lr=0.1 optim.weight_decay=0.0001\n",
      "  - B: model.weights=None optim.lr=0.1 optim.weight_decay=0.0001\n",
      "point\n",
      "  ks_stats             0.49850000\n",
      "  ks_p_values          0.00000184\n",
      "  mean_a_minus_b       0.68444452\n",
      "  median_a_minus_b     0.82354428\n",
      "  min_a_minus_b        -0.92629790\n",
      "  max_a_minus_b        2.27115142\n",
      "  variance_a_minus_b   1.86809577\n",
      "  std_a_minus_b        0.97915608\n",
      "  sem_a_minus_b        0.10947298\n",
      "  2.5th_a_minus_b      -1.27852534\n",
      "  25th_a_minus_b       -0.06659094\n",
      "  75th_a_minus_b       1.50205383\n",
      "  97.5th_a_minus_b     2.03460652\n",
      "  IQR_a_minus_b        1.56864477\n",
      "std\n",
      "  ks_stats             0.05719976\n",
      "  ks_p_values          0.00001526\n",
      "  mean_a_minus_b       0.17109315\n",
      "  median_a_minus_b     0.26093242\n",
      "  min_a_minus_b        0.54152270\n",
      "  max_a_minus_b        0.23567672\n",
      "  variance_a_minus_b   0.26798743\n",
      "  std_a_minus_b        0.10558441\n",
      "  sem_a_minus_b        0.01180470\n",
      "  2.5th_a_minus_b      0.41016642\n",
      "  25th_a_minus_b       0.30544004\n",
      "  75th_a_minus_b       0.24379061\n",
      "  97.5th_a_minus_b     0.30509480\n",
      "  IQR_a_minus_b        0.32642982\n",
      "sem\n",
      "  ks_stats             0.00005720\n",
      "  ks_p_values          0.00000002\n",
      "  mean_a_minus_b       0.00017109\n",
      "  median_a_minus_b     0.00026093\n",
      "  min_a_minus_b        0.00054152\n",
      "  max_a_minus_b        0.00023568\n",
      "  variance_a_minus_b   0.00026799\n",
      "  std_a_minus_b        0.00010558\n",
      "  sem_a_minus_b        0.00001180\n",
      "  2.5th_a_minus_b      0.00041017\n",
      "  25th_a_minus_b       0.00030544\n",
      "  75th_a_minus_b       0.00024379\n",
      "  97.5th_a_minus_b     0.00030509\n",
      "  IQR_a_minus_b        0.00032643\n",
      "ci_95\n",
      "  ks_stats             (0.38750000, 0.61250000)\n",
      "  ks_p_values          (0.00000000, 0.00000955)\n",
      "  mean_a_minus_b       (0.34375953, 1.01651874)\n",
      "  median_a_minus_b     (0.38499832, 1.36012182)\n",
      "  min_a_minus_b        (-1.83000183, -0.22000122)\n",
      "  max_a_minus_b        (1.67000580, 2.59999847)\n",
      "  variance_a_minus_b   (1.36347298, 2.41403901)\n",
      "  std_a_minus_b        (0.76370123, 1.18335982)\n",
      "  sem_a_minus_b        (0.08538439, 0.13230365)\n",
      "  2.5th_a_minus_b      (-1.82800179, -0.22400112)\n",
      "  25th_a_minus_b       (-0.69262414, 0.52262216)\n",
      "  75th_a_minus_b       (1.11000056, 1.95000076)\n",
      "  97.5th_a_minus_b     (1.60150604, 2.66824818)\n",
      "  IQR_a_minus_b        (0.96206203, 2.26262951)\n"
     ]
    }
   ],
   "source": [
    "rplt.print_comparative_summary_stats(compare_stats_one_each)"
   ]
  },
  {
   "cell_type": "code",
   "execution_count": 200,
   "id": "81cf999e-eb1f-4744-9545-6a58c2c9fc84",
   "metadata": {},
   "outputs": [
    {
     "name": "stdout",
     "output_type": "stream",
     "text": [
      "{'optim.lr': [0.04, 0.1, 0.25], 'optim.weight_decay': [1e-05, 0.0001, 0.00025], 'epochs': 270}\n"
     ]
    }
   ],
   "source": [
    "hpm_specs_hpm_select = rplt.make_hpm_specs(\n",
    "    #lr=[0.04, 0.06, 0.1, 0.16, 0.25],\n",
    "    #wd=[1e-05, 4e-05, 6.3e-05, 0.0001, 0.00016, 0.00025],\n",
    "    lr=[0.04, 0.1, 0.25],\n",
    "    wd=[1e-05, 0.0001, 0.00025],\n",
    "    epochs=270,\n",
    ")\n",
    "print(hpm_specs_hpm_select)"
   ]
  },
  {
   "cell_type": "code",
   "execution_count": 220,
   "id": "3abcf20d-4741-4647-9d38-e3a054d26207",
   "metadata": {},
   "outputs": [
    {
     "ename": "TypeError",
     "evalue": "'<' not supported between instances of 'Hpm' and 'Hpm'",
     "output_type": "error",
     "traceback": [
      "\u001b[0;31m---------------------------------------------------------------------------\u001b[0m",
      "\u001b[0;31mTypeError\u001b[0m                                 Traceback (most recent call last)",
      "Cell \u001b[0;32mIn[220], line 1\u001b[0m\n\u001b[0;32m----> 1\u001b[0m compare_stats_hpm_select \u001b[38;5;241m=\u001b[39m \u001b[43mrplt\u001b[49m\u001b[38;5;241;43m.\u001b[39;49m\u001b[43mone_tn_hpm_compare_weight_init\u001b[49m\u001b[43m(\u001b[49m\n\u001b[1;32m      2\u001b[0m \u001b[43m    \u001b[49m\u001b[43mrg\u001b[49m\u001b[43m,\u001b[49m\u001b[43m \u001b[49m\u001b[43mhpm_specs_hpm_select\u001b[49m\u001b[43m,\u001b[49m\u001b[43m \u001b[49m\u001b[38;5;241;43m260\u001b[39;49m\u001b[43m,\u001b[49m\u001b[43m \u001b[49m\u001b[38;5;241;43m80\u001b[39;49m\u001b[43m,\u001b[49m\u001b[43m \u001b[49m\u001b[43mnum_bootstraps\u001b[49m\u001b[38;5;241;43m=\u001b[39;49m\u001b[38;5;241;43m1000\u001b[39;49m\u001b[43m,\u001b[49m\n\u001b[1;32m      3\u001b[0m \u001b[43m)\u001b[49m\n",
      "File \u001b[0;32m~/drotherm/repos/dr_gen/src/dr_gen/analyze/result_plotting.py:597\u001b[0m, in \u001b[0;36mone_tn_hpm_compare_weight_init\u001b[0;34m(rg, hpm_select_dict, t, n, early_stopping, num_bootstraps, split)\u001b[0m\n\u001b[1;32m    590\u001b[0m \u001b[38;5;66;03m# Filter to only hpms that exist both splits of both settings\u001b[39;00m\n\u001b[1;32m    591\u001b[0m hpms_to_use \u001b[38;5;241m=\u001b[39m select_matching_hpms(\n\u001b[1;32m    592\u001b[0m     hpms_A\u001b[38;5;241m=\u001b[39mhpms_val_pre\u001b[38;5;241m.\u001b[39mkeys(),\n\u001b[1;32m    593\u001b[0m     hpms_B\u001b[38;5;241m=\u001b[39mhpms_val_rand\u001b[38;5;241m.\u001b[39mkeys(),\n\u001b[1;32m    594\u001b[0m     hpm_whitelist\u001b[38;5;241m=\u001b[39m[\u001b[38;5;241m*\u001b[39mhpms_eval_pre\u001b[38;5;241m.\u001b[39mkeys(), \u001b[38;5;241m*\u001b[39mhpms_eval_rand\u001b[38;5;241m.\u001b[39mkeys()],\n\u001b[1;32m    595\u001b[0m     ignore_key\u001b[38;5;241m=\u001b[39m\u001b[38;5;124m'\u001b[39m\u001b[38;5;124mmodel.weights\u001b[39m\u001b[38;5;124m'\u001b[39m, \u001b[38;5;66;03m# the hpm we're comparing between\u001b[39;00m\n\u001b[1;32m    596\u001b[0m )\n\u001b[0;32m--> 597\u001b[0m \u001b[38;5;28;01mfor\u001b[39;00m hpm \u001b[38;5;129;01min\u001b[39;00m \u001b[38;5;28;43msorted\u001b[39;49m\u001b[43m(\u001b[49m\u001b[43mhpms_to_use\u001b[49m\u001b[43m)\u001b[49m:\n\u001b[1;32m    598\u001b[0m     \u001b[38;5;28mprint\u001b[39m(hpm)\n\u001b[1;32m    600\u001b[0m hpms_val_pre \u001b[38;5;241m=\u001b[39m {h: d \u001b[38;5;28;01mfor\u001b[39;00m h, d \u001b[38;5;129;01min\u001b[39;00m hpms_val_pre\u001b[38;5;241m.\u001b[39mitems() \u001b[38;5;28;01mif\u001b[39;00m h \u001b[38;5;129;01min\u001b[39;00m hpms_to_use}\n",
      "\u001b[0;31mTypeError\u001b[0m: '<' not supported between instances of 'Hpm' and 'Hpm'"
     ]
    }
   ],
   "source": [
    "compare_stats_hpm_select = rplt.one_tn_hpm_compare_weight_init(\n",
    "    rg, hpm_specs_hpm_select, 260, 80, num_bootstraps=1000,\n",
    ")"
   ]
  },
  {
   "cell_type": "code",
   "execution_count": null,
   "id": "3869ef03-0796-4bc6-b1bc-98a4752079b9",
   "metadata": {},
   "outputs": [],
   "source": [
    "rplt.print_comparative_summary_stats(compare_stats_one_each)"
   ]
  },
  {
   "cell_type": "code",
   "execution_count": null,
   "id": "abb2de20-c1c7-44ed-8a71-b86fcfefa8ef",
   "metadata": {},
   "outputs": [],
   "source": []
  },
  {
   "cell_type": "code",
   "execution_count": 192,
   "id": "9d3fb274-5e05-4664-b7a5-7bf9cb42c9af",
   "metadata": {},
   "outputs": [],
   "source": [
    "sa = set(['a', 'b', 'c'])\n",
    "sb = set(['a', 'd'])"
   ]
  },
  {
   "cell_type": "code",
   "execution_count": 193,
   "id": "6ae0926f-0ba1-4073-a900-3abba43fcf4a",
   "metadata": {},
   "outputs": [
    {
     "data": {
      "text/plain": [
       "{'a'}"
      ]
     },
     "execution_count": 193,
     "metadata": {},
     "output_type": "execute_result"
    }
   ],
   "source": [
    "sa & sb"
   ]
  },
  {
   "cell_type": "code",
   "execution_count": null,
   "id": "51f3eb48-6613-4f5c-bda8-286e8a842df6",
   "metadata": {},
   "outputs": [],
   "source": []
  }
 ],
 "metadata": {
  "kernelspec": {
   "display_name": "Python 3 (ipykernel)",
   "language": "python",
   "name": "python3"
  },
  "language_info": {
   "codemirror_mode": {
    "name": "ipython",
    "version": 3
   },
   "file_extension": ".py",
   "mimetype": "text/x-python",
   "name": "python",
   "nbconvert_exporter": "python",
   "pygments_lexer": "ipython3",
   "version": "3.12.5"
  }
 },
 "nbformat": 4,
 "nbformat_minor": 5
}
