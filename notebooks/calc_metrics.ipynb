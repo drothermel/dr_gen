{
 "cells": [
  {
   "cell_type": "code",
   "execution_count": 13,
   "id": "d321d65c-3557-4952-898b-504f50e7276e",
   "metadata": {},
   "outputs": [
    {
     "name": "stdout",
     "output_type": "stream",
     "text": [
      "The autoreload extension is already loaded. To reload it, use:\n",
      "  %reload_ext autoreload\n"
     ]
    }
   ],
   "source": [
    "%matplotlib inline\n",
    "\n",
    "import jsonlines\n",
    "from pathlib import Path\n",
    "from hydra import initialize, compose\n",
    "import torchvision\n",
    "\n",
    "import dr_util.file_utils as fu\n",
    "import dr_gen.utils.model as mu\n",
    "import dr_gen.utils.run as ru\n",
    "\n",
    "%load_ext autoreload\n",
    "%autoreload 2"
   ]
  },
  {
   "cell_type": "markdown",
   "id": "367faf00-0b9f-4f3f-8ee6-bc274ba8bbbd",
   "metadata": {
    "jp-MarkdownHeadingCollapsed": true
   },
   "source": [
    "### Setup Config and Generator"
   ]
  },
  {
   "cell_type": "code",
   "execution_count": 2,
   "id": "e5d1f859-9a7a-4e0f-a45a-e7923d8c3532",
   "metadata": {},
   "outputs": [],
   "source": [
    "with initialize(config_path=\"../configs/\", version_base=None):\n",
    "    cfg = compose(\n",
    "        config_name=\"config.yaml\",\n",
    "    )"
   ]
  },
  {
   "cell_type": "code",
   "execution_count": 3,
   "id": "86607e2f-ff9c-43d2-a52f-935b50530165",
   "metadata": {},
   "outputs": [],
   "source": [
    "generator = ru.set_deterministic(cfg.seed)"
   ]
  },
  {
   "cell_type": "markdown",
   "id": "a9bf4af6-4b8b-4cbf-80b3-131caf578334",
   "metadata": {},
   "source": [
    "### Find Relevant Logs"
   ]
  },
  {
   "cell_type": "code",
   "execution_count": 14,
   "id": "d0ed7772-0143-4139-abd9-dfff91a69e6f",
   "metadata": {},
   "outputs": [],
   "source": [
    "def get_all_logs(base_dir):\n",
    "    log_dir = Path(base_dir)\n",
    "    all_files = [f for f in log_dir.rglob(\"*.jsonl\") if f.is_file()]\n",
    "    all_file_data = {str(f): fu.load_file(str(f)) for f in all_files}\n",
    "    return all_file_data"
   ]
  },
  {
   "cell_type": "code",
   "execution_count": 18,
   "id": "5a7bc482-1cbd-4f06-b144-b95107db81b6",
   "metadata": {},
   "outputs": [],
   "source": [
    "def parse_run_log(log_data):\n",
    "    run_cfg = log_data[0].get(\"value\", {})\n",
    "    metrics = {k: [] for k in ['train', 'val', 'eval']}\n",
    "    for l in log_data[1:]:\n",
    "        data_name = l.get(\"data_name\", None)\n",
    "        if data_name in metrics:\n",
    "            metrics[data_name].append(l)\n",
    "    return run_cfg, metrics"
   ]
  },
  {
   "cell_type": "code",
   "execution_count": 15,
   "id": "1ab88ad7-2196-4028-aef5-b736d01d1da1",
   "metadata": {},
   "outputs": [],
   "source": [
    "run_logs = get_all_logs(\"/scratch/ddr8143/logs\")"
   ]
  },
  {
   "cell_type": "code",
   "execution_count": 19,
   "id": "f55ee04e-fc69-4e75-804f-1946eff5b979",
   "metadata": {},
   "outputs": [],
   "source": [
    "test_rc, test_m = parse_run_log(next(iter(run_logs.items()))[1])"
   ]
  },
  {
   "cell_type": "code",
   "execution_count": 22,
   "id": "1aab9caf-96d0-48c6-9419-235124bed28d",
   "metadata": {},
   "outputs": [
    {
     "data": {
      "text/plain": [
       "dict_keys(['train', 'val', 'eval'])"
      ]
     },
     "execution_count": 22,
     "metadata": {},
     "output_type": "execute_result"
    }
   ],
   "source": [
    "test_m.keys()"
   ]
  },
  {
   "cell_type": "code",
   "execution_count": null,
   "id": "8f8f215e-8c10-4aca-ba3f-fc4824eb715a",
   "metadata": {},
   "outputs": [],
   "source": []
  }
 ],
 "metadata": {
  "kernelspec": {
   "display_name": "Python 3 (ipykernel)",
   "language": "python",
   "name": "python3"
  },
  "language_info": {
   "codemirror_mode": {
    "name": "ipython",
    "version": 3
   },
   "file_extension": ".py",
   "mimetype": "text/x-python",
   "name": "python",
   "nbconvert_exporter": "python",
   "pygments_lexer": "ipython3",
   "version": "3.12.5"
  }
 },
 "nbformat": 4,
 "nbformat_minor": 5
}
