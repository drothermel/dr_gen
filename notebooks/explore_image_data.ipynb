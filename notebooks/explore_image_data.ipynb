{
 "cells": [
  {
   "cell_type": "code",
   "execution_count": 1,
   "id": "5aab13b8-7b26-4c0e-ba3b-59d6985887b0",
   "metadata": {},
   "outputs": [],
   "source": [
    "import random\n",
    "import numpy as np\n",
    "\n",
    "import torch\n",
    "import matplotlib.pyplot as plt\n",
    "%matplotlib inline\n",
    "\n",
    "from torchvision import datasets\n",
    "from torchvision.transforms import v2 as transforms_v2\n",
    "from torchvision.io import decode_image\n",
    "\n",
    "import hydra\n",
    "from omegaconf import DictConfig, OmegaConf\n",
    "from hydra import initialize, compose\n",
    "\n",
    "import dr_gen.utils.data as du\n",
    "import dr_gen.utils.run as ru\n",
    "import dr_gen.utils.viz as vu\n",
    "\n",
    "%load_ext autoreload\n",
    "%autoreload 2"
   ]
  },
  {
   "cell_type": "markdown",
   "id": "f5858e6b-b7f4-41fb-8e84-0b658bd333de",
   "metadata": {
    "jp-MarkdownHeadingCollapsed": true
   },
   "source": [
    "### Setup Config & Helpers"
   ]
  },
  {
   "cell_type": "code",
   "execution_count": 2,
   "id": "92716248-ed34-4745-a568-05b2870e2ffc",
   "metadata": {},
   "outputs": [],
   "source": [
    "root_path = \"/Users/daniellerothermel/drotherm\"\n",
    "repo_path = f\"{root_path}/repos/dr_gen/\""
   ]
  },
  {
   "cell_type": "code",
   "execution_count": 3,
   "id": "7caa2be0-eab5-46f4-80f3-292345611b12",
   "metadata": {},
   "outputs": [],
   "source": [
    "with initialize(config_path=f\"../scripts/conf/\", version_base=None):\n",
    "    cfg = compose(\n",
    "        config_name=\"config.yaml\",\n",
    "        overrides=[\n",
    "            f\"paths.root={root_path}\",\n",
    "            f\"data.num_workers=4\",\n",
    "        ],\n",
    "    )"
   ]
  },
  {
   "cell_type": "code",
   "execution_count": 4,
   "id": "33a92223-8e18-4c68-af55-04247bb2c263",
   "metadata": {},
   "outputs": [
    {
     "name": "stdout",
     "output_type": "stream",
     "text": [
      "paths:\n",
      "  root: /Users/daniellerothermel/drotherm\n",
      "  data: /Users/daniellerothermel/drotherm/data/dr_gen\n",
      "  logs: /Users/daniellerothermel/drotherm/logs/dr_gen\n",
      "  dataset_cache_root: /Users/daniellerothermel/drotherm/data/dr_gen/cifar10/\n",
      "data:\n",
      "  name: cifar10\n",
      "  num_workers: 4\n",
      "  cache_dataset: true\n",
      "  download: true\n",
      "  train:\n",
      "    source: train\n",
      "    source_percent: 0.8\n",
      "    shuffle: true\n",
      "    transform:\n",
      "      normalize: true\n",
      "      random_crop: true\n",
      "      random_horizontal_flip: true\n",
      "      color_jitter: true\n",
      "      normalize_mean:\n",
      "      - 0.4914\n",
      "      - 0.4822\n",
      "      - 0.4465\n",
      "      normalize_std:\n",
      "      - 0.2023\n",
      "      - 0.1994\n",
      "      - 0.201\n",
      "      crop_size: 32\n",
      "      crop_padding: 4\n",
      "      random_horizontal_flip_prob: 0.5\n",
      "      jitter_brightness: 0.247\n",
      "  val:\n",
      "    source: train\n",
      "    source_percent: 0.2\n",
      "    shuffle: false\n",
      "    transform:\n",
      "      normalize: true\n",
      "      random_crop: false\n",
      "      random_horizontal_flip: false\n",
      "      color_jitter: false\n",
      "      normalize_mean:\n",
      "      - 0.4914\n",
      "      - 0.4822\n",
      "      - 0.4465\n",
      "      normalize_std:\n",
      "      - 0.2023\n",
      "      - 0.1994\n",
      "      - 0.201\n",
      "      crop_size: null\n",
      "      crop_padding: null\n",
      "      random_horizontal_flip_prob: null\n",
      "      jitter_brightness: null\n",
      "  eval:\n",
      "    source: eval\n",
      "    source_percent: 1.0\n",
      "    shuffle: false\n",
      "    transform:\n",
      "      normalize: true\n",
      "      random_crop: false\n",
      "      random_horizontal_flip: false\n",
      "      color_jitter: false\n",
      "      normalize_mean:\n",
      "      - 0.4914\n",
      "      - 0.4822\n",
      "      - 0.4465\n",
      "      normalize_std:\n",
      "      - 0.2023\n",
      "      - 0.1994\n",
      "      - 0.201\n",
      "      crop_size: null\n",
      "      crop_padding: null\n",
      "      random_horizontal_flip_prob: null\n",
      "      jitter_brightness: null\n",
      "train:\n",
      "  run: true\n",
      "  batch_size: 5\n",
      "val:\n",
      "  run: true\n",
      "  batch_size: 10\n",
      "eval:\n",
      "  run: false\n",
      "  batch_size: 10\n",
      "seed: 101\n",
      "\n"
     ]
    }
   ],
   "source": [
    "print(OmegaConf.to_yaml(OmegaConf.to_container(cfg, resolve=True)))"
   ]
  },
  {
   "cell_type": "code",
   "execution_count": 5,
   "id": "4299b649-97bb-4588-997f-2450c9712899",
   "metadata": {},
   "outputs": [],
   "source": [
    "generator = ru.set_deterministic(cfg.seed)"
   ]
  },
  {
   "cell_type": "code",
   "execution_count": null,
   "id": "d7b91c04-602a-4667-8024-3ac608c3e13a",
   "metadata": {},
   "outputs": [],
   "source": []
  },
  {
   "cell_type": "markdown",
   "id": "cbdcc177-093b-4dcc-a19f-44d7ac83430e",
   "metadata": {
    "jp-MarkdownHeadingCollapsed": true
   },
   "source": [
    "### Test Out Dataloading"
   ]
  },
  {
   "cell_type": "markdown",
   "id": "a8a7a937-ea5a-4823-bf16-e1c827cdd003",
   "metadata": {
    "jp-MarkdownHeadingCollapsed": true
   },
   "source": [
    "#### PIL images"
   ]
  },
  {
   "cell_type": "code",
   "execution_count": null,
   "id": "483c528f-e470-401d-b13c-e46958cc90d1",
   "metadata": {},
   "outputs": [],
   "source": [
    "# Test loading dataset with PIL images\n",
    "cifar10_train_pil = du.get_dataset(\n",
    "    cfg.data, cfg.paths, train=True, as_pil=True,\n",
    ")\n",
    "cifar10_train_pil"
   ]
  },
  {
   "cell_type": "code",
   "execution_count": null,
   "id": "abdd9ab6-ed1a-411b-bbea-98543efec828",
   "metadata": {},
   "outputs": [],
   "source": [
    "sample_pil = cifar10_train_pil[0]\n",
    "sample_pil"
   ]
  },
  {
   "cell_type": "code",
   "execution_count": null,
   "id": "886b2956-f452-4ea0-a217-7f0d678df9e8",
   "metadata": {},
   "outputs": [],
   "source": [
    "print(f\"{type(sample_pil[0]) = }\")"
   ]
  },
  {
   "cell_type": "code",
   "execution_count": null,
   "id": "279cc8b7-21b3-45e1-852c-9797125b165a",
   "metadata": {},
   "outputs": [],
   "source": [
    "plt.imshow(sample_pil[0])\n",
    "plt.axis(\"off\")\n",
    "plt.show()"
   ]
  },
  {
   "cell_type": "code",
   "execution_count": null,
   "id": "784acea9-ea85-4484-ae2c-239283168614",
   "metadata": {},
   "outputs": [],
   "source": []
  },
  {
   "cell_type": "markdown",
   "id": "e5373885-b25a-412e-acb6-c15faee51b74",
   "metadata": {
    "jp-MarkdownHeadingCollapsed": true
   },
   "source": [
    "#### TV Tensor Images"
   ]
  },
  {
   "cell_type": "code",
   "execution_count": null,
   "id": "10d1fe6c-a897-4990-a9b9-a9ee8b99d88d",
   "metadata": {},
   "outputs": [],
   "source": [
    "# Test loading dataset with tensors\n",
    "cifar10_train_tvt = du.get_dataset(\n",
    "    cfg.data, cfg.paths, train=True, as_pil=False,\n",
    ")\n",
    "cifar10_train_tvt"
   ]
  },
  {
   "cell_type": "code",
   "execution_count": null,
   "id": "4107db1c-3c7d-4db6-8f51-da2e884870a3",
   "metadata": {},
   "outputs": [],
   "source": [
    "sample_tvt = cifar10_train_tvt[0]\n",
    "sample_tvt"
   ]
  },
  {
   "cell_type": "code",
   "execution_count": null,
   "id": "ed3f16e8-38f3-4c5e-a2dd-9fdc0d1d3dd1",
   "metadata": {},
   "outputs": [],
   "source": [
    "vu.plot([sample_tvt[0]])"
   ]
  },
  {
   "cell_type": "code",
   "execution_count": null,
   "id": "bcb7fe4c-989d-4609-be8f-918f6fb9b199",
   "metadata": {},
   "outputs": [],
   "source": []
  },
  {
   "cell_type": "markdown",
   "id": "d886b0a1-320d-4129-9642-aebc092500ad",
   "metadata": {},
   "source": [
    "### Test out Dataloader"
   ]
  },
  {
   "cell_type": "code",
   "execution_count": 6,
   "id": "52ea73cd-537d-47b2-bff2-bfe1d997c54f",
   "metadata": {},
   "outputs": [],
   "source": [
    "split_dls = du.get_dataloaders(cfg, generator)"
   ]
  },
  {
   "cell_type": "code",
   "execution_count": 7,
   "id": "b4bae816-6054-40b7-82e8-bde56836f81f",
   "metadata": {},
   "outputs": [
    {
     "name": "stdout",
     "output_type": "stream",
     "text": [
      "Label: 9, Batch Shape: torch.Size([5, 3, 32, 32]), Total DS Len: 50000\n"
     ]
    },
    {
     "data": {
      "image/png": "[encoded data removed]",
      "text/plain": [
       "<Figure size 640x480 with 1 Axes>"
      ]
     },
     "metadata": {},
     "output_type": "display_data"
    }
   ],
   "source": [
    "vu.plot_first_from_dl(split_dls['train'])"
   ]
  },
  {
   "cell_type": "code",
   "execution_count": 8,
   "id": "570d0519-9cd0-4bbb-a38e-dda73de4c7af",
   "metadata": {},
   "outputs": [
    {
     "name": "stdout",
     "output_type": "stream",
     "text": [
      "Label: 1, Batch Shape: torch.Size([10, 3, 32, 32]), Total DS Len: 10000\n"
     ]
    },
    {
     "data": {
      "image/png": "[encoded data removed]",
      "text/plain": [
       "<Figure size 640x480 with 1 Axes>"
      ]
     },
     "metadata": {},
     "output_type": "display_data"
    }
   ],
   "source": [
    "vu.plot_first_from_dl(split_dls['val'])"
   ]
  },
  {
   "cell_type": "code",
   "execution_count": 9,
   "id": "818d6332-935b-4342-b594-cac3f86d3035",
   "metadata": {},
   "outputs": [
    {
     "name": "stdout",
     "output_type": "stream",
     "text": [
      "Label: 1, Batch Shape: torch.Size([10, 3, 32, 32]), Total DS Len: 10000\n"
     ]
    },
    {
     "data": {
      "image/png": "[encoded data removed]",
      "text/plain": [
       "<Figure size 640x480 with 1 Axes>"
      ]
     },
     "metadata": {},
     "output_type": "display_data"
    }
   ],
   "source": [
    "vu.plot_first_from_dl(split_dls['eval'])"
   ]
  },
  {
   "cell_type": "code",
   "execution_count": null,
   "id": "e1b3e95a-b90b-4f02-a471-2f9ee0518865",
   "metadata": {},
   "outputs": [],
   "source": []
  },
  {
   "cell_type": "code",
   "execution_count": null,
   "id": "894c1ba1-9c77-4dd3-a1d3-b4ab0f2885e4",
   "metadata": {},
   "outputs": [],
   "source": []
  },
  {
   "cell_type": "code",
   "execution_count": null,
   "id": "ca6cb90d-7aec-4fff-9d99-41913811bf36",
   "metadata": {},
   "outputs": [],
   "source": []
  }
 ],
 "metadata": {
  "kernelspec": {
   "display_name": "Python 3 (ipykernel)",
   "language": "python",
   "name": "python3"
  },
  "language_info": {
   "codemirror_mode": {
    "name": "ipython",
    "version": 3
   },
   "file_extension": ".py",
   "mimetype": "text/x-python",
   "name": "python",
   "nbconvert_exporter": "python",
   "pygments_lexer": "ipython3",
   "version": "3.12.8"
  }
 },
 "nbformat": 4,
 "nbformat_minor": 5
}
