{
 "cells": [
  {
   "cell_type": "code",
   "execution_count": 1,
   "id": "5aab13b8-7b26-4c0e-ba3b-59d6985887b0",
   "metadata": {},
   "outputs": [],
   "source": [
    "import random\n",
    "import numpy as np\n",
    "\n",
    "import torch\n",
    "import matplotlib.pyplot as plt\n",
    "%matplotlib inline\n",
    "\n",
    "from torchvision.transforms import v2 as transforms_v2\n",
    "from torchvision.io import decode_image\n",
    "\n",
    "import hydra\n",
    "from omegaconf import DictConfig, OmegaConf\n",
    "from hydra import initialize, compose\n",
    "\n",
    "import dr_gen.utils.data as du\n",
    "import dr_gen.utils.run as ru\n",
    "import dr_gen.utils.viz as vu\n",
    "\n",
    "%load_ext autoreload\n",
    "%autoreload 2"
   ]
  },
  {
   "cell_type": "markdown",
   "id": "f5858e6b-b7f4-41fb-8e84-0b658bd333de",
   "metadata": {},
   "source": [
    "### Setup Config & Helpers"
   ]
  },
  {
   "cell_type": "code",
   "execution_count": 2,
   "id": "92716248-ed34-4745-a568-05b2870e2ffc",
   "metadata": {},
   "outputs": [],
   "source": [
    "root_path = \"/Users/daniellerothermel/drotherm\"\n",
    "repo_path = f\"{root_path}/repos/dr_gen/\""
   ]
  },
  {
   "cell_type": "code",
   "execution_count": 3,
   "id": "7caa2be0-eab5-46f4-80f3-292345611b12",
   "metadata": {},
   "outputs": [],
   "source": [
    "with initialize(config_path=f\"../scripts/conf/\", version_base=None):\n",
    "    cfg = compose(\n",
    "        config_name=\"config.yaml\",\n",
    "        overrides=[\n",
    "            f\"paths.root={root_path}\",\n",
    "            f\"data.num_workers=4\",\n",
    "        ],\n",
    "    )"
   ]
  },
  {
   "cell_type": "code",
   "execution_count": 4,
   "id": "33a92223-8e18-4c68-af55-04247bb2c263",
   "metadata": {},
   "outputs": [
    {
     "name": "stdout",
     "output_type": "stream",
     "text": [
      "paths:\n",
      "  root: /Users/daniellerothermel/drotherm\n",
      "  data: /Users/daniellerothermel/drotherm/data/dr_gen\n",
      "  logs: /Users/daniellerothermel/drotherm/logs/dr_gen\n",
      "  dataset_cache_root: /Users/daniellerothermel/drotherm/data/dr_gen/cifar10/\n",
      "data:\n",
      "  name: cifar10\n",
      "  num_workers: 4\n",
      "  cache_dataset: true\n",
      "  download: true\n",
      "  transform:\n",
      "    train:\n",
      "      normalize: true\n",
      "      random_crop: true\n",
      "      random_horizontal_flip: true\n",
      "      color_jitter: true\n",
      "      normalize_mean:\n",
      "      - 0.4914\n",
      "      - 0.4822\n",
      "      - 0.4465\n",
      "      normalize_std:\n",
      "      - 0.2023\n",
      "      - 0.1994\n",
      "      - 0.201\n",
      "      crop_size: 32\n",
      "      crop_padding: 4\n",
      "      random_horizontal_flip_prob: 0.5\n",
      "      jitter_brightness: 0.247\n",
      "    eval:\n",
      "      normalize: true\n",
      "      random_crop: false\n",
      "      random_horizontal_flip: false\n",
      "      color_jitter: false\n",
      "      normalize_mean:\n",
      "      - 0.4914\n",
      "      - 0.4822\n",
      "      - 0.4465\n",
      "      normalize_std:\n",
      "      - 0.2023\n",
      "      - 0.1994\n",
      "      - 0.201\n",
      "      crop_size: null\n",
      "      crop_padding: null\n",
      "      random_horizontal_flip_prob: null\n",
      "      jitter_brightness: null\n",
      "train:\n",
      "  run: true\n",
      "  source_percent: 0.8\n",
      "  batch_size: 5\n",
      "val:\n",
      "  source: train\n",
      "  source_percent: 0.2\n",
      "  batch_size: 10\n",
      "eval:\n",
      "  run: false\n",
      "  batch_size: 10\n",
      "seed: 101\n",
      "\n"
     ]
    }
   ],
   "source": [
    "print(OmegaConf.to_yaml(OmegaConf.to_container(cfg, resolve=True)))"
   ]
  },
  {
   "cell_type": "code",
   "execution_count": 5,
   "id": "4299b649-97bb-4588-997f-2450c9712899",
   "metadata": {},
   "outputs": [],
   "source": [
    "generator = ru.set_deterministic(cfg.seed)"
   ]
  },
  {
   "cell_type": "raw",
   "id": "4c045a1a-4b2d-4494-873e-b372738936d3",
   "metadata": {},
   "source": [
    "# Following Guide for Determinism: https://pytorch.org/docs/stable/notes/randomness.html\n",
    "run_seed = 100\n",
    "torch.manual_seed(run_seed)\n",
    "random.seed(run_seed)\n",
    "np.random.seed(run_seed)\n",
    "torch.use_deterministic_algorithms(True)\n",
    "\n",
    "def seed_worker(worker_id):\n",
    "    worker_seed = torch.initial_seed() % 2**32\n",
    "    numpy.random.seed(worker_seed)\n",
    "    random.seed(worker_seed)\n",
    "    \n",
    "g = torch.Generator()\n",
    "g.manual_seed(run_seed)"
   ]
  },
  {
   "cell_type": "raw",
   "id": "64a652d4-9b32-48bd-87a6-4ba976ed16d5",
   "metadata": {},
   "source": [
    "# Copy helper from https://github.com/pytorch/vision/blob/main/gallery/transforms/helpers.py\n",
    "from torchvision.utils import draw_bounding_boxes, draw_segmentation_masks\n",
    "from torchvision import tv_tensors\n",
    "from torchvision.transforms.v2 import functional as F\n",
    "\n",
    "\n",
    "def plot(imgs, row_title=None, **imshow_kwargs):\n",
    "    if not isinstance(imgs[0], list):\n",
    "        # Make a 2d grid even if there's just 1 row\n",
    "        imgs = [imgs]\n",
    "\n",
    "    num_rows = len(imgs)\n",
    "    num_cols = len(imgs[0])\n",
    "    _, axs = plt.subplots(nrows=num_rows, ncols=num_cols, squeeze=False)\n",
    "    for row_idx, row in enumerate(imgs):\n",
    "        for col_idx, img in enumerate(row):\n",
    "            boxes = None\n",
    "            masks = None\n",
    "            if isinstance(img, tuple):\n",
    "                img, target = img\n",
    "                if isinstance(target, dict):\n",
    "                    boxes = target.get(\"boxes\")\n",
    "                    masks = target.get(\"masks\")\n",
    "                elif isinstance(target, tv_tensors.BoundingBoxes):\n",
    "                    boxes = target\n",
    "                else:\n",
    "                    raise ValueError(f\"Unexpected target type: {type(target)}\")\n",
    "            img = F.to_image(img)\n",
    "            if img.dtype.is_floating_point and img.min() < 0:\n",
    "                # Poor man's re-normalization for the colors to be OK-ish. This\n",
    "                # is useful for images coming out of Normalize()\n",
    "                img -= img.min()\n",
    "                img /= img.max()\n",
    "\n",
    "            img = F.to_dtype(img, torch.uint8, scale=True)\n",
    "            if boxes is not None:\n",
    "                img = draw_bounding_boxes(img, boxes, colors=\"yellow\", width=3)\n",
    "            if masks is not None:\n",
    "                img = draw_segmentation_masks(img, masks.to(torch.bool), colors=[\"green\"] * masks.shape[0], alpha=.65)\n",
    "\n",
    "            ax = axs[row_idx, col_idx]\n",
    "            ax.imshow(img.permute(1, 2, 0).numpy(), **imshow_kwargs)\n",
    "            ax.set(xticklabels=[], yticklabels=[], xticks=[], yticks=[])\n",
    "\n",
    "    if row_title is not None:\n",
    "        for row_idx in range(num_rows):\n",
    "            axs[row_idx, 0].set(ylabel=row_title[row_idx])\n",
    "\n",
    "    plt.tight_layout()"
   ]
  },
  {
   "cell_type": "code",
   "execution_count": null,
   "id": "cfdbda2a-5cd0-4bf6-8217-097b23662a68",
   "metadata": {},
   "outputs": [],
   "source": []
  },
  {
   "cell_type": "code",
   "execution_count": null,
   "id": "d7b91c04-602a-4667-8024-3ac608c3e13a",
   "metadata": {},
   "outputs": [],
   "source": []
  },
  {
   "cell_type": "markdown",
   "id": "cbdcc177-093b-4dcc-a19f-44d7ac83430e",
   "metadata": {},
   "source": [
    "### Test Out Dataloading"
   ]
  },
  {
   "cell_type": "markdown",
   "id": "a8a7a937-ea5a-4823-bf16-e1c827cdd003",
   "metadata": {
    "jp-MarkdownHeadingCollapsed": true
   },
   "source": [
    "#### PIL images"
   ]
  },
  {
   "cell_type": "code",
   "execution_count": 28,
   "id": "483c528f-e470-401d-b13c-e46958cc90d1",
   "metadata": {},
   "outputs": [
    {
     "data": {
      "text/plain": [
       "Dataset CIFAR10\n",
       "    Number of datapoints: 50000\n",
       "    Root location: /Users/daniellerothermel/drotherm/data/dr_gen/cifar10/\n",
       "    Split: Train"
      ]
     },
     "execution_count": 28,
     "metadata": {},
     "output_type": "execute_result"
    }
   ],
   "source": [
    "# Test loading dataset with PIL images\n",
    "cifar10_train_pil = du.get_dataset(\n",
    "    cfg.data, cfg.paths, train=True, as_pil=True,\n",
    ")\n",
    "cifar10_train_pil"
   ]
  },
  {
   "cell_type": "code",
   "execution_count": 29,
   "id": "abdd9ab6-ed1a-411b-bbea-98543efec828",
   "metadata": {},
   "outputs": [
    {
     "data": {
      "text/plain": [
       "(<PIL.Image.Image image mode=RGB size=32x32>, 6)"
      ]
     },
     "execution_count": 29,
     "metadata": {},
     "output_type": "execute_result"
    }
   ],
   "source": [
    "sample_pil = cifar10_train_pil[0]\n",
    "sample_pil"
   ]
  },
  {
   "cell_type": "code",
   "execution_count": 34,
   "id": "886b2956-f452-4ea0-a217-7f0d678df9e8",
   "metadata": {},
   "outputs": [
    {
     "name": "stdout",
     "output_type": "stream",
     "text": [
      "type(sample_pil[0]) = <class 'PIL.Image.Image'>\n"
     ]
    }
   ],
   "source": [
    "print(f\"{type(sample_pil[0]) = }\")"
   ]
  },
  {
   "cell_type": "code",
   "execution_count": 35,
   "id": "279cc8b7-21b3-45e1-852c-9797125b165a",
   "metadata": {},
   "outputs": [
    {
     "data": {
      "image/png": "[encoded data removed]",
      "text/plain": [
       "<Figure size 640x480 with 1 Axes>"
      ]
     },
     "metadata": {},
     "output_type": "display_data"
    }
   ],
   "source": [
    "plt.imshow(sample_pil[0])\n",
    "plt.axis(\"off\")\n",
    "plt.show()"
   ]
  },
  {
   "cell_type": "code",
   "execution_count": null,
   "id": "784acea9-ea85-4484-ae2c-239283168614",
   "metadata": {},
   "outputs": [],
   "source": []
  },
  {
   "cell_type": "markdown",
   "id": "e5373885-b25a-412e-acb6-c15faee51b74",
   "metadata": {
    "jp-MarkdownHeadingCollapsed": true
   },
   "source": [
    "#### TV Tensor Images"
   ]
  },
  {
   "cell_type": "code",
   "execution_count": 19,
   "id": "10d1fe6c-a897-4990-a9b9-a9ee8b99d88d",
   "metadata": {},
   "outputs": [
    {
     "name": "stderr",
     "output_type": "stream",
     "text": [
      "IOPub message rate exceeded.\n",
      "The Jupyter server will temporarily stop sending output\n",
      "to the client in order to avoid crashing it.\n",
      "To change this limit, set the config variable\n",
      "`--ServerApp.iopub_msg_rate_limit`.\n",
      "\n",
      "Current values:\n",
      "ServerApp.iopub_msg_rate_limit=1000.0 (msgs/sec)\n",
      "ServerApp.rate_limit_window=3.0 (secs)\n",
      "\n"
     ]
    },
    {
     "data": {
      "text/plain": [
       "Dataset CIFAR10\n",
       "    Number of datapoints: 50000\n",
       "    Root location: /Users/daniellerothermel/drotherm/data/dr_gen/cifar10/\n",
       "    Split: Train\n",
       "    StandardTransform\n",
       "Transform: Compose(\n",
       "                 ToImage()\n",
       "                 ToDtype(scale=True)\n",
       "                 RandomCrop(size=(32, 32), padding=[4, 4, 4, 4], pad_if_needed=False, fill=0, padding_mode=constant)\n",
       "                 RandomHorizontalFlip(p=0.5)\n",
       "                 ColorJitter(brightness=(0.7529411764705882, 1.2470588235294118))\n",
       "                 Normalize(mean=[0.4914, 0.4822, 0.4465], std=[0.2023, 0.1994, 0.201], inplace=False)\n",
       "           )"
      ]
     },
     "execution_count": 19,
     "metadata": {},
     "output_type": "execute_result"
    }
   ],
   "source": [
    "# Test loading dataset with tensors\n",
    "cifar10_train_tvt = du.get_dataset(\n",
    "    cfg.data, cfg.paths, train=True, as_pil=False,\n",
    ")\n",
    "cifar10_train_tvt"
   ]
  },
  {
   "cell_type": "code",
   "execution_count": 20,
   "id": "4107db1c-3c7d-4db6-8f51-da2e884870a3",
   "metadata": {},
   "outputs": [
    {
     "data": {
      "text/plain": [
       "(Image([[[ 0.1115,  0.3679,  0.3212,  ..., -1.2870, -2.0561, -1.8464],\n",
       "         [-0.2381,  0.3912,  0.4844,  ..., -0.4013, -1.5434, -1.6599],\n",
       "         [-0.8674, -0.6810, -0.4013,  ..., -0.0517, -1.0539, -1.2637],\n",
       "         ...,\n",
       "         [ 0.4378,  1.0904,  2.5141,  ...,  1.7430,  1.4866,  1.6964],\n",
       "         [-2.4291, -2.4291, -2.4291,  ..., -2.4291, -2.4291, -2.4291],\n",
       "         [-2.4291, -2.4291, -2.4291,  ..., -2.4291, -2.4291, -2.4291]],\n",
       " \n",
       "        [[-0.6920, -0.4319, -0.4319,  ..., -1.7798, -2.2527, -1.8507],\n",
       "         [-0.9522, -0.4083, -0.3610,  ..., -1.1413, -1.9453, -1.8271],\n",
       "         [-1.4251, -1.3069, -1.0704,  ..., -0.8812, -1.6616, -1.6616],\n",
       "         ...,\n",
       "         [-0.2428,  0.3721,  1.9327,  ...,  0.9396,  0.6322,  0.9869],\n",
       "         [-2.4183, -2.4183, -2.4183,  ..., -2.4183, -2.4183, -2.4183],\n",
       "         [-2.4183, -2.4183, -2.4183,  ..., -2.4183, -2.4183, -2.4183]],\n",
       " \n",
       "        [[-1.2361, -1.0485, -1.0485,  ..., -2.0337, -2.2214, -1.7288],\n",
       "         [-1.4003, -1.0954, -1.0485,  ..., -1.6349, -2.1276, -1.8226],\n",
       "         [-1.6349, -1.6818, -1.5880,  ..., -1.4238, -1.9633, -1.7288],\n",
       "         ...,\n",
       "         [-0.5324, -0.2509,  1.0628,  ..., -0.1805, -0.0163,  0.4998],\n",
       "         [-2.2214, -2.2214, -2.2214,  ..., -2.2214, -2.2214, -2.2214],\n",
       "         [-2.2214, -2.2214, -2.2214,  ..., -2.2214, -2.2214, -2.2214]]], ),\n",
       " 6)"
      ]
     },
     "execution_count": 20,
     "metadata": {},
     "output_type": "execute_result"
    }
   ],
   "source": [
    "sample_tvt = cifar10_train_tvt[0]\n",
    "sample_tvt"
   ]
  },
  {
   "cell_type": "code",
   "execution_count": 24,
   "id": "ed3f16e8-38f3-4c5e-a2dd-9fdc0d1d3dd1",
   "metadata": {},
   "outputs": [
    {
     "data": {
      "image/png": "[encoded data removed]",
      "text/plain": [
       "<Figure size 640x480 with 1 Axes>"
      ]
     },
     "metadata": {},
     "output_type": "display_data"
    }
   ],
   "source": [
    "vu.plot([sample_tvt[0]])"
   ]
  },
  {
   "cell_type": "code",
   "execution_count": null,
   "id": "bcb7fe4c-989d-4609-be8f-918f6fb9b199",
   "metadata": {},
   "outputs": [],
   "source": []
  },
  {
   "cell_type": "markdown",
   "id": "d886b0a1-320d-4129-9642-aebc092500ad",
   "metadata": {},
   "source": [
    "### Test out Dataloader"
   ]
  },
  {
   "cell_type": "code",
   "execution_count": 25,
   "id": "cd7953e0-78fa-4714-8cbe-8a088e448dc5",
   "metadata": {},
   "outputs": [],
   "source": [
    "cifar10_train = du.get_dataset(\n",
    "    cfg.data, cfg.paths, train=True, as_pil=False,\n",
    ")"
   ]
  },
  {
   "cell_type": "code",
   "execution_count": 31,
   "id": "ad446375-5412-4f5c-98bc-d620508aa7a9",
   "metadata": {},
   "outputs": [],
   "source": [
    "cifar10_eval = du.get_dataset(\n",
    "    cfg.data, cfg.paths, train=False, as_pil=False,\n",
    ")"
   ]
  },
  {
   "cell_type": "code",
   "execution_count": 30,
   "id": "69e072d3-ad41-4238-9586-0ea826915eea",
   "metadata": {},
   "outputs": [],
   "source": [
    "cifar10_dl_train = du.get_dataloader(cfg, cifar10_train, generator, train=True)"
   ]
  },
  {
   "cell_type": "code",
   "execution_count": 35,
   "id": "b33ee160-d190-46af-8bb3-9fa0d373f08e",
   "metadata": {},
   "outputs": [],
   "source": [
    "cifar10_dl_eval = du.get_dataloader(cfg, cifar10_eval, generator, train=False)"
   ]
  },
  {
   "cell_type": "raw",
   "id": "1b14bfb9-d92f-4ea2-9089-be47df1c0236",
   "metadata": {},
   "source": [
    "# Instead of using shuffle explicitly handle it via choosing samplers\n",
    "dl = torch.utils.data.DataLoader(\n",
    "    cifar10_train,\n",
    "    batch_size=1,\n",
    "    sampler=torch.utils.data.RandomSampler(cifar10_train),\n",
    "    #test\n",
    "    #sampler=torch.utils.data.SequentialSampler(cifar10_train),\n",
    "    num_workers=cfg.data.num_workers,\n",
    "    collate_fn=torch.utils.data.dataloader.default_collate,\n",
    "    pin_memory=True,\n",
    "    # Cannot seed workers via jlab\n",
    "    #worker_init_fn=lambda wid: numpy.random.seed(torch.initial_seed() % 2**32) and random.seed(torch.initial_seed() % 2**32),\n",
    "    generator=g,\n",
    ")"
   ]
  },
  {
   "cell_type": "code",
   "execution_count": null,
   "id": "726320a6-ea57-4c52-8ca2-cafe2fdb55f1",
   "metadata": {},
   "outputs": [],
   "source": []
  },
  {
   "cell_type": "code",
   "execution_count": 6,
   "id": "aa6da06f-b779-4324-855d-082e165d11ae",
   "metadata": {},
   "outputs": [
    {
     "name": "stdout",
     "output_type": "stream",
     "text": [
      "Compose(    [ToImage(), ToDtype(scale=True), RandomCrop(size=(32, 32), padding=[4, 4, 4, 4], pad_if_needed=False, fill=0, padding_mode=constant), RandomHorizontalFlip(p=0.5), ColorJitter(brightness=(0.753, 1.2469999999999999)), Normalize(mean=[0.4914, 0.4822, 0.4465], std=[0.2023, 0.1994, 0.201], inplace=False)])\n",
      "Compose(    [ToImage(), ToDtype(scale=True), Normalize(mean=[0.4914, 0.4822, 0.4465], std=[0.2023, 0.1994, 0.201], inplace=False)])\n"
     ]
    }
   ],
   "source": [
    "#cft = du.load_data(cfg, generator)\n",
    "train_ds, val_ds = du.setup_train_val_datasets(cfg, generator)"
   ]
  },
  {
   "cell_type": "code",
   "execution_count": 7,
   "id": "5437b24e-eee5-4ebe-a6aa-6c261d069134",
   "metadata": {},
   "outputs": [
    {
     "data": {
      "text/plain": [
       "(40000, 10000)"
      ]
     },
     "execution_count": 7,
     "metadata": {},
     "output_type": "execute_result"
    }
   ],
   "source": [
    "len(train_ds), len(val_ds)"
   ]
  },
  {
   "cell_type": "code",
   "execution_count": 8,
   "id": "b5b01d8e-70bc-4646-a2d3-8a1036d6fcef",
   "metadata": {},
   "outputs": [
    {
     "data": {
      "text/plain": [
       "(<PIL.Image.Image image mode=RGB size=32x32>, 6)"
      ]
     },
     "execution_count": 8,
     "metadata": {},
     "output_type": "execute_result"
    }
   ],
   "source": [
    "train_ds[0]"
   ]
  },
  {
   "cell_type": "code",
   "execution_count": 9,
   "id": "b2ffedd7-4b66-4f20-a168-0a7322a82231",
   "metadata": {},
   "outputs": [
    {
     "data": {
      "text/plain": [
       "(<PIL.Image.Image image mode=RGB size=32x32>, 1)"
      ]
     },
     "execution_count": 9,
     "metadata": {},
     "output_type": "execute_result"
    }
   ],
   "source": [
    "val_ds[0]"
   ]
  },
  {
   "cell_type": "code",
   "execution_count": null,
   "id": "4891b2da-2303-47ed-ba85-adac9259c89e",
   "metadata": {},
   "outputs": [],
   "source": []
  },
  {
   "cell_type": "code",
   "execution_count": 10,
   "id": "fab9f35a-58c4-47e2-81c5-4ba770d0a4b7",
   "metadata": {},
   "outputs": [
    {
     "name": "stdout",
     "output_type": "stream",
     "text": [
      "Compose(    [ToImage(), ToDtype(scale=True), RandomCrop(size=(32, 32), padding=[4, 4, 4, 4], pad_if_needed=False, fill=0, padding_mode=constant), RandomHorizontalFlip(p=0.5), ColorJitter(brightness=(0.753, 1.2469999999999999)), Normalize(mean=[0.4914, 0.4822, 0.4465], std=[0.2023, 0.1994, 0.201], inplace=False)])\n",
      "Compose(    [ToImage(), ToDtype(scale=True), Normalize(mean=[0.4914, 0.4822, 0.4465], std=[0.2023, 0.1994, 0.201], inplace=False)])\n"
     ]
    }
   ],
   "source": [
    "train_dl, val_dl = du.setup_train_val_dataloaders(cfg, generator)"
   ]
  },
  {
   "cell_type": "code",
   "execution_count": 11,
   "id": "e59b0d50-840e-47fd-8fc1-5c674a73e6dd",
   "metadata": {},
   "outputs": [
    {
     "ename": "TypeError",
     "evalue": "Caught TypeError in DataLoader worker process 0.\nOriginal Traceback (most recent call last):\n  File \"/Users/daniellerothermel/drotherm/repos/dr_gen/.venv/lib/python3.12/site-packages/torch/utils/data/_utils/worker.py\", line 349, in _worker_loop\n    data = fetcher.fetch(index)  # type: ignore[possibly-undefined]\n           ^^^^^^^^^^^^^^^^^^^^\n  File \"/Users/daniellerothermel/drotherm/repos/dr_gen/.venv/lib/python3.12/site-packages/torch/utils/data/_utils/fetch.py\", line 55, in fetch\n    return self.collate_fn(data)\n           ^^^^^^^^^^^^^^^^^^^^^\n  File \"/Users/daniellerothermel/drotherm/repos/dr_gen/.venv/lib/python3.12/site-packages/torch/utils/data/_utils/collate.py\", line 398, in default_collate\n    return collate(batch, collate_fn_map=default_collate_fn_map)\n           ^^^^^^^^^^^^^^^^^^^^^^^^^^^^^^^^^^^^^^^^^^^^^^^^^^^^^\n  File \"/Users/daniellerothermel/drotherm/repos/dr_gen/.venv/lib/python3.12/site-packages/torch/utils/data/_utils/collate.py\", line 212, in collate\n    collate(samples, collate_fn_map=collate_fn_map)\n  File \"/Users/daniellerothermel/drotherm/repos/dr_gen/.venv/lib/python3.12/site-packages/torch/utils/data/_utils/collate.py\", line 240, in collate\n    raise TypeError(default_collate_err_msg_format.format(elem_type))\nTypeError: default_collate: batch must contain tensors, numpy arrays, numbers, dicts or lists; found <class 'PIL.Image.Image'>\n",
     "output_type": "error",
     "traceback": [
      "\u001b[0;31m---------------------------------------------------------------------------\u001b[0m",
      "\u001b[0;31mTypeError\u001b[0m                                 Traceback (most recent call last)",
      "Cell \u001b[0;32mIn[11], line 1\u001b[0m\n\u001b[0;32m----> 1\u001b[0m train_features, train_labels \u001b[38;5;241m=\u001b[39m \u001b[38;5;28;43mnext\u001b[39;49m\u001b[43m(\u001b[49m\u001b[38;5;28;43miter\u001b[39;49m\u001b[43m(\u001b[49m\u001b[43mval_dl\u001b[49m\u001b[43m)\u001b[49m\u001b[43m)\u001b[49m\n\u001b[1;32m      2\u001b[0m \u001b[38;5;28mprint\u001b[39m(\u001b[38;5;124mf\u001b[39m\u001b[38;5;124m\"\u001b[39m\u001b[38;5;124mLabel: \u001b[39m\u001b[38;5;132;01m{\u001b[39;00mtrain_labels[\u001b[38;5;241m0\u001b[39m]\u001b[38;5;132;01m}\u001b[39;00m\u001b[38;5;124m, Batch Shape: \u001b[39m\u001b[38;5;132;01m{\u001b[39;00mtrain_features\u001b[38;5;241m.\u001b[39mshape\u001b[38;5;132;01m}\u001b[39;00m\u001b[38;5;124m\"\u001b[39m)\n\u001b[1;32m      3\u001b[0m vu\u001b[38;5;241m.\u001b[39mplot([train_features[\u001b[38;5;241m0\u001b[39m]\u001b[38;5;241m.\u001b[39msqueeze()])\n",
      "File \u001b[0;32m~/drotherm/repos/dr_gen/.venv/lib/python3.12/site-packages/torch/utils/data/dataloader.py:708\u001b[0m, in \u001b[0;36m_BaseDataLoaderIter.__next__\u001b[0;34m(self)\u001b[0m\n\u001b[1;32m    705\u001b[0m \u001b[38;5;28;01mif\u001b[39;00m \u001b[38;5;28mself\u001b[39m\u001b[38;5;241m.\u001b[39m_sampler_iter \u001b[38;5;129;01mis\u001b[39;00m \u001b[38;5;28;01mNone\u001b[39;00m:\n\u001b[1;32m    706\u001b[0m     \u001b[38;5;66;03m# TODO(https://github.com/pytorch/pytorch/issues/76750)\u001b[39;00m\n\u001b[1;32m    707\u001b[0m     \u001b[38;5;28mself\u001b[39m\u001b[38;5;241m.\u001b[39m_reset()  \u001b[38;5;66;03m# type: ignore[call-arg]\u001b[39;00m\n\u001b[0;32m--> 708\u001b[0m data \u001b[38;5;241m=\u001b[39m \u001b[38;5;28;43mself\u001b[39;49m\u001b[38;5;241;43m.\u001b[39;49m\u001b[43m_next_data\u001b[49m\u001b[43m(\u001b[49m\u001b[43m)\u001b[49m\n\u001b[1;32m    709\u001b[0m \u001b[38;5;28mself\u001b[39m\u001b[38;5;241m.\u001b[39m_num_yielded \u001b[38;5;241m+\u001b[39m\u001b[38;5;241m=\u001b[39m \u001b[38;5;241m1\u001b[39m\n\u001b[1;32m    710\u001b[0m \u001b[38;5;28;01mif\u001b[39;00m (\n\u001b[1;32m    711\u001b[0m     \u001b[38;5;28mself\u001b[39m\u001b[38;5;241m.\u001b[39m_dataset_kind \u001b[38;5;241m==\u001b[39m _DatasetKind\u001b[38;5;241m.\u001b[39mIterable\n\u001b[1;32m    712\u001b[0m     \u001b[38;5;129;01mand\u001b[39;00m \u001b[38;5;28mself\u001b[39m\u001b[38;5;241m.\u001b[39m_IterableDataset_len_called \u001b[38;5;129;01mis\u001b[39;00m \u001b[38;5;129;01mnot\u001b[39;00m \u001b[38;5;28;01mNone\u001b[39;00m\n\u001b[1;32m    713\u001b[0m     \u001b[38;5;129;01mand\u001b[39;00m \u001b[38;5;28mself\u001b[39m\u001b[38;5;241m.\u001b[39m_num_yielded \u001b[38;5;241m>\u001b[39m \u001b[38;5;28mself\u001b[39m\u001b[38;5;241m.\u001b[39m_IterableDataset_len_called\n\u001b[1;32m    714\u001b[0m ):\n",
      "File \u001b[0;32m~/drotherm/repos/dr_gen/.venv/lib/python3.12/site-packages/torch/utils/data/dataloader.py:1480\u001b[0m, in \u001b[0;36m_MultiProcessingDataLoaderIter._next_data\u001b[0;34m(self)\u001b[0m\n\u001b[1;32m   1478\u001b[0m \u001b[38;5;28;01mdel\u001b[39;00m \u001b[38;5;28mself\u001b[39m\u001b[38;5;241m.\u001b[39m_task_info[idx]\n\u001b[1;32m   1479\u001b[0m \u001b[38;5;28mself\u001b[39m\u001b[38;5;241m.\u001b[39m_rcvd_idx \u001b[38;5;241m+\u001b[39m\u001b[38;5;241m=\u001b[39m \u001b[38;5;241m1\u001b[39m\n\u001b[0;32m-> 1480\u001b[0m \u001b[38;5;28;01mreturn\u001b[39;00m \u001b[38;5;28;43mself\u001b[39;49m\u001b[38;5;241;43m.\u001b[39;49m\u001b[43m_process_data\u001b[49m\u001b[43m(\u001b[49m\u001b[43mdata\u001b[49m\u001b[43m)\u001b[49m\n",
      "File \u001b[0;32m~/drotherm/repos/dr_gen/.venv/lib/python3.12/site-packages/torch/utils/data/dataloader.py:1505\u001b[0m, in \u001b[0;36m_MultiProcessingDataLoaderIter._process_data\u001b[0;34m(self, data)\u001b[0m\n\u001b[1;32m   1503\u001b[0m \u001b[38;5;28mself\u001b[39m\u001b[38;5;241m.\u001b[39m_try_put_index()\n\u001b[1;32m   1504\u001b[0m \u001b[38;5;28;01mif\u001b[39;00m \u001b[38;5;28misinstance\u001b[39m(data, ExceptionWrapper):\n\u001b[0;32m-> 1505\u001b[0m     \u001b[43mdata\u001b[49m\u001b[38;5;241;43m.\u001b[39;49m\u001b[43mreraise\u001b[49m\u001b[43m(\u001b[49m\u001b[43m)\u001b[49m\n\u001b[1;32m   1506\u001b[0m \u001b[38;5;28;01mreturn\u001b[39;00m data\n",
      "File \u001b[0;32m~/drotherm/repos/dr_gen/.venv/lib/python3.12/site-packages/torch/_utils.py:733\u001b[0m, in \u001b[0;36mExceptionWrapper.reraise\u001b[0;34m(self)\u001b[0m\n\u001b[1;32m    729\u001b[0m \u001b[38;5;28;01mexcept\u001b[39;00m \u001b[38;5;167;01mTypeError\u001b[39;00m:\n\u001b[1;32m    730\u001b[0m     \u001b[38;5;66;03m# If the exception takes multiple arguments, don't try to\u001b[39;00m\n\u001b[1;32m    731\u001b[0m     \u001b[38;5;66;03m# instantiate since we don't know how to\u001b[39;00m\n\u001b[1;32m    732\u001b[0m     \u001b[38;5;28;01mraise\u001b[39;00m \u001b[38;5;167;01mRuntimeError\u001b[39;00m(msg) \u001b[38;5;28;01mfrom\u001b[39;00m\u001b[38;5;250m \u001b[39m\u001b[38;5;28;01mNone\u001b[39;00m\n\u001b[0;32m--> 733\u001b[0m \u001b[38;5;28;01mraise\u001b[39;00m exception\n",
      "\u001b[0;31mTypeError\u001b[0m: Caught TypeError in DataLoader worker process 0.\nOriginal Traceback (most recent call last):\n  File \"/Users/daniellerothermel/drotherm/repos/dr_gen/.venv/lib/python3.12/site-packages/torch/utils/data/_utils/worker.py\", line 349, in _worker_loop\n    data = fetcher.fetch(index)  # type: ignore[possibly-undefined]\n           ^^^^^^^^^^^^^^^^^^^^\n  File \"/Users/daniellerothermel/drotherm/repos/dr_gen/.venv/lib/python3.12/site-packages/torch/utils/data/_utils/fetch.py\", line 55, in fetch\n    return self.collate_fn(data)\n           ^^^^^^^^^^^^^^^^^^^^^\n  File \"/Users/daniellerothermel/drotherm/repos/dr_gen/.venv/lib/python3.12/site-packages/torch/utils/data/_utils/collate.py\", line 398, in default_collate\n    return collate(batch, collate_fn_map=default_collate_fn_map)\n           ^^^^^^^^^^^^^^^^^^^^^^^^^^^^^^^^^^^^^^^^^^^^^^^^^^^^^\n  File \"/Users/daniellerothermel/drotherm/repos/dr_gen/.venv/lib/python3.12/site-packages/torch/utils/data/_utils/collate.py\", line 212, in collate\n    collate(samples, collate_fn_map=collate_fn_map)\n  File \"/Users/daniellerothermel/drotherm/repos/dr_gen/.venv/lib/python3.12/site-packages/torch/utils/data/_utils/collate.py\", line 240, in collate\n    raise TypeError(default_collate_err_msg_format.format(elem_type))\nTypeError: default_collate: batch must contain tensors, numpy arrays, numbers, dicts or lists; found <class 'PIL.Image.Image'>\n"
     ]
    }
   ],
   "source": [
    "train_features, train_labels = next(iter(val_dl))\n",
    "print(f\"Label: {train_labels[0]}, Batch Shape: {train_features.shape}\")\n",
    "vu.plot([train_features[0].squeeze()])"
   ]
  },
  {
   "cell_type": "code",
   "execution_count": null,
   "id": "4d378412-4edc-4571-b1d1-bc657f5f426d",
   "metadata": {},
   "outputs": [],
   "source": []
  },
  {
   "cell_type": "code",
   "execution_count": 62,
   "id": "9c9573c5-7f05-4a9f-8d95-fa1fa9275958",
   "metadata": {},
   "outputs": [
    {
     "ename": "TypeError",
     "evalue": "Caught TypeError in DataLoader worker process 0.\nOriginal Traceback (most recent call last):\n  File \"/Users/daniellerothermel/drotherm/repos/dr_gen/.venv/lib/python3.12/site-packages/torch/utils/data/_utils/worker.py\", line 349, in _worker_loop\n    data = fetcher.fetch(index)  # type: ignore[possibly-undefined]\n           ^^^^^^^^^^^^^^^^^^^^\n  File \"/Users/daniellerothermel/drotherm/repos/dr_gen/.venv/lib/python3.12/site-packages/torch/utils/data/_utils/fetch.py\", line 50, in fetch\n    data = self.dataset.__getitems__(possibly_batched_index)\n           ^^^^^^^^^^^^^^^^^^^^^^^^^^^^^^^^^^^^^^^^^^^^^^^^^\n  File \"/Users/daniellerothermel/drotherm/repos/dr_gen/.venv/lib/python3.12/site-packages/torch/utils/data/dataset.py\", line 420, in __getitems__\n    return [self.dataset[self.indices[idx]] for idx in indices]\n            ~~~~~~~~~~~~^^^^^^^^^^^^^^^^^^^\n  File \"/Users/daniellerothermel/drotherm/repos/dr_gen/.venv/lib/python3.12/site-packages/torchvision/datasets/cifar.py\", line 119, in __getitem__\n    img = self.transform(img)\n          ^^^^^^^^^^^^^^^^^^^\n  File \"/Users/daniellerothermel/drotherm/repos/dr_gen/.venv/lib/python3.12/site-packages/torch/nn/modules/module.py\", line 1739, in _wrapped_call_impl\n    return self._call_impl(*args, **kwargs)\n           ^^^^^^^^^^^^^^^^^^^^^^^^^^^^^^^^\n  File \"/Users/daniellerothermel/drotherm/repos/dr_gen/.venv/lib/python3.12/site-packages/torch/nn/modules/module.py\", line 1750, in _call_impl\n    return forward_call(*args, **kwargs)\n           ^^^^^^^^^^^^^^^^^^^^^^^^^^^^^\n  File \"/Users/daniellerothermel/drotherm/repos/dr_gen/.venv/lib/python3.12/site-packages/torchvision/transforms/v2/_container.py\", line 51, in forward\n    outputs = transform(*inputs)\n              ^^^^^^^^^^^^^^^^^^\nTypeError: 'list' object is not callable\n",
     "output_type": "error",
     "traceback": [
      "\u001b[0;31m---------------------------------------------------------------------------\u001b[0m",
      "\u001b[0;31mTypeError\u001b[0m                                 Traceback (most recent call last)",
      "Cell \u001b[0;32mIn[62], line 1\u001b[0m\n\u001b[0;32m----> 1\u001b[0m train_features, train_labels \u001b[38;5;241m=\u001b[39m \u001b[38;5;28;43mnext\u001b[39;49m\u001b[43m(\u001b[49m\u001b[38;5;28;43miter\u001b[39;49m\u001b[43m(\u001b[49m\u001b[43mtrain_dl\u001b[49m\u001b[43m)\u001b[49m\u001b[43m)\u001b[49m\n\u001b[1;32m      2\u001b[0m \u001b[38;5;28mprint\u001b[39m(\u001b[38;5;124mf\u001b[39m\u001b[38;5;124m\"\u001b[39m\u001b[38;5;124mLabel: \u001b[39m\u001b[38;5;132;01m{\u001b[39;00mtrain_labels[\u001b[38;5;241m0\u001b[39m]\u001b[38;5;132;01m}\u001b[39;00m\u001b[38;5;124m, Batch Shape: \u001b[39m\u001b[38;5;132;01m{\u001b[39;00mtrain_features\u001b[38;5;241m.\u001b[39mshape\u001b[38;5;132;01m}\u001b[39;00m\u001b[38;5;124m\"\u001b[39m)\n\u001b[1;32m      3\u001b[0m vu\u001b[38;5;241m.\u001b[39mplot([train_features[\u001b[38;5;241m0\u001b[39m]\u001b[38;5;241m.\u001b[39msqueeze()])\n",
      "File \u001b[0;32m~/drotherm/repos/dr_gen/.venv/lib/python3.12/site-packages/torch/utils/data/dataloader.py:708\u001b[0m, in \u001b[0;36m_BaseDataLoaderIter.__next__\u001b[0;34m(self)\u001b[0m\n\u001b[1;32m    705\u001b[0m \u001b[38;5;28;01mif\u001b[39;00m \u001b[38;5;28mself\u001b[39m\u001b[38;5;241m.\u001b[39m_sampler_iter \u001b[38;5;129;01mis\u001b[39;00m \u001b[38;5;28;01mNone\u001b[39;00m:\n\u001b[1;32m    706\u001b[0m     \u001b[38;5;66;03m# TODO(https://github.com/pytorch/pytorch/issues/76750)\u001b[39;00m\n\u001b[1;32m    707\u001b[0m     \u001b[38;5;28mself\u001b[39m\u001b[38;5;241m.\u001b[39m_reset()  \u001b[38;5;66;03m# type: ignore[call-arg]\u001b[39;00m\n\u001b[0;32m--> 708\u001b[0m data \u001b[38;5;241m=\u001b[39m \u001b[38;5;28;43mself\u001b[39;49m\u001b[38;5;241;43m.\u001b[39;49m\u001b[43m_next_data\u001b[49m\u001b[43m(\u001b[49m\u001b[43m)\u001b[49m\n\u001b[1;32m    709\u001b[0m \u001b[38;5;28mself\u001b[39m\u001b[38;5;241m.\u001b[39m_num_yielded \u001b[38;5;241m+\u001b[39m\u001b[38;5;241m=\u001b[39m \u001b[38;5;241m1\u001b[39m\n\u001b[1;32m    710\u001b[0m \u001b[38;5;28;01mif\u001b[39;00m (\n\u001b[1;32m    711\u001b[0m     \u001b[38;5;28mself\u001b[39m\u001b[38;5;241m.\u001b[39m_dataset_kind \u001b[38;5;241m==\u001b[39m _DatasetKind\u001b[38;5;241m.\u001b[39mIterable\n\u001b[1;32m    712\u001b[0m     \u001b[38;5;129;01mand\u001b[39;00m \u001b[38;5;28mself\u001b[39m\u001b[38;5;241m.\u001b[39m_IterableDataset_len_called \u001b[38;5;129;01mis\u001b[39;00m \u001b[38;5;129;01mnot\u001b[39;00m \u001b[38;5;28;01mNone\u001b[39;00m\n\u001b[1;32m    713\u001b[0m     \u001b[38;5;129;01mand\u001b[39;00m \u001b[38;5;28mself\u001b[39m\u001b[38;5;241m.\u001b[39m_num_yielded \u001b[38;5;241m>\u001b[39m \u001b[38;5;28mself\u001b[39m\u001b[38;5;241m.\u001b[39m_IterableDataset_len_called\n\u001b[1;32m    714\u001b[0m ):\n",
      "File \u001b[0;32m~/drotherm/repos/dr_gen/.venv/lib/python3.12/site-packages/torch/utils/data/dataloader.py:1480\u001b[0m, in \u001b[0;36m_MultiProcessingDataLoaderIter._next_data\u001b[0;34m(self)\u001b[0m\n\u001b[1;32m   1478\u001b[0m \u001b[38;5;28;01mdel\u001b[39;00m \u001b[38;5;28mself\u001b[39m\u001b[38;5;241m.\u001b[39m_task_info[idx]\n\u001b[1;32m   1479\u001b[0m \u001b[38;5;28mself\u001b[39m\u001b[38;5;241m.\u001b[39m_rcvd_idx \u001b[38;5;241m+\u001b[39m\u001b[38;5;241m=\u001b[39m \u001b[38;5;241m1\u001b[39m\n\u001b[0;32m-> 1480\u001b[0m \u001b[38;5;28;01mreturn\u001b[39;00m \u001b[38;5;28;43mself\u001b[39;49m\u001b[38;5;241;43m.\u001b[39;49m\u001b[43m_process_data\u001b[49m\u001b[43m(\u001b[49m\u001b[43mdata\u001b[49m\u001b[43m)\u001b[49m\n",
      "File \u001b[0;32m~/drotherm/repos/dr_gen/.venv/lib/python3.12/site-packages/torch/utils/data/dataloader.py:1505\u001b[0m, in \u001b[0;36m_MultiProcessingDataLoaderIter._process_data\u001b[0;34m(self, data)\u001b[0m\n\u001b[1;32m   1503\u001b[0m \u001b[38;5;28mself\u001b[39m\u001b[38;5;241m.\u001b[39m_try_put_index()\n\u001b[1;32m   1504\u001b[0m \u001b[38;5;28;01mif\u001b[39;00m \u001b[38;5;28misinstance\u001b[39m(data, ExceptionWrapper):\n\u001b[0;32m-> 1505\u001b[0m     \u001b[43mdata\u001b[49m\u001b[38;5;241;43m.\u001b[39;49m\u001b[43mreraise\u001b[49m\u001b[43m(\u001b[49m\u001b[43m)\u001b[49m\n\u001b[1;32m   1506\u001b[0m \u001b[38;5;28;01mreturn\u001b[39;00m data\n",
      "File \u001b[0;32m~/drotherm/repos/dr_gen/.venv/lib/python3.12/site-packages/torch/_utils.py:733\u001b[0m, in \u001b[0;36mExceptionWrapper.reraise\u001b[0;34m(self)\u001b[0m\n\u001b[1;32m    729\u001b[0m \u001b[38;5;28;01mexcept\u001b[39;00m \u001b[38;5;167;01mTypeError\u001b[39;00m:\n\u001b[1;32m    730\u001b[0m     \u001b[38;5;66;03m# If the exception takes multiple arguments, don't try to\u001b[39;00m\n\u001b[1;32m    731\u001b[0m     \u001b[38;5;66;03m# instantiate since we don't know how to\u001b[39;00m\n\u001b[1;32m    732\u001b[0m     \u001b[38;5;28;01mraise\u001b[39;00m \u001b[38;5;167;01mRuntimeError\u001b[39;00m(msg) \u001b[38;5;28;01mfrom\u001b[39;00m\u001b[38;5;250m \u001b[39m\u001b[38;5;28;01mNone\u001b[39;00m\n\u001b[0;32m--> 733\u001b[0m \u001b[38;5;28;01mraise\u001b[39;00m exception\n",
      "\u001b[0;31mTypeError\u001b[0m: Caught TypeError in DataLoader worker process 0.\nOriginal Traceback (most recent call last):\n  File \"/Users/daniellerothermel/drotherm/repos/dr_gen/.venv/lib/python3.12/site-packages/torch/utils/data/_utils/worker.py\", line 349, in _worker_loop\n    data = fetcher.fetch(index)  # type: ignore[possibly-undefined]\n           ^^^^^^^^^^^^^^^^^^^^\n  File \"/Users/daniellerothermel/drotherm/repos/dr_gen/.venv/lib/python3.12/site-packages/torch/utils/data/_utils/fetch.py\", line 50, in fetch\n    data = self.dataset.__getitems__(possibly_batched_index)\n           ^^^^^^^^^^^^^^^^^^^^^^^^^^^^^^^^^^^^^^^^^^^^^^^^^\n  File \"/Users/daniellerothermel/drotherm/repos/dr_gen/.venv/lib/python3.12/site-packages/torch/utils/data/dataset.py\", line 420, in __getitems__\n    return [self.dataset[self.indices[idx]] for idx in indices]\n            ~~~~~~~~~~~~^^^^^^^^^^^^^^^^^^^\n  File \"/Users/daniellerothermel/drotherm/repos/dr_gen/.venv/lib/python3.12/site-packages/torchvision/datasets/cifar.py\", line 119, in __getitem__\n    img = self.transform(img)\n          ^^^^^^^^^^^^^^^^^^^\n  File \"/Users/daniellerothermel/drotherm/repos/dr_gen/.venv/lib/python3.12/site-packages/torch/nn/modules/module.py\", line 1739, in _wrapped_call_impl\n    return self._call_impl(*args, **kwargs)\n           ^^^^^^^^^^^^^^^^^^^^^^^^^^^^^^^^\n  File \"/Users/daniellerothermel/drotherm/repos/dr_gen/.venv/lib/python3.12/site-packages/torch/nn/modules/module.py\", line 1750, in _call_impl\n    return forward_call(*args, **kwargs)\n           ^^^^^^^^^^^^^^^^^^^^^^^^^^^^^\n  File \"/Users/daniellerothermel/drotherm/repos/dr_gen/.venv/lib/python3.12/site-packages/torchvision/transforms/v2/_container.py\", line 51, in forward\n    outputs = transform(*inputs)\n              ^^^^^^^^^^^^^^^^^^\nTypeError: 'list' object is not callable\n"
     ]
    }
   ],
   "source": [
    "train_features, train_labels = next(iter(train_dl))\n",
    "print(f\"Label: {train_labels[0]}, Batch Shape: {train_features.shape}\")\n",
    "vu.plot([train_features[0].squeeze()])"
   ]
  },
  {
   "cell_type": "code",
   "execution_count": null,
   "id": "9e79dfa2-6226-435f-a58e-e132a9787fa7",
   "metadata": {},
   "outputs": [],
   "source": []
  },
  {
   "cell_type": "code",
   "execution_count": null,
   "id": "b1d3fc5d-5c3f-4c23-bdb9-47818a31eb32",
   "metadata": {},
   "outputs": [],
   "source": [
    "train_features, train_labels = next(iter(val_dl))\n",
    "print(f\"Label: {train_labels[0]}, Batch Shape: {train_features.shape}\")\n",
    "vu.plot([train_features[0].squeeze()])"
   ]
  },
  {
   "cell_type": "code",
   "execution_count": null,
   "id": "235ccb24-f97d-453f-b47b-66bd9724e1d9",
   "metadata": {},
   "outputs": [],
   "source": []
  },
  {
   "cell_type": "code",
   "execution_count": 40,
   "id": "aa5ffce4-f506-407c-8973-f04c0f628eef",
   "metadata": {},
   "outputs": [
    {
     "name": "stdout",
     "output_type": "stream",
     "text": [
      "Label: 3, Batch Shape: torch.Size([5, 3, 32, 32])\n"
     ]
    },
    {
     "data": {
      "image/png": "[encoded data removed]",
      "text/plain": [
       "<Figure size 640x480 with 1 Axes>"
      ]
     },
     "metadata": {},
     "output_type": "display_data"
    }
   ],
   "source": [
    "eval_features, eval_labels = next(iter(cifar10_dl_eval))\n",
    "print(f\"Label: {eval_labels[0]}, Batch Shape: {eval_features.shape}\")\n",
    "vu.plot([eval_features[0].squeeze()])"
   ]
  },
  {
   "cell_type": "code",
   "execution_count": null,
   "id": "bcd5abc6-28ff-417e-94b6-8cca14f5c515",
   "metadata": {},
   "outputs": [],
   "source": []
  }
 ],
 "metadata": {
  "kernelspec": {
   "display_name": "Python 3 (ipykernel)",
   "language": "python",
   "name": "python3"
  },
  "language_info": {
   "codemirror_mode": {
    "name": "ipython",
    "version": 3
   },
   "file_extension": ".py",
   "mimetype": "text/x-python",
   "name": "python",
   "nbconvert_exporter": "python",
   "pygments_lexer": "ipython3",
   "version": "3.12.5"
  }
 },
 "nbformat": 4,
 "nbformat_minor": 5
}
