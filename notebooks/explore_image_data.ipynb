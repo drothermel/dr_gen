{
 "cells": [
  {
   "cell_type": "code",
   "execution_count": 6,
   "id": "5aab13b8-7b26-4c0e-ba3b-59d6985887b0",
   "metadata": {},
   "outputs": [
    {
     "name": "stdout",
     "output_type": "stream",
     "text": [
      "The autoreload extension is already loaded. To reload it, use:\n",
      "  %reload_ext autoreload\n"
     ]
    }
   ],
   "source": [
    "%matplotlib inline\n",
    "\n",
    "from hydra import initialize, compose\n",
    "\n",
    "import dr_gen.utils.run as ru\n",
    "import dr_gen.data.load_data as du\n",
    "import dr_gen.data.viz as vu\n",
    "import dr_gen.train.model as mu\n",
    "import dr_gen.train.loops as te\n",
    "\n",
    "%load_ext autoreload\n",
    "%autoreload 2"
   ]
  },
  {
   "cell_type": "markdown",
   "id": "f5858e6b-b7f4-41fb-8e84-0b658bd333de",
   "metadata": {},
   "source": [
    "### Setup Config & Helpers"
   ]
  },
  {
   "cell_type": "code",
   "execution_count": 3,
   "id": "7caa2be0-eab5-46f4-80f3-292345611b12",
   "metadata": {},
   "outputs": [],
   "source": [
    "with initialize(config_path=\"../configs/\", version_base=None):\n",
    "    cfg = compose(\n",
    "        config_name=\"config.yaml\",\n",
    "    )"
   ]
  },
  {
   "cell_type": "code",
   "execution_count": 4,
   "id": "4299b649-97bb-4588-997f-2450c9712899",
   "metadata": {},
   "outputs": [],
   "source": [
    "generator = ru.set_deterministic(cfg.seed)"
   ]
  },
  {
   "cell_type": "raw",
   "id": "09852c22-6556-4bfa-8028-25c759279ffd",
   "metadata": {},
   "source": [
    "print(OmegaConf.to_yaml(OmegaConf.to_container(cfg, resolve=True)))"
   ]
  },
  {
   "cell_type": "markdown",
   "id": "b34c3057-07bf-41f5-b8be-4facff994054",
   "metadata": {},
   "source": [
    "### Test Model Init"
   ]
  },
  {
   "cell_type": "markdown",
   "id": "7fe2a4cf-297b-4c36-bbc7-c5ecaaaa131c",
   "metadata": {},
   "source": [
    "#### Test Model Initialization"
   ]
  },
  {
   "cell_type": "raw",
   "id": "57995400-921b-4950-97ce-7245a0ddba2b",
   "metadata": {},
   "source": [
    "def compare_models(model1, model2):\n",
    "    \"\"\"Compares whether two PyTorch models have the same weights and biases.\"\"\"\n",
    "    for (param1, param2) in zip(model1.parameters(), model2.parameters()):\n",
    "        if not torch.equal(param1, param2):\n",
    "            return False\n",
    "    return True"
   ]
  },
  {
   "cell_type": "raw",
   "id": "4eb85bfc-294f-487f-98bb-b2631c69e100",
   "metadata": {},
   "source": [
    "split_dls = du.get_dataloaders(cfg, generator)"
   ]
  },
  {
   "cell_type": "raw",
   "id": "4273aae1-3938-46bf-89e1-c1096e8b17ce",
   "metadata": {},
   "source": [
    "num_classes = len(split_dls['train'].dataset.classes)\n",
    "print(f\">> CIFAR 10 has {num_classes} classes, as expected\")"
   ]
  },
  {
   "cell_type": "raw",
   "id": "22c96bb9-b253-4c77-bbce-9586dd63f007",
   "metadata": {},
   "source": [
    "# Verify that two random inits are different\n",
    "random_model_one = mu.create_model(cfg, num_classes)\n",
    "random_model_two = mu.create_model(cfg, num_classes)\n",
    "print(f\">> Model one is equivalent to itself: {compare_models(random_model_one, random_model_one)}\")\n",
    "print(f\">> But are model one and two equiv: {compare_models(random_model_one, random_model_two)}\")"
   ]
  },
  {
   "cell_type": "markdown",
   "id": "247e1340-79e5-4904-80f1-b404fb25a3e4",
   "metadata": {},
   "source": [
    "#### Test Model Eval and Checkpoint"
   ]
  },
  {
   "cell_type": "code",
   "execution_count": 4,
   "id": "93bbda55-67c6-442f-8160-e9b632e4b019",
   "metadata": {},
   "outputs": [],
   "source": [
    "split_dls = du.get_dataloaders(cfg, generator)"
   ]
  },
  {
   "cell_type": "code",
   "execution_count": 5,
   "id": "c30b29bd-a5c3-4efa-ba14-7d2ea8c06720",
   "metadata": {},
   "outputs": [
    {
     "name": "stdout",
     "output_type": "stream",
     "text": [
      ">> CIFAR 10 has 10 classes, as expected\n"
     ]
    }
   ],
   "source": [
    "num_classes = len(split_dls[\"train\"].dataset.classes)\n",
    "print(f\">> CIFAR 10 has {num_classes} classes, as expected\")"
   ]
  },
  {
   "cell_type": "markdown",
   "id": "fdbc076b-9f27-47b4-8505-6a1eca7a320d",
   "metadata": {},
   "source": [
    "**Verify that creating two models and evaling them gives the same result after restarting:**"
   ]
  },
  {
   "cell_type": "code",
   "execution_count": 6,
   "id": "ca493d4d-94dc-4772-a464-b2e5edf06fda",
   "metadata": {},
   "outputs": [
    {
     "name": "stdout",
     "output_type": "stream",
     "text": [
      ">> Model: resnet18 Weights: None, Criterion: CrossEntropyLoss()\n"
     ]
    }
   ],
   "source": [
    "model_one = mu.create_model(cfg, num_classes)\n",
    "criterion = te.get_criterion(cfg)\n",
    "print(\n",
    "    f\">> Model: {cfg.model.name} Weights: {cfg.model.weights}, Criterion: {criterion}\"\n",
    ")"
   ]
  },
  {
   "cell_type": "code",
   "execution_count": 7,
   "id": "44cee07b-0cbd-48ae-b79b-6b9b23fc3de9",
   "metadata": {},
   "outputs": [
    {
     "name": "stdout",
     "output_type": "stream",
     "text": [
      ">> 10000| loss=tensor(2.3352)\n"
     ]
    }
   ],
   "source": [
    "val_model_one = te.eval_model(cfg, model_one, split_dls[\"val\"], criterion)"
   ]
  },
  {
   "cell_type": "code",
   "execution_count": 8,
   "id": "014a9657-3441-40a5-af0e-83715d448509",
   "metadata": {},
   "outputs": [
    {
     "name": "stdout",
     "output_type": "stream",
     "text": [
      ">> 10000| loss=tensor(2.3209)\n"
     ]
    }
   ],
   "source": [
    "model_two = mu.create_model(cfg, num_classes)\n",
    "val_model_two = te.eval_model(cfg, model_two, split_dls[\"val\"], criterion)"
   ]
  },
  {
   "cell_type": "markdown",
   "id": "dfe32a67-d935-45b6-b925-bae5fc13b0b4",
   "metadata": {},
   "source": [
    "**Verify that checkpointing, and then loading gives the expected val for both:**"
   ]
  },
  {
   "cell_type": "code",
   "execution_count": 9,
   "id": "eb9ba8a0-01c0-4cec-b958-65b3c80a566e",
   "metadata": {},
   "outputs": [
    {
     "name": "stdout",
     "output_type": "stream",
     "text": [
      ">> Saved checkpoint to: /Users/daniellerothermel/drotherm/logs/dr_gen/2025-02-11/16-24-16/checkpoints/init_model_s202_val_2.3352.pt\n",
      ">> Saved checkpoint to: /Users/daniellerothermel/drotherm/logs/dr_gen/2025-02-11/16-24-16/checkpoints/init_model_s202_val_2.3209.pt\n"
     ]
    }
   ],
   "source": [
    "mu.checkpoint_model(cfg, model_one, \"init_model_s202_val_2.3352\")\n",
    "mu.checkpoint_model(cfg, model_two, \"init_model_s202_val_2.3209\")"
   ]
  },
  {
   "cell_type": "code",
   "execution_count": 10,
   "id": "9871dd5b-6c2d-4b7a-b9d3-aeb16e69ecbd",
   "metadata": {},
   "outputs": [
    {
     "name": "stdout",
     "output_type": "stream",
     "text": [
      ">> Loading checkpoint: /Users/daniellerothermel/drotherm/logs/dr_gen/2025-02-11/16-12-09/checkpoints/init_model_s202_val_2.3352.pt\n",
      ">> 10000| loss=tensor(2.3352)\n"
     ]
    }
   ],
   "source": [
    "cfg.model.load_checkpoint = \"/Users/daniellerothermel/drotherm/logs/dr_gen/2025-02-11/16-12-09/checkpoints/init_model_s202_val_2.3352.pt\"\n",
    "model_cpt1 = mu.create_model(cfg, num_classes)\n",
    "val_model_cpt1 = te.eval_model(cfg, model_cpt1, split_dls[\"val\"], criterion)"
   ]
  },
  {
   "cell_type": "code",
   "execution_count": 11,
   "id": "0c24f561-abbe-453b-b9b3-1c0e99702704",
   "metadata": {},
   "outputs": [
    {
     "name": "stdout",
     "output_type": "stream",
     "text": [
      ">> Loading checkpoint: /Users/daniellerothermel/drotherm/logs/dr_gen/2025-02-11/16-12-09/checkpoints/init_model_s202_val_2.3209.pt\n",
      ">> 10000| loss=tensor(2.3209)\n"
     ]
    }
   ],
   "source": [
    "cfg.model.load_checkpoint = \"/Users/daniellerothermel/drotherm/logs/dr_gen/2025-02-11/16-12-09/checkpoints/init_model_s202_val_2.3209.pt\"\n",
    "model_cpt2 = mu.create_model(cfg, num_classes)\n",
    "val_model_cpt2 = te.eval_model(cfg, model_cpt2, split_dls[\"val\"], criterion)"
   ]
  },
  {
   "cell_type": "code",
   "execution_count": null,
   "id": "39fc4866-9243-43ca-becf-49049509d6b7",
   "metadata": {},
   "outputs": [],
   "source": []
  },
  {
   "cell_type": "markdown",
   "id": "d886b0a1-320d-4129-9642-aebc092500ad",
   "metadata": {},
   "source": [
    "### Test out Dataloader"
   ]
  },
  {
   "cell_type": "code",
   "execution_count": 12,
   "id": "52ea73cd-537d-47b2-bff2-bfe1d997c54f",
   "metadata": {},
   "outputs": [],
   "source": [
    "split_dls = du.get_dataloaders(cfg, generator)"
   ]
  },
  {
   "cell_type": "code",
   "execution_count": 13,
   "id": "b4bae816-6054-40b7-82e8-bde56836f81f",
   "metadata": {},
   "outputs": [
    {
     "name": "stdout",
     "output_type": "stream",
     "text": [
      "Label: 6, Batch Shape: torch.Size([100, 3, 32, 32]), Total DS Len: 50000\n"
     ]
    },
    {
     "data": {
      "image/png": "[encoded data removed]",
      "text/plain": [
       "<Figure size 640x480 with 1 Axes>"
      ]
     },
     "metadata": {},
     "output_type": "display_data"
    }
   ],
   "source": [
    "vu.plot_first_from_dl(split_dls[\"train\"])"
   ]
  },
  {
   "cell_type": "code",
   "execution_count": 14,
   "id": "570d0519-9cd0-4bbb-a38e-dda73de4c7af",
   "metadata": {},
   "outputs": [
    {
     "name": "stdout",
     "output_type": "stream",
     "text": [
      "Label: 9, Batch Shape: torch.Size([10000, 3, 32, 32]), Total DS Len: 10000\n"
     ]
    },
    {
     "data": {
      "image/png": "[encoded data removed]",
      "text/plain": [
       "<Figure size 640x480 with 1 Axes>"
      ]
     },
     "metadata": {},
     "output_type": "display_data"
    }
   ],
   "source": [
    "vu.plot_first_from_dl(split_dls[\"val\"])"
   ]
  },
  {
   "cell_type": "code",
   "execution_count": 15,
   "id": "818d6332-935b-4342-b594-cac3f86d3035",
   "metadata": {},
   "outputs": [
    {
     "name": "stdout",
     "output_type": "stream",
     "text": [
      "Label: 2, Batch Shape: torch.Size([10000, 3, 32, 32]), Total DS Len: 10000\n"
     ]
    },
    {
     "data": {
      "image/png": "[encoded data removed]",
      "text/plain": [
       "<Figure size 640x480 with 1 Axes>"
      ]
     },
     "metadata": {},
     "output_type": "display_data"
    }
   ],
   "source": [
    "vu.plot_first_from_dl(split_dls[\"eval\"])"
   ]
  },
  {
   "cell_type": "code",
   "execution_count": null,
   "id": "e1b3e95a-b90b-4f02-a471-2f9ee0518865",
   "metadata": {},
   "outputs": [],
   "source": []
  },
  {
   "cell_type": "code",
   "execution_count": null,
   "id": "9d4948fb-58e8-4825-a6e4-be1bd39df9e7",
   "metadata": {},
   "outputs": [],
   "source": []
  },
  {
   "cell_type": "code",
   "execution_count": null,
   "id": "192a3b59-1b68-495f-8def-25cc5041333a",
   "metadata": {},
   "outputs": [],
   "source": []
  }
 ],
 "metadata": {
  "kernelspec": {
   "display_name": "Python 3 (ipykernel)",
   "language": "python",
   "name": "python3"
  },
  "language_info": {
   "codemirror_mode": {
    "name": "ipython",
    "version": 3
   },
   "file_extension": ".py",
   "mimetype": "text/x-python",
   "name": "python",
   "nbconvert_exporter": "python",
   "pygments_lexer": "ipython3",
   "version": "3.12.5"
  }
 },
 "nbformat": 4,
 "nbformat_minor": 5
}
