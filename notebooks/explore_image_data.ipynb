{
 "cells": [
  {
   "cell_type": "code",
   "execution_count": 1,
   "id": "5aab13b8-7b26-4c0e-ba3b-59d6985887b0",
   "metadata": {},
   "outputs": [],
   "source": [
    "import torch\n",
    "import matplotlib.pyplot as plt\n",
    "%matplotlib inline\n",
    "\n",
    "from torchvision.transforms import v2\n",
    "from torchvision.io import decode_image\n",
    "\n",
    "import hydra\n",
    "from omegaconf import DictConfig, OmegaConf\n",
    "from hydra import initialize, compose\n",
    "\n",
    "import dr_gen.utils.data as du\n",
    "\n",
    "%load_ext autoreload\n",
    "%autoreload 2"
   ]
  },
  {
   "cell_type": "markdown",
   "id": "f5858e6b-b7f4-41fb-8e84-0b658bd333de",
   "metadata": {
    "jp-MarkdownHeadingCollapsed": true
   },
   "source": [
    "### Setup Config & Helpers"
   ]
  },
  {
   "cell_type": "code",
   "execution_count": 2,
   "id": "92716248-ed34-4745-a568-05b2870e2ffc",
   "metadata": {},
   "outputs": [],
   "source": [
    "root_path = \"/Users/daniellerothermel/drotherm\"\n",
    "repo_path = f\"{root_path}/repos/dr_gen/\""
   ]
  },
  {
   "cell_type": "code",
   "execution_count": 3,
   "id": "7caa2be0-eab5-46f4-80f3-292345611b12",
   "metadata": {},
   "outputs": [],
   "source": [
    "with initialize(config_path=f\"../scripts/conf/\", version_base=None):\n",
    "    cfg = compose(\n",
    "        config_name=\"config.yaml\",\n",
    "        overrides=[\n",
    "            f\"paths.root={root_path}\",\n",
    "            f\"data.num_workers=4\",\n",
    "        ],\n",
    "    )"
   ]
  },
  {
   "cell_type": "code",
   "execution_count": 4,
   "id": "33a92223-8e18-4c68-af55-04247bb2c263",
   "metadata": {},
   "outputs": [
    {
     "name": "stdout",
     "output_type": "stream",
     "text": [
      "paths:\n",
      "  root: /Users/daniellerothermel/drotherm\n",
      "  data: /Users/daniellerothermel/drotherm/data/dr_gen\n",
      "  logs: /Users/daniellerothermel/drotherm/logs/dr_gen\n",
      "  dataset_cache_root: /Users/daniellerothermel/drotherm/data/dr_gen/cifar10/\n",
      "data:\n",
      "  name: cifar10\n",
      "  num_workers: 4\n",
      "  cache_dataset: true\n",
      "  download: true\n",
      "\n"
     ]
    }
   ],
   "source": [
    "print(OmegaConf.to_yaml(OmegaConf.to_container(cfg, resolve=True)))"
   ]
  },
  {
   "cell_type": "code",
   "execution_count": 5,
   "id": "c167ade9-91c1-4451-8d1e-81ebde11ac91",
   "metadata": {},
   "outputs": [
    {
     "data": {
      "text/plain": [
       "<torch._C.Generator at 0x116e5d1f0>"
      ]
     },
     "execution_count": 5,
     "metadata": {},
     "output_type": "execute_result"
    }
   ],
   "source": [
    "torch.manual_seed(1)"
   ]
  },
  {
   "cell_type": "code",
   "execution_count": 27,
   "id": "d092d836-b395-466f-8bd8-3fd28a1ce3dc",
   "metadata": {},
   "outputs": [],
   "source": [
    "# Copy helper from https://github.com/pytorch/vision/blob/main/gallery/transforms/helpers.py\n",
    "from torchvision.utils import draw_bounding_boxes, draw_segmentation_masks\n",
    "from torchvision import tv_tensors\n",
    "from torchvision.transforms.v2 import functional as F\n",
    "\n",
    "\n",
    "def plot(imgs, row_title=None, **imshow_kwargs):\n",
    "    if not isinstance(imgs[0], list):\n",
    "        # Make a 2d grid even if there's just 1 row\n",
    "        imgs = [imgs]\n",
    "\n",
    "    num_rows = len(imgs)\n",
    "    num_cols = len(imgs[0])\n",
    "    _, axs = plt.subplots(nrows=num_rows, ncols=num_cols, squeeze=False)\n",
    "    for row_idx, row in enumerate(imgs):\n",
    "        for col_idx, img in enumerate(row):\n",
    "            boxes = None\n",
    "            masks = None\n",
    "            if isinstance(img, tuple):\n",
    "                img, target = img\n",
    "                if isinstance(target, dict):\n",
    "                    boxes = target.get(\"boxes\")\n",
    "                    masks = target.get(\"masks\")\n",
    "                elif isinstance(target, tv_tensors.BoundingBoxes):\n",
    "                    boxes = target\n",
    "                else:\n",
    "                    raise ValueError(f\"Unexpected target type: {type(target)}\")\n",
    "            img = F.to_image(img)\n",
    "            if img.dtype.is_floating_point and img.min() < 0:\n",
    "                # Poor man's re-normalization for the colors to be OK-ish. This\n",
    "                # is useful for images coming out of Normalize()\n",
    "                img -= img.min()\n",
    "                img /= img.max()\n",
    "\n",
    "            img = F.to_dtype(img, torch.uint8, scale=True)\n",
    "            if boxes is not None:\n",
    "                img = draw_bounding_boxes(img, boxes, colors=\"yellow\", width=3)\n",
    "            if masks is not None:\n",
    "                img = draw_segmentation_masks(img, masks.to(torch.bool), colors=[\"green\"] * masks.shape[0], alpha=.65)\n",
    "\n",
    "            ax = axs[row_idx, col_idx]\n",
    "            ax.imshow(img.permute(1, 2, 0).numpy(), **imshow_kwargs)\n",
    "            ax.set(xticklabels=[], yticklabels=[], xticks=[], yticks=[])\n",
    "\n",
    "    if row_title is not None:\n",
    "        for row_idx in range(num_rows):\n",
    "            axs[row_idx, 0].set(ylabel=row_title[row_idx])\n",
    "\n",
    "    plt.tight_layout()"
   ]
  },
  {
   "cell_type": "code",
   "execution_count": null,
   "id": "cfdbda2a-5cd0-4bf6-8217-097b23662a68",
   "metadata": {},
   "outputs": [],
   "source": []
  },
  {
   "cell_type": "code",
   "execution_count": null,
   "id": "d7b91c04-602a-4667-8024-3ac608c3e13a",
   "metadata": {},
   "outputs": [],
   "source": []
  },
  {
   "cell_type": "markdown",
   "id": "cbdcc177-093b-4dcc-a19f-44d7ac83430e",
   "metadata": {},
   "source": [
    "### Test Out Dataloading"
   ]
  },
  {
   "cell_type": "markdown",
   "id": "a8a7a937-ea5a-4823-bf16-e1c827cdd003",
   "metadata": {},
   "source": [
    "#### PIL images"
   ]
  },
  {
   "cell_type": "code",
   "execution_count": 28,
   "id": "483c528f-e470-401d-b13c-e46958cc90d1",
   "metadata": {},
   "outputs": [
    {
     "data": {
      "text/plain": [
       "Dataset CIFAR10\n",
       "    Number of datapoints: 50000\n",
       "    Root location: /Users/daniellerothermel/drotherm/data/dr_gen/cifar10/\n",
       "    Split: Train"
      ]
     },
     "execution_count": 28,
     "metadata": {},
     "output_type": "execute_result"
    }
   ],
   "source": [
    "# Test loading dataset with PIL images\n",
    "cifar10_train_pil = du.get_dataset(\n",
    "    cfg.data, cfg.paths, train=True, as_pil=True,\n",
    ")\n",
    "cifar10_train_pil"
   ]
  },
  {
   "cell_type": "code",
   "execution_count": 29,
   "id": "abdd9ab6-ed1a-411b-bbea-98543efec828",
   "metadata": {},
   "outputs": [
    {
     "data": {
      "text/plain": [
       "(<PIL.Image.Image image mode=RGB size=32x32>, 6)"
      ]
     },
     "execution_count": 29,
     "metadata": {},
     "output_type": "execute_result"
    }
   ],
   "source": [
    "sample_pil = cifar10_train_pil[0]\n",
    "sample_pil"
   ]
  },
  {
   "cell_type": "code",
   "execution_count": 34,
   "id": "886b2956-f452-4ea0-a217-7f0d678df9e8",
   "metadata": {},
   "outputs": [
    {
     "name": "stdout",
     "output_type": "stream",
     "text": [
      "type(sample_pil[0]) = <class 'PIL.Image.Image'>\n"
     ]
    }
   ],
   "source": [
    "print(f\"{type(sample_pil[0]) = }\")"
   ]
  },
  {
   "cell_type": "code",
   "execution_count": 35,
   "id": "279cc8b7-21b3-45e1-852c-9797125b165a",
   "metadata": {},
   "outputs": [
    {
     "data": {
      "image/png": "[encoded data removed]",
      "text/plain": [
       "<Figure size 640x480 with 1 Axes>"
      ]
     },
     "metadata": {},
     "output_type": "display_data"
    }
   ],
   "source": [
    "plt.imshow(sample_pil[0])\n",
    "plt.axis(\"off\")\n",
    "plt.show()"
   ]
  },
  {
   "cell_type": "code",
   "execution_count": null,
   "id": "784acea9-ea85-4484-ae2c-239283168614",
   "metadata": {},
   "outputs": [],
   "source": []
  },
  {
   "cell_type": "markdown",
   "id": "e5373885-b25a-412e-acb6-c15faee51b74",
   "metadata": {},
   "source": [
    "#### TV Tensor Images"
   ]
  },
  {
   "cell_type": "code",
   "execution_count": 30,
   "id": "10d1fe6c-a897-4990-a9b9-a9ee8b99d88d",
   "metadata": {},
   "outputs": [
    {
     "data": {
      "text/plain": [
       "Dataset CIFAR10\n",
       "    Number of datapoints: 50000\n",
       "    Root location: /Users/daniellerothermel/drotherm/data/dr_gen/cifar10/\n",
       "    Split: Train\n",
       "    StandardTransform\n",
       "Transform: Compose(\n",
       "                 ToImage()\n",
       "                 ToDtype(scale=True)\n",
       "           )"
      ]
     },
     "execution_count": 30,
     "metadata": {},
     "output_type": "execute_result"
    }
   ],
   "source": [
    "# Test loading dataset with tensors\n",
    "cifar10_train_tvt = du.get_dataset(\n",
    "    cfg.data, cfg.paths, train=True, as_pil=False,\n",
    ")\n",
    "cifar10_train_tvt"
   ]
  },
  {
   "cell_type": "code",
   "execution_count": 31,
   "id": "4107db1c-3c7d-4db6-8f51-da2e884870a3",
   "metadata": {},
   "outputs": [
    {
     "data": {
      "text/plain": [
       "(Image([[[0.2314, 0.1686, 0.1961,  ..., 0.6196, 0.5961, 0.5804],\n",
       "         [0.0627, 0.0000, 0.0706,  ..., 0.4824, 0.4667, 0.4784],\n",
       "         [0.0980, 0.0627, 0.1922,  ..., 0.4627, 0.4706, 0.4275],\n",
       "         ...,\n",
       "         [0.8157, 0.7882, 0.7765,  ..., 0.6275, 0.2196, 0.2078],\n",
       "         [0.7059, 0.6784, 0.7294,  ..., 0.7216, 0.3804, 0.3255],\n",
       "         [0.6941, 0.6588, 0.7020,  ..., 0.8471, 0.5922, 0.4824]],\n",
       " \n",
       "        [[0.2431, 0.1804, 0.1882,  ..., 0.5176, 0.4902, 0.4863],\n",
       "         [0.0784, 0.0000, 0.0314,  ..., 0.3451, 0.3255, 0.3412],\n",
       "         [0.0941, 0.0275, 0.1059,  ..., 0.3294, 0.3294, 0.2863],\n",
       "         ...,\n",
       "         [0.6667, 0.6000, 0.6314,  ..., 0.5216, 0.1216, 0.1333],\n",
       "         [0.5451, 0.4824, 0.5647,  ..., 0.5804, 0.2431, 0.2078],\n",
       "         [0.5647, 0.5059, 0.5569,  ..., 0.7216, 0.4627, 0.3608]],\n",
       " \n",
       "        [[0.2471, 0.1765, 0.1686,  ..., 0.4235, 0.4000, 0.4039],\n",
       "         [0.0784, 0.0000, 0.0000,  ..., 0.2157, 0.1961, 0.2235],\n",
       "         [0.0824, 0.0000, 0.0314,  ..., 0.1961, 0.1961, 0.1647],\n",
       "         ...,\n",
       "         [0.3765, 0.1333, 0.1020,  ..., 0.2745, 0.0275, 0.0784],\n",
       "         [0.3765, 0.1647, 0.1176,  ..., 0.3686, 0.1333, 0.1333],\n",
       "         [0.4549, 0.3686, 0.3412,  ..., 0.5490, 0.3294, 0.2824]]], ),\n",
       " 6)"
      ]
     },
     "execution_count": 31,
     "metadata": {},
     "output_type": "execute_result"
    }
   ],
   "source": [
    "sample_tvt = cifar10_train_tvt[0]\n",
    "sample_tvt"
   ]
  },
  {
   "cell_type": "code",
   "execution_count": 36,
   "id": "ed3f16e8-38f3-4c5e-a2dd-9fdc0d1d3dd1",
   "metadata": {},
   "outputs": [
    {
     "data": {
      "image/png": "[encoded data removed]",
      "text/plain": [
       "<Figure size 640x480 with 1 Axes>"
      ]
     },
     "metadata": {},
     "output_type": "display_data"
    }
   ],
   "source": [
    "plot([sample_tvt[0]])"
   ]
  },
  {
   "cell_type": "code",
   "execution_count": null,
   "id": "bcb7fe4c-989d-4609-be8f-918f6fb9b199",
   "metadata": {},
   "outputs": [],
   "source": []
  },
  {
   "cell_type": "markdown",
   "id": "d886b0a1-320d-4129-9642-aebc092500ad",
   "metadata": {},
   "source": [
    "### TBD"
   ]
  },
  {
   "cell_type": "code",
   "execution_count": null,
   "id": "677a79f5-c31a-4da6-b0a3-5488045e5c10",
   "metadata": {},
   "outputs": [],
   "source": []
  },
  {
   "cell_type": "code",
   "execution_count": null,
   "id": "aa5ffce4-f506-407c-8973-f04c0f628eef",
   "metadata": {},
   "outputs": [],
   "source": []
  }
 ],
 "metadata": {
  "kernelspec": {
   "display_name": "Python 3 (ipykernel)",
   "language": "python",
   "name": "python3"
  },
  "language_info": {
   "codemirror_mode": {
    "name": "ipython",
    "version": 3
   },
   "file_extension": ".py",
   "mimetype": "text/x-python",
   "name": "python",
   "nbconvert_exporter": "python",
   "pygments_lexer": "ipython3",
   "version": "3.12.8"
  }
 },
 "nbformat": 4,
 "nbformat_minor": 5
}
