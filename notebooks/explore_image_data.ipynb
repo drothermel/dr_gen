{
 "cells": [
  {
   "cell_type": "code",
   "execution_count": 1,
   "id": "5aab13b8-7b26-4c0e-ba3b-59d6985887b0",
   "metadata": {},
   "outputs": [],
   "source": [
    "import random\n",
    "import numpy as np\n",
    "\n",
    "import torch\n",
    "import matplotlib.pyplot as plt\n",
    "%matplotlib inline\n",
    "\n",
    "from torchvision.transforms import v2 as transforms_v2\n",
    "from torchvision.io import decode_image\n",
    "\n",
    "import hydra\n",
    "from omegaconf import DictConfig, OmegaConf\n",
    "from hydra import initialize, compose\n",
    "\n",
    "import dr_gen.utils.data as du\n",
    "\n",
    "%load_ext autoreload\n",
    "%autoreload 2"
   ]
  },
  {
   "cell_type": "markdown",
   "id": "f5858e6b-b7f4-41fb-8e84-0b658bd333de",
   "metadata": {},
   "source": [
    "### Setup Config & Helpers"
   ]
  },
  {
   "cell_type": "code",
   "execution_count": 2,
   "id": "92716248-ed34-4745-a568-05b2870e2ffc",
   "metadata": {},
   "outputs": [],
   "source": [
    "root_path = \"/Users/daniellerothermel/drotherm\"\n",
    "repo_path = f\"{root_path}/repos/dr_gen/\""
   ]
  },
  {
   "cell_type": "code",
   "execution_count": 3,
   "id": "7caa2be0-eab5-46f4-80f3-292345611b12",
   "metadata": {},
   "outputs": [],
   "source": [
    "with initialize(config_path=f\"../scripts/conf/\", version_base=None):\n",
    "    cfg = compose(\n",
    "        config_name=\"config.yaml\",\n",
    "        overrides=[\n",
    "            f\"paths.root={root_path}\",\n",
    "            f\"data.num_workers=4\",\n",
    "        ],\n",
    "    )"
   ]
  },
  {
   "cell_type": "code",
   "execution_count": 4,
   "id": "33a92223-8e18-4c68-af55-04247bb2c263",
   "metadata": {},
   "outputs": [
    {
     "name": "stdout",
     "output_type": "stream",
     "text": [
      "paths:\n",
      "  root: /Users/daniellerothermel/drotherm\n",
      "  data: /Users/daniellerothermel/drotherm/data/dr_gen\n",
      "  logs: /Users/daniellerothermel/drotherm/logs/dr_gen\n",
      "  dataset_cache_root: /Users/daniellerothermel/drotherm/data/dr_gen/cifar10/\n",
      "data:\n",
      "  name: cifar10\n",
      "  num_workers: 4\n",
      "  cache_dataset: true\n",
      "  download: true\n",
      "\n"
     ]
    }
   ],
   "source": [
    "print(OmegaConf.to_yaml(OmegaConf.to_container(cfg, resolve=True)))"
   ]
  },
  {
   "cell_type": "code",
   "execution_count": 5,
   "id": "c167ade9-91c1-4451-8d1e-81ebde11ac91",
   "metadata": {},
   "outputs": [
    {
     "data": {
      "text/plain": [
       "<torch._C.Generator at 0x127ac6df0>"
      ]
     },
     "execution_count": 5,
     "metadata": {},
     "output_type": "execute_result"
    }
   ],
   "source": [
    "# Following Guide for Determinism: https://pytorch.org/docs/stable/notes/randomness.html\n",
    "run_seed = 100\n",
    "torch.manual_seed(run_seed)\n",
    "random.seed(run_seed)\n",
    "np.random.seed(run_seed)\n",
    "torch.use_deterministic_algorithms(True)\n",
    "\n",
    "def seed_worker(worker_id):\n",
    "    worker_seed = torch.initial_seed() % 2**32\n",
    "    numpy.random.seed(worker_seed)\n",
    "    random.seed(worker_seed)\n",
    "    \n",
    "g = torch.Generator()\n",
    "g.manual_seed(run_seed)"
   ]
  },
  {
   "cell_type": "code",
   "execution_count": 6,
   "id": "d092d836-b395-466f-8bd8-3fd28a1ce3dc",
   "metadata": {},
   "outputs": [],
   "source": [
    "# Copy helper from https://github.com/pytorch/vision/blob/main/gallery/transforms/helpers.py\n",
    "from torchvision.utils import draw_bounding_boxes, draw_segmentation_masks\n",
    "from torchvision import tv_tensors\n",
    "from torchvision.transforms.v2 import functional as F\n",
    "\n",
    "\n",
    "def plot(imgs, row_title=None, **imshow_kwargs):\n",
    "    if not isinstance(imgs[0], list):\n",
    "        # Make a 2d grid even if there's just 1 row\n",
    "        imgs = [imgs]\n",
    "\n",
    "    num_rows = len(imgs)\n",
    "    num_cols = len(imgs[0])\n",
    "    _, axs = plt.subplots(nrows=num_rows, ncols=num_cols, squeeze=False)\n",
    "    for row_idx, row in enumerate(imgs):\n",
    "        for col_idx, img in enumerate(row):\n",
    "            boxes = None\n",
    "            masks = None\n",
    "            if isinstance(img, tuple):\n",
    "                img, target = img\n",
    "                if isinstance(target, dict):\n",
    "                    boxes = target.get(\"boxes\")\n",
    "                    masks = target.get(\"masks\")\n",
    "                elif isinstance(target, tv_tensors.BoundingBoxes):\n",
    "                    boxes = target\n",
    "                else:\n",
    "                    raise ValueError(f\"Unexpected target type: {type(target)}\")\n",
    "            img = F.to_image(img)\n",
    "            if img.dtype.is_floating_point and img.min() < 0:\n",
    "                # Poor man's re-normalization for the colors to be OK-ish. This\n",
    "                # is useful for images coming out of Normalize()\n",
    "                img -= img.min()\n",
    "                img /= img.max()\n",
    "\n",
    "            img = F.to_dtype(img, torch.uint8, scale=True)\n",
    "            if boxes is not None:\n",
    "                img = draw_bounding_boxes(img, boxes, colors=\"yellow\", width=3)\n",
    "            if masks is not None:\n",
    "                img = draw_segmentation_masks(img, masks.to(torch.bool), colors=[\"green\"] * masks.shape[0], alpha=.65)\n",
    "\n",
    "            ax = axs[row_idx, col_idx]\n",
    "            ax.imshow(img.permute(1, 2, 0).numpy(), **imshow_kwargs)\n",
    "            ax.set(xticklabels=[], yticklabels=[], xticks=[], yticks=[])\n",
    "\n",
    "    if row_title is not None:\n",
    "        for row_idx in range(num_rows):\n",
    "            axs[row_idx, 0].set(ylabel=row_title[row_idx])\n",
    "\n",
    "    plt.tight_layout()"
   ]
  },
  {
   "cell_type": "code",
   "execution_count": null,
   "id": "cfdbda2a-5cd0-4bf6-8217-097b23662a68",
   "metadata": {},
   "outputs": [],
   "source": []
  },
  {
   "cell_type": "code",
   "execution_count": null,
   "id": "d7b91c04-602a-4667-8024-3ac608c3e13a",
   "metadata": {},
   "outputs": [],
   "source": []
  },
  {
   "cell_type": "markdown",
   "id": "cbdcc177-093b-4dcc-a19f-44d7ac83430e",
   "metadata": {
    "jp-MarkdownHeadingCollapsed": true
   },
   "source": [
    "### Test Out Dataloading"
   ]
  },
  {
   "cell_type": "markdown",
   "id": "a8a7a937-ea5a-4823-bf16-e1c827cdd003",
   "metadata": {
    "jp-MarkdownHeadingCollapsed": true
   },
   "source": [
    "#### PIL images"
   ]
  },
  {
   "cell_type": "code",
   "execution_count": 28,
   "id": "483c528f-e470-401d-b13c-e46958cc90d1",
   "metadata": {},
   "outputs": [
    {
     "data": {
      "text/plain": [
       "Dataset CIFAR10\n",
       "    Number of datapoints: 50000\n",
       "    Root location: /Users/daniellerothermel/drotherm/data/dr_gen/cifar10/\n",
       "    Split: Train"
      ]
     },
     "execution_count": 28,
     "metadata": {},
     "output_type": "execute_result"
    }
   ],
   "source": [
    "# Test loading dataset with PIL images\n",
    "cifar10_train_pil = du.get_dataset(\n",
    "    cfg.data, cfg.paths, train=True, as_pil=True,\n",
    ")\n",
    "cifar10_train_pil"
   ]
  },
  {
   "cell_type": "code",
   "execution_count": 29,
   "id": "abdd9ab6-ed1a-411b-bbea-98543efec828",
   "metadata": {},
   "outputs": [
    {
     "data": {
      "text/plain": [
       "(<PIL.Image.Image image mode=RGB size=32x32>, 6)"
      ]
     },
     "execution_count": 29,
     "metadata": {},
     "output_type": "execute_result"
    }
   ],
   "source": [
    "sample_pil = cifar10_train_pil[0]\n",
    "sample_pil"
   ]
  },
  {
   "cell_type": "code",
   "execution_count": 34,
   "id": "886b2956-f452-4ea0-a217-7f0d678df9e8",
   "metadata": {},
   "outputs": [
    {
     "name": "stdout",
     "output_type": "stream",
     "text": [
      "type(sample_pil[0]) = <class 'PIL.Image.Image'>\n"
     ]
    }
   ],
   "source": [
    "print(f\"{type(sample_pil[0]) = }\")"
   ]
  },
  {
   "cell_type": "code",
   "execution_count": 35,
   "id": "279cc8b7-21b3-45e1-852c-9797125b165a",
   "metadata": {},
   "outputs": [
    {
     "data": {
      "image/png": "[encoded data removed]",
      "text/plain": [
       "<Figure size 640x480 with 1 Axes>"
      ]
     },
     "metadata": {},
     "output_type": "display_data"
    }
   ],
   "source": [
    "plt.imshow(sample_pil[0])\n",
    "plt.axis(\"off\")\n",
    "plt.show()"
   ]
  },
  {
   "cell_type": "code",
   "execution_count": null,
   "id": "784acea9-ea85-4484-ae2c-239283168614",
   "metadata": {},
   "outputs": [],
   "source": []
  },
  {
   "cell_type": "markdown",
   "id": "e5373885-b25a-412e-acb6-c15faee51b74",
   "metadata": {
    "jp-MarkdownHeadingCollapsed": true
   },
   "source": [
    "#### TV Tensor Images"
   ]
  },
  {
   "cell_type": "code",
   "execution_count": 7,
   "id": "10d1fe6c-a897-4990-a9b9-a9ee8b99d88d",
   "metadata": {},
   "outputs": [
    {
     "data": {
      "text/plain": [
       "Dataset CIFAR10\n",
       "    Number of datapoints: 50000\n",
       "    Root location: /Users/daniellerothermel/drotherm/data/dr_gen/cifar10/\n",
       "    Split: Train\n",
       "    StandardTransform\n",
       "Transform: Compose(\n",
       "                 ToImage()\n",
       "                 ToDtype(scale=True)\n",
       "                 RandomCrop(size=(32, 32), padding=[4, 4, 4, 4], pad_if_needed=False, fill=0, padding_mode=constant)\n",
       "                 RandomHorizontalFlip(p=0.5)\n",
       "                 ColorJitter(brightness=(0.7529411764705882, 1.2470588235294118))\n",
       "                 Normalize(mean=[0.4914, 0.4822, 0.4465], std=[0.2023, 0.1994, 0.201], inplace=False)\n",
       "           )"
      ]
     },
     "execution_count": 7,
     "metadata": {},
     "output_type": "execute_result"
    }
   ],
   "source": [
    "# Test loading dataset with tensors\n",
    "cifar10_train_tvt = du.get_dataset(\n",
    "    cfg.data, cfg.paths, train=True, as_pil=False,\n",
    ")\n",
    "cifar10_train_tvt"
   ]
  },
  {
   "cell_type": "code",
   "execution_count": 8,
   "id": "4107db1c-3c7d-4db6-8f51-da2e884870a3",
   "metadata": {},
   "outputs": [
    {
     "data": {
      "text/plain": [
       "(Image([[[-2.4291, -2.4291, -2.4291,  ..., -0.4270, -0.4612, -0.6152],\n",
       "         [-2.4291, -2.4291, -2.4291,  ..., -0.3585, -0.3072, -0.2559],\n",
       "         [-2.4291, -2.4291, -2.4291,  ..., -0.1874, -0.1019, -0.2216],\n",
       "         ...,\n",
       "         [-2.4291, -2.4291, -2.4291,  ..., -2.4291, -2.4291, -2.4291],\n",
       "         [-2.4291, -2.4291, -2.4291,  ..., -2.4291, -2.4291, -2.4291],\n",
       "         [-2.4291, -2.4291, -2.4291,  ..., -2.4291, -2.4291, -2.4291]],\n",
       " \n",
       "        [[-2.4183, -2.4183, -2.4183,  ..., -1.1336, -1.2030, -1.3245],\n",
       "         [-2.4183, -2.4183, -2.4183,  ..., -1.0815, -1.0815, -1.0468],\n",
       "         [-2.4183, -2.4183, -2.4183,  ..., -0.9600, -0.8905, -0.9947],\n",
       "         ...,\n",
       "         [-2.4183, -2.4183, -2.4183,  ..., -2.4183, -2.4183, -2.4183],\n",
       "         [-2.4183, -2.4183, -2.4183,  ..., -2.4183, -2.4183, -2.4183],\n",
       "         [-2.4183, -2.4183, -2.4183,  ..., -2.4183, -2.4183, -2.4183]],\n",
       " \n",
       "        [[-2.2214, -2.2214, -2.2214,  ..., -1.6186, -1.6530, -1.7392],\n",
       "         [-2.2214, -2.2214, -2.2214,  ..., -1.6014, -1.6014, -1.5497],\n",
       "         [-2.2214, -2.2214, -2.2214,  ..., -1.4980, -1.4464, -1.5669],\n",
       "         ...,\n",
       "         [-2.2214, -2.2214, -2.2214,  ..., -2.2214, -2.2214, -2.2214],\n",
       "         [-2.2214, -2.2214, -2.2214,  ..., -2.2214, -2.2214, -2.2214],\n",
       "         [-2.2214, -2.2214, -2.2214,  ..., -2.2214, -2.2214, -2.2214]]], ),\n",
       " 6)"
      ]
     },
     "execution_count": 8,
     "metadata": {},
     "output_type": "execute_result"
    }
   ],
   "source": [
    "sample_tvt = cifar10_train_tvt[0]\n",
    "sample_tvt"
   ]
  },
  {
   "cell_type": "code",
   "execution_count": 9,
   "id": "ed3f16e8-38f3-4c5e-a2dd-9fdc0d1d3dd1",
   "metadata": {},
   "outputs": [
    {
     "data": {
      "image/png": "[encoded data removed]",
      "text/plain": [
       "<Figure size 640x480 with 1 Axes>"
      ]
     },
     "metadata": {},
     "output_type": "display_data"
    }
   ],
   "source": [
    "plot([sample_tvt[0]])"
   ]
  },
  {
   "cell_type": "code",
   "execution_count": null,
   "id": "bcb7fe4c-989d-4609-be8f-918f6fb9b199",
   "metadata": {},
   "outputs": [],
   "source": []
  },
  {
   "cell_type": "markdown",
   "id": "d886b0a1-320d-4129-9642-aebc092500ad",
   "metadata": {},
   "source": [
    "### Test out Dataloader"
   ]
  },
  {
   "cell_type": "code",
   "execution_count": 10,
   "id": "cd7953e0-78fa-4714-8cbe-8a088e448dc5",
   "metadata": {},
   "outputs": [],
   "source": [
    "cifar10_train = du.get_dataset(\n",
    "    cfg.data, cfg.paths, train=True, as_pil=False,\n",
    ")"
   ]
  },
  {
   "cell_type": "code",
   "execution_count": 11,
   "id": "375b314c-75a2-4e34-a85a-9a13762d334d",
   "metadata": {},
   "outputs": [],
   "source": [
    "# Instead of using shuffle explicitly handle it via choosing samplers\n",
    "dl = torch.utils.data.DataLoader(\n",
    "    cifar10_train,\n",
    "    batch_size=1,\n",
    "    sampler=torch.utils.data.RandomSampler(cifar10_train),\n",
    "    #test\n",
    "    #sampler=torch.utils.data.SequentialSampler(cifar10_train),\n",
    "    num_workers=cfg.data.num_workers,\n",
    "    collate_fn=torch.utils.data.dataloader.default_collate,\n",
    "    pin_memory=True,\n",
    "    # Cannot seed workers via jlab\n",
    "    #worker_init_fn=lambda wid: numpy.random.seed(torch.initial_seed() % 2**32) and random.seed(torch.initial_seed() % 2**32),\n",
    "    generator=g,\n",
    ")"
   ]
  },
  {
   "cell_type": "code",
   "execution_count": null,
   "id": "9e79dfa2-6226-435f-a58e-e132a9787fa7",
   "metadata": {},
   "outputs": [],
   "source": []
  },
  {
   "cell_type": "code",
   "execution_count": 20,
   "id": "b1d3fc5d-5c3f-4c23-bdb9-47818a31eb32",
   "metadata": {},
   "outputs": [
    {
     "name": "stdout",
     "output_type": "stream",
     "text": [
      "Label: 1\n"
     ]
    },
    {
     "data": {
      "image/png": "[encoded data removed]",
      "text/plain": [
       "<Figure size 640x480 with 1 Axes>"
      ]
     },
     "metadata": {},
     "output_type": "display_data"
    }
   ],
   "source": [
    "train_features, train_labels = next(iter(dl))\n",
    "print(f\"Label: {train_labels[0]}\")\n",
    "plot([train_features[0].squeeze()])"
   ]
  },
  {
   "cell_type": "code",
   "execution_count": null,
   "id": "235ccb24-f97d-453f-b47b-66bd9724e1d9",
   "metadata": {},
   "outputs": [],
   "source": []
  },
  {
   "cell_type": "code",
   "execution_count": 12,
   "id": "aa5ffce4-f506-407c-8973-f04c0f628eef",
   "metadata": {},
   "outputs": [
    {
     "name": "stdout",
     "output_type": "stream",
     "text": [
      "Label: 9\n"
     ]
    },
    {
     "data": {
      "image/png": "[encoded data removed]",
      "text/plain": [
       "<Figure size 640x480 with 1 Axes>"
      ]
     },
     "metadata": {},
     "output_type": "display_data"
    }
   ],
   "source": [
    "train_features, train_labels = next(iter(dl))\n",
    "print(f\"Label: {train_labels[0]}\")\n",
    "plot([train_features[0].squeeze()])"
   ]
  },
  {
   "cell_type": "code",
   "execution_count": null,
   "id": "bcd5abc6-28ff-417e-94b6-8cca14f5c515",
   "metadata": {},
   "outputs": [],
   "source": []
  }
 ],
 "metadata": {
  "kernelspec": {
   "display_name": "Python 3 (ipykernel)",
   "language": "python",
   "name": "python3"
  },
  "language_info": {
   "codemirror_mode": {
    "name": "ipython",
    "version": 3
   },
   "file_extension": ".py",
   "mimetype": "text/x-python",
   "name": "python",
   "nbconvert_exporter": "python",
   "pygments_lexer": "ipython3",
   "version": "3.12.8"
  }
 },
 "nbformat": 4,
 "nbformat_minor": 5
}
